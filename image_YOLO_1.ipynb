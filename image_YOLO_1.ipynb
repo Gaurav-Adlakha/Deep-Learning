{
  "nbformat": 4,
  "nbformat_minor": 0,
  "metadata": {
    "colab": {
      "name": "image detection",
      "version": "0.3.2",
      "provenance": [],
      "collapsed_sections": [],
      "toc_visible": true,
      "include_colab_link": true
    },
    "kernelspec": {
      "name": "python3",
      "display_name": "Python 3"
    }
  },
  "cells": [
    {
      "cell_type": "markdown",
      "metadata": {
        "id": "view-in-github",
        "colab_type": "text"
      },
      "source": [
        "<a href=\"https://colab.research.google.com/github/Gaurav-Adlakha/Deep-Learning/blob/master/image_YOLO_1.ipynb\" target=\"_parent\"><img src=\"https://colab.research.google.com/assets/colab-badge.svg\" alt=\"Open In Colab\"/></a>"
      ]
    },
    {
      "metadata": {
        "id": "lOP3kDgSk8c_",
        "colab_type": "code",
        "outputId": "b00b9012-9714-4691-eaed-d0cdde9a5652",
        "colab": {
          "base_uri": "https://localhost:8080/",
          "height": 1216
        }
      },
      "cell_type": "code",
      "source": [
        "!pip install pillow\n",
        "!pip install lxml\n",
        "!pip install jupyter\n",
        "!pip install matplotlib"
      ],
      "execution_count": 0,
      "outputs": [
        {
          "output_type": "stream",
          "text": [
            "Requirement already satisfied: pillow in /usr/local/lib/python3.6/dist-packages (4.0.0)\n",
            "Requirement already satisfied: olefile in /usr/local/lib/python3.6/dist-packages (from pillow) (0.46)\n",
            "Collecting lxml\n",
            "\u001b[?25l  Downloading https://files.pythonhosted.org/packages/03/a4/9eea8035fc7c7670e5eab97f34ff2ef0ddd78a491bf96df5accedb0e63f5/lxml-4.2.5-cp36-cp36m-manylinux1_x86_64.whl (5.8MB)\n",
            "\u001b[K    100% |████████████████████████████████| 5.8MB 4.1MB/s \n",
            "\u001b[?25hInstalling collected packages: lxml\n",
            "Successfully installed lxml-4.2.5\n",
            "Collecting jupyter\n",
            "  Downloading https://files.pythonhosted.org/packages/83/df/0f5dd132200728a86190397e1ea87cd76244e42d39ec5e88efd25b2abd7e/jupyter-1.0.0-py2.py3-none-any.whl\n",
            "Requirement already satisfied: ipykernel in /usr/local/lib/python3.6/dist-packages (from jupyter) (4.6.1)\n",
            "Requirement already satisfied: notebook in /usr/local/lib/python3.6/dist-packages (from jupyter) (5.2.2)\n",
            "Requirement already satisfied: nbconvert in /usr/local/lib/python3.6/dist-packages (from jupyter) (5.4.0)\n",
            "Collecting ipywidgets (from jupyter)\n",
            "\u001b[?25l  Downloading https://files.pythonhosted.org/packages/30/9a/a008c7b1183fac9e52066d80a379b3c64eab535bd9d86cdc29a0b766fd82/ipywidgets-7.4.2-py2.py3-none-any.whl (111kB)\n",
            "\u001b[K    100% |████████████████████████████████| 112kB 2.7MB/s \n",
            "\u001b[?25hCollecting jupyter-console (from jupyter)\n",
            "  Downloading https://files.pythonhosted.org/packages/cb/ee/6374ae8c21b7d0847f9c3722dcdfac986b8e54fa9ad9ea66e1eb6320d2b8/jupyter_console-6.0.0-py2.py3-none-any.whl\n",
            "Collecting qtconsole (from jupyter)\n",
            "\u001b[?25l  Downloading https://files.pythonhosted.org/packages/e0/7a/8aefbc0ed078dec7951ac9a06dcd1869243ecd7bcbce26fa47bf5e469a8f/qtconsole-4.4.3-py2.py3-none-any.whl (113kB)\n",
            "\u001b[K    100% |████████████████████████████████| 122kB 4.8MB/s \n",
            "\u001b[?25hRequirement already satisfied: tornado>=4.0 in /usr/local/lib/python3.6/dist-packages (from ipykernel->jupyter) (4.5.3)\n",
            "Requirement already satisfied: jupyter-client in /usr/local/lib/python3.6/dist-packages (from ipykernel->jupyter) (5.2.3)\n",
            "Requirement already satisfied: ipython>=4.0.0 in /usr/local/lib/python3.6/dist-packages (from ipykernel->jupyter) (5.5.0)\n",
            "Requirement already satisfied: traitlets>=4.1.0 in /usr/local/lib/python3.6/dist-packages (from ipykernel->jupyter) (4.3.2)\n",
            "Requirement already satisfied: terminado>=0.3.3; sys_platform != \"win32\" in /usr/local/lib/python3.6/dist-packages (from notebook->jupyter) (0.8.1)\n",
            "Requirement already satisfied: ipython-genutils in /usr/local/lib/python3.6/dist-packages (from notebook->jupyter) (0.2.0)\n",
            "Requirement already satisfied: nbformat in /usr/local/lib/python3.6/dist-packages (from notebook->jupyter) (4.4.0)\n",
            "Requirement already satisfied: jupyter-core in /usr/local/lib/python3.6/dist-packages (from notebook->jupyter) (4.4.0)\n",
            "Requirement already satisfied: jinja2 in /usr/local/lib/python3.6/dist-packages (from notebook->jupyter) (2.10)\n",
            "Requirement already satisfied: defusedxml in /usr/local/lib/python3.6/dist-packages (from nbconvert->jupyter) (0.5.0)\n",
            "Requirement already satisfied: testpath in /usr/local/lib/python3.6/dist-packages (from nbconvert->jupyter) (0.4.2)\n",
            "Requirement already satisfied: bleach in /usr/local/lib/python3.6/dist-packages (from nbconvert->jupyter) (3.0.2)\n",
            "Requirement already satisfied: pandocfilters>=1.4.1 in /usr/local/lib/python3.6/dist-packages (from nbconvert->jupyter) (1.4.2)\n",
            "Requirement already satisfied: entrypoints>=0.2.2 in /usr/local/lib/python3.6/dist-packages (from nbconvert->jupyter) (0.2.3)\n",
            "Requirement already satisfied: mistune>=0.8.1 in /usr/local/lib/python3.6/dist-packages (from nbconvert->jupyter) (0.8.4)\n",
            "Requirement already satisfied: pygments in /usr/local/lib/python3.6/dist-packages (from nbconvert->jupyter) (2.1.3)\n",
            "Collecting widgetsnbextension~=3.4.0 (from ipywidgets->jupyter)\n",
            "\u001b[?25l  Downloading https://files.pythonhosted.org/packages/8a/81/35789a3952afb48238289171728072d26d6e76649ddc8b3588657a2d78c1/widgetsnbextension-3.4.2-py2.py3-none-any.whl (2.2MB)\n",
            "\u001b[K    100% |████████████████████████████████| 2.2MB 7.0MB/s \n",
            "\u001b[?25hCollecting prompt-toolkit<2.1.0,>=2.0.0 (from jupyter-console->jupyter)\n",
            "\u001b[?25l  Downloading https://files.pythonhosted.org/packages/d1/e6/adb3be5576f5d27c6faa33f1e9fea8fe5dbd9351db12148de948507e352c/prompt_toolkit-2.0.7-py3-none-any.whl (338kB)\n",
            "\u001b[K    100% |████████████████████████████████| 348kB 13.4MB/s \n",
            "\u001b[?25hRequirement already satisfied: pyzmq>=13 in /usr/local/lib/python3.6/dist-packages (from jupyter-client->ipykernel->jupyter) (17.0.0)\n",
            "Requirement already satisfied: python-dateutil>=2.1 in /usr/local/lib/python3.6/dist-packages (from jupyter-client->ipykernel->jupyter) (2.5.3)\n",
            "Requirement already satisfied: pexpect; sys_platform != \"win32\" in /usr/local/lib/python3.6/dist-packages (from ipython>=4.0.0->ipykernel->jupyter) (4.6.0)\n",
            "Requirement already satisfied: pickleshare in /usr/local/lib/python3.6/dist-packages (from ipython>=4.0.0->ipykernel->jupyter) (0.7.5)\n",
            "Requirement already satisfied: simplegeneric>0.8 in /usr/local/lib/python3.6/dist-packages (from ipython>=4.0.0->ipykernel->jupyter) (0.8.1)\n",
            "Requirement already satisfied: setuptools>=18.5 in /usr/local/lib/python3.6/dist-packages (from ipython>=4.0.0->ipykernel->jupyter) (40.6.2)\n",
            "Requirement already satisfied: decorator in /usr/local/lib/python3.6/dist-packages (from ipython>=4.0.0->ipykernel->jupyter) (4.3.0)\n",
            "Requirement already satisfied: six in /usr/local/lib/python3.6/dist-packages (from traitlets>=4.1.0->ipykernel->jupyter) (1.11.0)\n",
            "Requirement already satisfied: ptyprocess; os_name != \"nt\" in /usr/local/lib/python3.6/dist-packages (from terminado>=0.3.3; sys_platform != \"win32\"->notebook->jupyter) (0.6.0)\n",
            "Requirement already satisfied: jsonschema!=2.5.0,>=2.4 in /usr/local/lib/python3.6/dist-packages (from nbformat->notebook->jupyter) (2.6.0)\n",
            "Requirement already satisfied: MarkupSafe>=0.23 in /usr/local/lib/python3.6/dist-packages (from jinja2->notebook->jupyter) (1.1.0)\n",
            "Requirement already satisfied: webencodings in /usr/local/lib/python3.6/dist-packages (from bleach->nbconvert->jupyter) (0.5.1)\n",
            "Requirement already satisfied: wcwidth in /usr/local/lib/python3.6/dist-packages (from prompt-toolkit<2.1.0,>=2.0.0->jupyter-console->jupyter) (0.1.7)\n",
            "\u001b[31mipython 5.5.0 has requirement prompt-toolkit<2.0.0,>=1.0.4, but you'll have prompt-toolkit 2.0.7 which is incompatible.\u001b[0m\n",
            "Installing collected packages: widgetsnbextension, ipywidgets, prompt-toolkit, jupyter-console, qtconsole, jupyter\n",
            "  Found existing installation: prompt-toolkit 1.0.15\n",
            "    Uninstalling prompt-toolkit-1.0.15:\n",
            "      Successfully uninstalled prompt-toolkit-1.0.15\n",
            "Successfully installed ipywidgets-7.4.2 jupyter-1.0.0 jupyter-console-6.0.0 prompt-toolkit-2.0.7 qtconsole-4.4.3 widgetsnbextension-3.4.2\n",
            "Requirement already satisfied: matplotlib in /usr/local/lib/python3.6/dist-packages (2.1.2)\n",
            "Requirement already satisfied: cycler>=0.10 in /usr/local/lib/python3.6/dist-packages (from matplotlib) (0.10.0)\n",
            "Requirement already satisfied: python-dateutil>=2.1 in /usr/local/lib/python3.6/dist-packages (from matplotlib) (2.5.3)\n",
            "Requirement already satisfied: six>=1.10 in /usr/local/lib/python3.6/dist-packages (from matplotlib) (1.11.0)\n",
            "Requirement already satisfied: pytz in /usr/local/lib/python3.6/dist-packages (from matplotlib) (2018.7)\n",
            "Requirement already satisfied: pyparsing!=2.0.4,!=2.1.2,!=2.1.6,>=2.0.1 in /usr/local/lib/python3.6/dist-packages (from matplotlib) (2.3.0)\n",
            "Requirement already satisfied: numpy>=1.7.1 in /usr/local/lib/python3.6/dist-packages (from matplotlib) (1.14.6)\n"
          ],
          "name": "stdout"
        }
      ]
    },
    {
      "metadata": {
        "id": "g4z51TZVlJ0c",
        "colab_type": "code",
        "outputId": "ba27fecd-92ae-42b4-e126-5168914c7b4a",
        "colab": {
          "base_uri": "https://localhost:8080/",
          "height": 104
        }
      },
      "cell_type": "code",
      "source": [
        "! git clone https://github.com/thtrieu/darkflow.git"
      ],
      "execution_count": 0,
      "outputs": [
        {
          "output_type": "stream",
          "text": [
            "Cloning into 'darkflow'...\n",
            "remote: Enumerating objects: 2706, done.\u001b[K\n",
            "remote: Total 2706 (delta 0), reused 0 (delta 0), pack-reused 2706\u001b[K\n",
            "Receiving objects: 100% (2706/2706), 18.74 MiB | 37.12 MiB/s, done.\n",
            "Resolving deltas: 100% (1781/1781), done.\n"
          ],
          "name": "stdout"
        }
      ]
    },
    {
      "metadata": {
        "id": "xiSbI9Arlyfy",
        "colab_type": "code",
        "outputId": "eacc036a-1226-4ede-8d8a-d5a5d9a7952e",
        "colab": {
          "base_uri": "https://localhost:8080/",
          "height": 35
        }
      },
      "cell_type": "code",
      "source": [
        "!pwd"
      ],
      "execution_count": 0,
      "outputs": [
        {
          "output_type": "stream",
          "text": [
            "/content\n"
          ],
          "name": "stdout"
        }
      ]
    },
    {
      "metadata": {
        "id": "kC1WJeKzmoHx",
        "colab_type": "code",
        "outputId": "511b22d6-c969-4bf6-c778-eb1c620392ca",
        "colab": {
          "base_uri": "https://localhost:8080/",
          "height": 35
        }
      },
      "cell_type": "code",
      "source": [
        "pwd"
      ],
      "execution_count": 0,
      "outputs": [
        {
          "output_type": "execute_result",
          "data": {
            "text/plain": [
              "'/content'"
            ]
          },
          "metadata": {
            "tags": []
          },
          "execution_count": 4
        }
      ]
    },
    {
      "metadata": {
        "id": "2-B5LgqgmpfE",
        "colab_type": "code",
        "outputId": "c55577d6-0f14-4970-ebe5-c489da590758",
        "colab": {
          "base_uri": "https://localhost:8080/",
          "height": 35
        }
      },
      "cell_type": "code",
      "source": [
        "!ls"
      ],
      "execution_count": 0,
      "outputs": [
        {
          "output_type": "stream",
          "text": [
            "darkflow  sample_data\n"
          ],
          "name": "stdout"
        }
      ]
    },
    {
      "metadata": {
        "id": "WdS-7FhKmqUd",
        "colab_type": "code",
        "outputId": "793a5884-a594-4713-9b38-cdbad7b26b55",
        "colab": {
          "base_uri": "https://localhost:8080/",
          "height": 35
        }
      },
      "cell_type": "code",
      "source": [
        "cd darkflow/\n"
      ],
      "execution_count": 0,
      "outputs": [
        {
          "output_type": "stream",
          "text": [
            "/content/darkflow\n"
          ],
          "name": "stdout"
        }
      ]
    },
    {
      "metadata": {
        "id": "3XC5k6gXmwR6",
        "colab_type": "code",
        "outputId": "ae9fab9b-aab5-4815-da7e-a118392ee77f",
        "colab": {
          "base_uri": "https://localhost:8080/",
          "height": 52
        }
      },
      "cell_type": "code",
      "source": [
        "!ls"
      ],
      "execution_count": 0,
      "outputs": [
        {
          "output_type": "stream",
          "text": [
            "cfg\t  demo.gif  labels.txt\tpreview.png  sample_img  test\n",
            "darkflow  flow\t    LICENSE\tREADME.md    setup.py\n"
          ],
          "name": "stdout"
        }
      ]
    },
    {
      "metadata": {
        "id": "4YduIOaomxLT",
        "colab_type": "code",
        "outputId": "50ed2c06-eafe-4547-8bdd-a76c29cd55f1",
        "colab": {
          "base_uri": "https://localhost:8080/",
          "height": 956
        }
      },
      "cell_type": "code",
      "source": [
        "!python setup.py build_ext --inplace\n"
      ],
      "execution_count": 0,
      "outputs": [
        {
          "output_type": "stream",
          "text": [
            "Compiling darkflow/cython_utils/nms.pyx because it changed.\n",
            "Compiling darkflow/cython_utils/cy_yolo2_findboxes.pyx because it changed.\n",
            "Compiling darkflow/cython_utils/cy_yolo_findboxes.pyx because it changed.\n",
            "[1/3] Cythonizing darkflow/cython_utils/cy_yolo2_findboxes.pyx\n",
            "/usr/local/lib/python3.6/dist-packages/Cython/Compiler/Main.py:367: FutureWarning: Cython directive 'language_level' not set, using 2 for now (Py2). This will change in a later release! File: /content/darkflow/darkflow/cython_utils/cy_yolo2_findboxes.pyx\n",
            "  tree = Parsing.p_module(s, pxd, full_module_name)\n",
            "[2/3] Cythonizing darkflow/cython_utils/cy_yolo_findboxes.pyx\n",
            "/usr/local/lib/python3.6/dist-packages/Cython/Compiler/Main.py:367: FutureWarning: Cython directive 'language_level' not set, using 2 for now (Py2). This will change in a later release! File: /content/darkflow/darkflow/cython_utils/cy_yolo_findboxes.pyx\n",
            "  tree = Parsing.p_module(s, pxd, full_module_name)\n",
            "[3/3] Cythonizing darkflow/cython_utils/nms.pyx\n",
            "/usr/local/lib/python3.6/dist-packages/Cython/Compiler/Main.py:367: FutureWarning: Cython directive 'language_level' not set, using 2 for now (Py2). This will change in a later release! File: /content/darkflow/darkflow/cython_utils/nms.pxd\n",
            "  tree = Parsing.p_module(s, pxd, full_module_name)\n",
            "running build_ext\n",
            "building 'darkflow.cython_utils.nms' extension\n",
            "creating build\n",
            "creating build/temp.linux-x86_64-3.6\n",
            "creating build/temp.linux-x86_64-3.6/darkflow\n",
            "creating build/temp.linux-x86_64-3.6/darkflow/cython_utils\n",
            "x86_64-linux-gnu-gcc -pthread -DNDEBUG -g -fwrapv -O2 -Wall -g -fstack-protector-strong -Wformat -Werror=format-security -Wdate-time -D_FORTIFY_SOURCE=2 -fPIC -I/usr/local/lib/python3.6/dist-packages/numpy/core/include -I/usr/include/python3.6m -c darkflow/cython_utils/nms.c -o build/temp.linux-x86_64-3.6/darkflow/cython_utils/nms.o\n",
            "In file included from \u001b[01m\u001b[K/usr/local/lib/python3.6/dist-packages/numpy/core/include/numpy/ndarraytypes.h:1816:0\u001b[m\u001b[K,\n",
            "                 from \u001b[01m\u001b[K/usr/local/lib/python3.6/dist-packages/numpy/core/include/numpy/ndarrayobject.h:18\u001b[m\u001b[K,\n",
            "                 from \u001b[01m\u001b[K/usr/local/lib/python3.6/dist-packages/numpy/core/include/numpy/arrayobject.h:4\u001b[m\u001b[K,\n",
            "                 from \u001b[01m\u001b[Kdarkflow/cython_utils/nms.c:632\u001b[m\u001b[K:\n",
            "\u001b[01m\u001b[K/usr/local/lib/python3.6/dist-packages/numpy/core/include/numpy/npy_1_7_deprecated_api.h:15:2:\u001b[m\u001b[K \u001b[01;35m\u001b[Kwarning: \u001b[m\u001b[K#warning \"Using deprecated NumPy API, disable it by \" \"#defining NPY_NO_DEPRECATED_API NPY_1_7_API_VERSION\" [\u001b[01;35m\u001b[K-Wcpp\u001b[m\u001b[K]\n",
            " #\u001b[01;35m\u001b[Kwarning\u001b[m\u001b[K \"Using deprecated NumPy API, disable it by \" \\\n",
            "  \u001b[01;35m\u001b[K^~~~~~~\u001b[m\u001b[K\n",
            "creating build/lib.linux-x86_64-3.6\n",
            "creating build/lib.linux-x86_64-3.6/darkflow\n",
            "creating build/lib.linux-x86_64-3.6/darkflow/cython_utils\n",
            "x86_64-linux-gnu-gcc -pthread -shared -Wl,-O1 -Wl,-Bsymbolic-functions -Wl,-Bsymbolic-functions -Wl,-z,relro -Wl,-Bsymbolic-functions -Wl,-z,relro -g -fstack-protector-strong -Wformat -Werror=format-security -Wdate-time -D_FORTIFY_SOURCE=2 build/temp.linux-x86_64-3.6/darkflow/cython_utils/nms.o -lm -o build/lib.linux-x86_64-3.6/darkflow/cython_utils/nms.cpython-36m-x86_64-linux-gnu.so\n",
            "building 'darkflow.cython_utils.cy_yolo2_findboxes' extension\n",
            "x86_64-linux-gnu-gcc -pthread -DNDEBUG -g -fwrapv -O2 -Wall -g -fstack-protector-strong -Wformat -Werror=format-security -Wdate-time -D_FORTIFY_SOURCE=2 -fPIC -I/usr/local/lib/python3.6/dist-packages/numpy/core/include -I/usr/include/python3.6m -c darkflow/cython_utils/cy_yolo2_findboxes.c -o build/temp.linux-x86_64-3.6/darkflow/cython_utils/cy_yolo2_findboxes.o\n",
            "In file included from \u001b[01m\u001b[K/usr/local/lib/python3.6/dist-packages/numpy/core/include/numpy/ndarraytypes.h:1816:0\u001b[m\u001b[K,\n",
            "                 from \u001b[01m\u001b[K/usr/local/lib/python3.6/dist-packages/numpy/core/include/numpy/ndarrayobject.h:18\u001b[m\u001b[K,\n",
            "                 from \u001b[01m\u001b[K/usr/local/lib/python3.6/dist-packages/numpy/core/include/numpy/arrayobject.h:4\u001b[m\u001b[K,\n",
            "                 from \u001b[01m\u001b[Kdarkflow/cython_utils/cy_yolo2_findboxes.c:632\u001b[m\u001b[K:\n",
            "\u001b[01m\u001b[K/usr/local/lib/python3.6/dist-packages/numpy/core/include/numpy/npy_1_7_deprecated_api.h:15:2:\u001b[m\u001b[K \u001b[01;35m\u001b[Kwarning: \u001b[m\u001b[K#warning \"Using deprecated NumPy API, disable it by \" \"#defining NPY_NO_DEPRECATED_API NPY_1_7_API_VERSION\" [\u001b[01;35m\u001b[K-Wcpp\u001b[m\u001b[K]\n",
            " #\u001b[01;35m\u001b[Kwarning\u001b[m\u001b[K \"Using deprecated NumPy API, disable it by \" \\\n",
            "  \u001b[01;35m\u001b[K^~~~~~~\u001b[m\u001b[K\n",
            "x86_64-linux-gnu-gcc -pthread -shared -Wl,-O1 -Wl,-Bsymbolic-functions -Wl,-Bsymbolic-functions -Wl,-z,relro -Wl,-Bsymbolic-functions -Wl,-z,relro -g -fstack-protector-strong -Wformat -Werror=format-security -Wdate-time -D_FORTIFY_SOURCE=2 build/temp.linux-x86_64-3.6/darkflow/cython_utils/cy_yolo2_findboxes.o -lm -o build/lib.linux-x86_64-3.6/darkflow/cython_utils/cy_yolo2_findboxes.cpython-36m-x86_64-linux-gnu.so\n",
            "building 'darkflow.cython_utils.cy_yolo_findboxes' extension\n",
            "x86_64-linux-gnu-gcc -pthread -DNDEBUG -g -fwrapv -O2 -Wall -g -fstack-protector-strong -Wformat -Werror=format-security -Wdate-time -D_FORTIFY_SOURCE=2 -fPIC -I/usr/local/lib/python3.6/dist-packages/numpy/core/include -I/usr/include/python3.6m -c darkflow/cython_utils/cy_yolo_findboxes.c -o build/temp.linux-x86_64-3.6/darkflow/cython_utils/cy_yolo_findboxes.o\n",
            "In file included from \u001b[01m\u001b[K/usr/local/lib/python3.6/dist-packages/numpy/core/include/numpy/ndarraytypes.h:1816:0\u001b[m\u001b[K,\n",
            "                 from \u001b[01m\u001b[K/usr/local/lib/python3.6/dist-packages/numpy/core/include/numpy/ndarrayobject.h:18\u001b[m\u001b[K,\n",
            "                 from \u001b[01m\u001b[K/usr/local/lib/python3.6/dist-packages/numpy/core/include/numpy/arrayobject.h:4\u001b[m\u001b[K,\n",
            "                 from \u001b[01m\u001b[Kdarkflow/cython_utils/cy_yolo_findboxes.c:632\u001b[m\u001b[K:\n",
            "\u001b[01m\u001b[K/usr/local/lib/python3.6/dist-packages/numpy/core/include/numpy/npy_1_7_deprecated_api.h:15:2:\u001b[m\u001b[K \u001b[01;35m\u001b[Kwarning: \u001b[m\u001b[K#warning \"Using deprecated NumPy API, disable it by \" \"#defining NPY_NO_DEPRECATED_API NPY_1_7_API_VERSION\" [\u001b[01;35m\u001b[K-Wcpp\u001b[m\u001b[K]\n",
            " #\u001b[01;35m\u001b[Kwarning\u001b[m\u001b[K \"Using deprecated NumPy API, disable it by \" \\\n",
            "  \u001b[01;35m\u001b[K^~~~~~~\u001b[m\u001b[K\n",
            "x86_64-linux-gnu-gcc -pthread -shared -Wl,-O1 -Wl,-Bsymbolic-functions -Wl,-Bsymbolic-functions -Wl,-z,relro -Wl,-Bsymbolic-functions -Wl,-z,relro -g -fstack-protector-strong -Wformat -Werror=format-security -Wdate-time -D_FORTIFY_SOURCE=2 build/temp.linux-x86_64-3.6/darkflow/cython_utils/cy_yolo_findboxes.o -lm -o build/lib.linux-x86_64-3.6/darkflow/cython_utils/cy_yolo_findboxes.cpython-36m-x86_64-linux-gnu.so\n",
            "copying build/lib.linux-x86_64-3.6/darkflow/cython_utils/nms.cpython-36m-x86_64-linux-gnu.so -> darkflow/cython_utils\n",
            "copying build/lib.linux-x86_64-3.6/darkflow/cython_utils/cy_yolo2_findboxes.cpython-36m-x86_64-linux-gnu.so -> darkflow/cython_utils\n",
            "copying build/lib.linux-x86_64-3.6/darkflow/cython_utils/cy_yolo_findboxes.cpython-36m-x86_64-linux-gnu.so -> darkflow/cython_utils\n"
          ],
          "name": "stdout"
        }
      ]
    },
    {
      "metadata": {
        "id": "Pc6SjvH4m3nl",
        "colab_type": "code",
        "outputId": "77bdd886-8ca6-4174-f3ca-760c1f3ab5f7",
        "colab": {
          "base_uri": "https://localhost:8080/",
          "height": 124
        }
      },
      "cell_type": "code",
      "source": [
        "!pip install Cython"
      ],
      "execution_count": 0,
      "outputs": [
        {
          "output_type": "stream",
          "text": [
            "Collecting Cython\n",
            "\u001b[?25l  Downloading https://files.pythonhosted.org/packages/64/3f/cac281f3f019b825bbc03fa8cb7eb03d9c355f4aa9eef978279a4966cb21/Cython-0.29-cp36-cp36m-manylinux1_x86_64.whl (2.1MB)\n",
            "\u001b[K    100% |████████████████████████████████| 2.1MB 11.4MB/s \n",
            "\u001b[?25hInstalling collected packages: Cython\n",
            "Successfully installed Cython-0.29\n"
          ],
          "name": "stdout"
        }
      ]
    },
    {
      "metadata": {
        "id": "6dg319o2nCg8",
        "colab_type": "code",
        "outputId": "74e02cea-0ffb-4c9b-9c85-3a32cc1e885c",
        "colab": {
          "base_uri": "https://localhost:8080/",
          "height": 52
        }
      },
      "cell_type": "code",
      "source": [
        "ls"
      ],
      "execution_count": 0,
      "outputs": [
        {
          "output_type": "stream",
          "text": [
            "\u001b[0m\u001b[01;34mbuild\u001b[0m/  \u001b[01;34mdarkflow\u001b[0m/  \u001b[01;32mflow\u001b[0m*       LICENSE      README.md    setup.py\n",
            "\u001b[01;34mcfg\u001b[0m/    demo.gif   labels.txt  preview.png  \u001b[01;34msample_img\u001b[0m/  \u001b[01;34mtest\u001b[0m/\n"
          ],
          "name": "stdout"
        }
      ]
    },
    {
      "metadata": {
        "id": "wjEwCxHTnNqZ",
        "colab_type": "code",
        "colab": {}
      },
      "cell_type": "code",
      "source": [
        "mkdir bin"
      ],
      "execution_count": 0,
      "outputs": []
    },
    {
      "metadata": {
        "id": "Jl3W914AnnLH",
        "colab_type": "code",
        "outputId": "897425a5-5754-4a2b-aacd-5eab7ddc10e2",
        "colab": {
          "base_uri": "https://localhost:8080/",
          "height": 35
        }
      },
      "cell_type": "code",
      "source": [
        "cd  bin\n"
      ],
      "execution_count": 0,
      "outputs": [
        {
          "output_type": "stream",
          "text": [
            "/content/darkflow/bin\n"
          ],
          "name": "stdout"
        }
      ]
    },
    {
      "metadata": {
        "id": "SVF-laKvnrjs",
        "colab_type": "code",
        "colab": {}
      },
      "cell_type": "code",
      "source": [
        "ls"
      ],
      "execution_count": 0,
      "outputs": []
    },
    {
      "metadata": {
        "id": "e1uAhGlGoG0k",
        "colab_type": "code",
        "outputId": "5baea6d5-fb74-489d-c1d3-ade56bd79bed",
        "colab": {
          "base_uri": "https://localhost:8080/",
          "height": 35
        }
      },
      "cell_type": "code",
      "source": [
        "cd .."
      ],
      "execution_count": 0,
      "outputs": [
        {
          "output_type": "stream",
          "text": [
            "/content/darkflow\n"
          ],
          "name": "stdout"
        }
      ]
    },
    {
      "metadata": {
        "id": "CrgpxRRyoIWs",
        "colab_type": "code",
        "outputId": "01d7b1f6-f77d-42de-c9af-0ae6f449cc1a",
        "colab": {
          "base_uri": "https://localhost:8080/",
          "height": 52
        }
      },
      "cell_type": "code",
      "source": [
        "ls"
      ],
      "execution_count": 0,
      "outputs": [
        {
          "output_type": "stream",
          "text": [
            "\u001b[0m\u001b[01;34mbin\u001b[0m/    \u001b[01;34mcfg\u001b[0m/       demo.gif  labels.txt  preview.png  \u001b[01;34msample_img\u001b[0m/  \u001b[01;34mtest\u001b[0m/\n",
            "\u001b[01;34mbuild\u001b[0m/  \u001b[01;34mdarkflow\u001b[0m/  \u001b[01;32mflow\u001b[0m*     LICENSE     README.md    setup.py\n"
          ],
          "name": "stdout"
        }
      ]
    },
    {
      "metadata": {
        "id": "vd6PUoEfpdpv",
        "colab_type": "text"
      },
      "cell_type": "markdown",
      "source": [
        ""
      ]
    },
    {
      "metadata": {
        "id": "8avLGR3AoJQd",
        "colab_type": "code",
        "outputId": "71e81a46-7d95-4dca-c936-b326e70994b7",
        "colab": {
          "base_uri": "https://localhost:8080/",
          "height": 35
        }
      },
      "cell_type": "code",
      "source": [
        "cd  test/"
      ],
      "execution_count": 0,
      "outputs": [
        {
          "output_type": "stream",
          "text": [
            "/content/darkflow/test\n"
          ],
          "name": "stdout"
        }
      ]
    },
    {
      "metadata": {
        "id": "0ryOgmn3oMsJ",
        "colab_type": "code",
        "outputId": "46a87a8c-5a07-49e3-a68b-80926e886ffc",
        "colab": {
          "base_uri": "https://localhost:8080/",
          "height": 35
        }
      },
      "cell_type": "code",
      "source": [
        "ls"
      ],
      "execution_count": 0,
      "outputs": [
        {
          "output_type": "stream",
          "text": [
            "requirements-testing.txt  test_darkflow.py  \u001b[0m\u001b[01;34mtraining\u001b[0m/\n"
          ],
          "name": "stdout"
        }
      ]
    },
    {
      "metadata": {
        "id": "YcxtnHeGoNn6",
        "colab_type": "code",
        "outputId": "2315df37-2b49-479d-a22a-2c5d42169787",
        "colab": {
          "base_uri": "https://localhost:8080/",
          "height": 35
        }
      },
      "cell_type": "code",
      "source": [
        "cd .."
      ],
      "execution_count": 0,
      "outputs": [
        {
          "output_type": "stream",
          "text": [
            "/content/darkflow\n"
          ],
          "name": "stdout"
        }
      ]
    },
    {
      "metadata": {
        "id": "7sKxE-ydpEXi",
        "colab_type": "code",
        "outputId": "c0cb9afd-8738-4be2-bb86-7c0f426096fd",
        "colab": {
          "base_uri": "https://localhost:8080/",
          "height": 35
        }
      },
      "cell_type": "code",
      "source": [
        "cd  bin\n"
      ],
      "execution_count": 0,
      "outputs": [
        {
          "output_type": "stream",
          "text": [
            "/content/darkflow/bin\n"
          ],
          "name": "stdout"
        }
      ]
    },
    {
      "metadata": {
        "id": "lU4DnVDepGat",
        "colab_type": "code",
        "colab": {}
      },
      "cell_type": "code",
      "source": [
        "ls"
      ],
      "execution_count": 0,
      "outputs": []
    },
    {
      "metadata": {
        "id": "J9ir-hlFy_c9",
        "colab_type": "code",
        "outputId": "a80ad546-eb13-401f-9851-1d6f56335377",
        "colab": {
          "base_uri": "https://localhost:8080/",
          "height": 35
        }
      },
      "cell_type": "code",
      "source": [
        "cd ..\n"
      ],
      "execution_count": 0,
      "outputs": [
        {
          "output_type": "stream",
          "text": [
            "/content/darkflow\n"
          ],
          "name": "stdout"
        }
      ]
    },
    {
      "metadata": {
        "id": "9Z9-CaKkzCii",
        "colab_type": "code",
        "outputId": "0d082094-152d-44c8-d6dc-23203e4fe5d7",
        "colab": {
          "base_uri": "https://localhost:8080/",
          "height": 52
        }
      },
      "cell_type": "code",
      "source": [
        "ls\n"
      ],
      "execution_count": 0,
      "outputs": [
        {
          "output_type": "stream",
          "text": [
            "\u001b[0m\u001b[01;34mbin\u001b[0m/    \u001b[01;34mcfg\u001b[0m/       demo.gif  labels.txt  preview.png  \u001b[01;34msample_img\u001b[0m/  \u001b[01;34mtest\u001b[0m/\n",
            "\u001b[01;34mbuild\u001b[0m/  \u001b[01;34mdarkflow\u001b[0m/  \u001b[01;32mflow\u001b[0m*     LICENSE     README.md    setup.py\n"
          ],
          "name": "stdout"
        }
      ]
    },
    {
      "metadata": {
        "id": "B_SfR4kmzDKE",
        "colab_type": "code",
        "outputId": "956c2dc5-1526-4da9-93bc-df53318bd275",
        "colab": {
          "base_uri": "https://localhost:8080/",
          "height": 35
        }
      },
      "cell_type": "code",
      "source": [
        "cd ..\n"
      ],
      "execution_count": 0,
      "outputs": [
        {
          "output_type": "stream",
          "text": [
            "/content\n"
          ],
          "name": "stdout"
        }
      ]
    },
    {
      "metadata": {
        "id": "h3XkqioQzGx3",
        "colab_type": "code",
        "outputId": "e249c782-714a-4e5b-ecbe-72f7060dcffd",
        "colab": {
          "base_uri": "https://localhost:8080/",
          "height": 35
        }
      },
      "cell_type": "code",
      "source": [
        "ls\n"
      ],
      "execution_count": 0,
      "outputs": [
        {
          "output_type": "stream",
          "text": [
            "\u001b[0m\u001b[01;34mdarkflow\u001b[0m/  \u001b[01;34msample_data\u001b[0m/  videoplayback.mp4  yolov2.weights\n"
          ],
          "name": "stdout"
        }
      ]
    },
    {
      "metadata": {
        "id": "-agpawvezJUd",
        "colab_type": "code",
        "colab": {}
      },
      "cell_type": "code",
      "source": [
        "cp yolov2.weights darkflow/bin/"
      ],
      "execution_count": 0,
      "outputs": []
    },
    {
      "metadata": {
        "id": "54PufqmGzSWS",
        "colab_type": "code",
        "colab": {}
      },
      "cell_type": "code",
      "source": [
        "cp videoplayback.mp4 darkflow/\n"
      ],
      "execution_count": 0,
      "outputs": []
    },
    {
      "metadata": {
        "id": "ByfMlIohzXSP",
        "colab_type": "code",
        "outputId": "03b384bd-d181-4f7d-c331-89b7f6cae610",
        "colab": {
          "base_uri": "https://localhost:8080/",
          "height": 35
        }
      },
      "cell_type": "code",
      "source": [
        "cd darkflow/"
      ],
      "execution_count": 0,
      "outputs": [
        {
          "output_type": "stream",
          "text": [
            "/content/darkflow\n"
          ],
          "name": "stdout"
        }
      ]
    },
    {
      "metadata": {
        "id": "4NhDSjpozZRF",
        "colab_type": "code",
        "outputId": "ce88f2dd-e3de-4980-e450-dab69c18f974",
        "colab": {
          "base_uri": "https://localhost:8080/",
          "height": 69
        }
      },
      "cell_type": "code",
      "source": [
        "ls\n"
      ],
      "execution_count": 0,
      "outputs": [
        {
          "output_type": "stream",
          "text": [
            "\u001b[0m\u001b[01;34mbin\u001b[0m/    \u001b[01;34mdarkflow\u001b[0m/  labels.txt   README.md    \u001b[01;34mtest\u001b[0m/\n",
            "\u001b[01;34mbuild\u001b[0m/  demo.gif   LICENSE      \u001b[01;34msample_img\u001b[0m/  videoplayback.mp4\n",
            "\u001b[01;34mcfg\u001b[0m/    \u001b[01;32mflow\u001b[0m*      preview.png  setup.py\n"
          ],
          "name": "stdout"
        }
      ]
    },
    {
      "metadata": {
        "id": "NK-YnsbfzZ68",
        "colab_type": "code",
        "outputId": "bf1c348c-4f34-45f3-943d-b090bc0ca7eb",
        "colab": {
          "base_uri": "https://localhost:8080/",
          "height": 69
        }
      },
      "cell_type": "code",
      "source": [
        "ls"
      ],
      "execution_count": 0,
      "outputs": [
        {
          "output_type": "stream",
          "text": [
            "\u001b[0m\u001b[01;34mbin\u001b[0m/    \u001b[01;34mdarkflow\u001b[0m/  labels.txt   README.md    \u001b[01;34mtest\u001b[0m/\n",
            "\u001b[01;34mbuild\u001b[0m/  demo.gif   LICENSE      \u001b[01;34msample_img\u001b[0m/  videoplayback.mp4\n",
            "\u001b[01;34mcfg\u001b[0m/    \u001b[01;32mflow\u001b[0m*      preview.png  setup.py\n"
          ],
          "name": "stdout"
        }
      ]
    },
    {
      "metadata": {
        "id": "PMBl2Uuizh7y",
        "colab_type": "code",
        "outputId": "e0610d35-a0bd-4e9c-cca9-209dbc273e7c",
        "colab": {
          "base_uri": "https://localhost:8080/",
          "height": 956
        }
      },
      "cell_type": "code",
      "source": [
        "!python flow --model cfg/yolo.cfg --load bin/yolov2.weights  --demo videoplayback.mp4 --gpu 1.0 --saveVideo\n",
        "\n"
      ],
      "execution_count": 0,
      "outputs": [
        {
          "output_type": "stream",
          "text": [
            "\n",
            "/content/darkflow/darkflow/dark/darknet.py:54: UserWarning: ./cfg/yolov2.cfg not found, use cfg/yolo.cfg instead\n",
            "  cfg_path, FLAGS.model))\n",
            "Parsing cfg/yolo.cfg\n",
            "Loading bin/yolov2.weights ...\n",
            "Successfully identified 203934260 bytes\n",
            "Finished in 0.014293193817138672s\n",
            "Model has a coco model name, loading coco labels.\n",
            "\n",
            "Building net ...\n",
            "Source | Train? | Layer description                | Output size\n",
            "-------+--------+----------------------------------+---------------\n",
            "       |        | input                            | (?, 608, 608, 3)\n",
            " Load  |  Yep!  | conv 3x3p1_1  +bnorm  leaky      | (?, 608, 608, 32)\n",
            " Load  |  Yep!  | maxp 2x2p0_2                     | (?, 304, 304, 32)\n",
            " Load  |  Yep!  | conv 3x3p1_1  +bnorm  leaky      | (?, 304, 304, 64)\n",
            " Load  |  Yep!  | maxp 2x2p0_2                     | (?, 152, 152, 64)\n",
            " Load  |  Yep!  | conv 3x3p1_1  +bnorm  leaky      | (?, 152, 152, 128)\n",
            " Load  |  Yep!  | conv 1x1p0_1  +bnorm  leaky      | (?, 152, 152, 64)\n",
            " Load  |  Yep!  | conv 3x3p1_1  +bnorm  leaky      | (?, 152, 152, 128)\n",
            " Load  |  Yep!  | maxp 2x2p0_2                     | (?, 76, 76, 128)\n",
            " Load  |  Yep!  | conv 3x3p1_1  +bnorm  leaky      | (?, 76, 76, 256)\n",
            " Load  |  Yep!  | conv 1x1p0_1  +bnorm  leaky      | (?, 76, 76, 128)\n",
            " Load  |  Yep!  | conv 3x3p1_1  +bnorm  leaky      | (?, 76, 76, 256)\n",
            " Load  |  Yep!  | maxp 2x2p0_2                     | (?, 38, 38, 256)\n",
            " Load  |  Yep!  | conv 3x3p1_1  +bnorm  leaky      | (?, 38, 38, 512)\n",
            " Load  |  Yep!  | conv 1x1p0_1  +bnorm  leaky      | (?, 38, 38, 256)\n",
            " Load  |  Yep!  | conv 3x3p1_1  +bnorm  leaky      | (?, 38, 38, 512)\n",
            " Load  |  Yep!  | conv 1x1p0_1  +bnorm  leaky      | (?, 38, 38, 256)\n",
            " Load  |  Yep!  | conv 3x3p1_1  +bnorm  leaky      | (?, 38, 38, 512)\n",
            " Load  |  Yep!  | maxp 2x2p0_2                     | (?, 19, 19, 512)\n",
            " Load  |  Yep!  | conv 3x3p1_1  +bnorm  leaky      | (?, 19, 19, 1024)\n",
            " Load  |  Yep!  | conv 1x1p0_1  +bnorm  leaky      | (?, 19, 19, 512)\n",
            " Load  |  Yep!  | conv 3x3p1_1  +bnorm  leaky      | (?, 19, 19, 1024)\n",
            " Load  |  Yep!  | conv 1x1p0_1  +bnorm  leaky      | (?, 19, 19, 512)\n",
            " Load  |  Yep!  | conv 3x3p1_1  +bnorm  leaky      | (?, 19, 19, 1024)\n",
            " Load  |  Yep!  | conv 3x3p1_1  +bnorm  leaky      | (?, 19, 19, 1024)\n",
            " Load  |  Yep!  | conv 3x3p1_1  +bnorm  leaky      | (?, 19, 19, 1024)\n",
            " Load  |  Yep!  | concat [16]                      | (?, 38, 38, 512)\n",
            " Load  |  Yep!  | conv 1x1p0_1  +bnorm  leaky      | (?, 38, 38, 64)\n",
            " Load  |  Yep!  | local flatten 2x2                | (?, 19, 19, 256)\n",
            " Load  |  Yep!  | concat [27, 24]                  | (?, 19, 19, 1280)\n",
            " Load  |  Yep!  | conv 3x3p1_1  +bnorm  leaky      | (?, 19, 19, 1024)\n",
            " Load  |  Yep!  | conv 1x1p0_1    linear           | (?, 19, 19, 425)\n",
            "-------+--------+----------------------------------+---------------\n",
            "GPU mode with 1.0 usage\n",
            "Finished in 4.913751840591431s\n",
            "\n",
            "Press [ESC] to quit demo\n",
            "0.660 FPS\n",
            "End of Video\n",
            "\n",
            "Demo stopped, exit.\n"
          ],
          "name": "stdout"
        }
      ]
    },
    {
      "metadata": {
        "id": "vkAhwVxfz28_",
        "colab_type": "code",
        "outputId": "45f9ba80-fd89-420f-d2eb-d42dae8eca4c",
        "colab": {
          "base_uri": "https://localhost:8080/",
          "height": 69
        }
      },
      "cell_type": "code",
      "source": [
        "ls"
      ],
      "execution_count": 0,
      "outputs": [
        {
          "output_type": "stream",
          "text": [
            "\u001b[0m\u001b[01;34mbin\u001b[0m/    \u001b[01;34mckpt\u001b[0m/      \u001b[01;32mflow\u001b[0m*       preview.png  setup.py   videoplayback.mp4\n",
            "\u001b[01;34mbuild\u001b[0m/  \u001b[01;34mdarkflow\u001b[0m/  labels.txt  README.md    \u001b[01;34mtest\u001b[0m/\n",
            "\u001b[01;34mcfg\u001b[0m/    demo.gif   LICENSE     \u001b[01;34msample_img\u001b[0m/  video.avi\n"
          ],
          "name": "stdout"
        }
      ]
    },
    {
      "metadata": {
        "id": "DYway1Zq1eJl",
        "colab_type": "code",
        "colab": {}
      },
      "cell_type": "code",
      "source": [
        "ls"
      ],
      "execution_count": 0,
      "outputs": []
    },
    {
      "metadata": {
        "id": "quu8Q7ShDQVB",
        "colab_type": "text"
      },
      "cell_type": "markdown",
      "source": [
        "STATIC IMAGE DETECTION\n",
        "# New Section"
      ]
    },
    {
      "metadata": {
        "id": "hMVIKoHK9fcp",
        "colab_type": "code",
        "colab": {}
      },
      "cell_type": "code",
      "source": [
        "import cv2"
      ],
      "execution_count": 0,
      "outputs": []
    },
    {
      "metadata": {
        "id": "ILNJqWy-Dbqq",
        "colab_type": "code",
        "colab": {}
      },
      "cell_type": "code",
      "source": [
        "from darkflow.net.build import TFNet"
      ],
      "execution_count": 0,
      "outputs": []
    },
    {
      "metadata": {
        "id": "fM6C_5_dDdOf",
        "colab_type": "code",
        "colab": {}
      },
      "cell_type": "code",
      "source": [
        "import matplotlib.pyplot as plt\n"
      ],
      "execution_count": 0,
      "outputs": []
    },
    {
      "metadata": {
        "id": "mbo9XZTpD1P1",
        "colab_type": "code",
        "colab": {}
      },
      "cell_type": "code",
      "source": [
        "%config InlineBackend.figure_format = 'svg'"
      ],
      "execution_count": 0,
      "outputs": []
    },
    {
      "metadata": {
        "id": "atgksVqfEL54",
        "colab_type": "code",
        "colab": {
          "base_uri": "https://localhost:8080/",
          "height": 816
        },
        "outputId": "32166ad9-5a07-4bf8-d8ef-2bd77b55cc20"
      },
      "cell_type": "code",
      "source": [
        "options = {\n",
        "    'model': 'cfg/yolo.cfg',\n",
        "    'load': 'bin/yolov2.weights',\n",
        "    'threshold': 0.3,\n",
        "    'gpu': 1.0\n",
        "}\n",
        "\n",
        "tfnet = TFNet(options)"
      ],
      "execution_count": 56,
      "outputs": [
        {
          "output_type": "stream",
          "text": [
            "/content/darkflow/darkflow/dark/darknet.py:54: UserWarning: ./cfg/yolov2.cfg not found, use cfg/yolo.cfg instead\n",
            "  cfg_path, FLAGS.model))\n"
          ],
          "name": "stderr"
        },
        {
          "output_type": "stream",
          "text": [
            "Parsing cfg/yolo.cfg\n",
            "Loading bin/yolov2.weights ...\n",
            "Successfully identified 203934260 bytes\n",
            "Finished in 0.02682328224182129s\n",
            "Model has a coco model name, loading coco labels.\n",
            "\n",
            "Building net ...\n",
            "Source | Train? | Layer description                | Output size\n",
            "-------+--------+----------------------------------+---------------\n",
            "       |        | input                            | (?, 608, 608, 3)\n",
            " Load  |  Yep!  | conv 3x3p1_1  +bnorm  leaky      | (?, 608, 608, 32)\n",
            " Load  |  Yep!  | maxp 2x2p0_2                     | (?, 304, 304, 32)\n",
            " Load  |  Yep!  | conv 3x3p1_1  +bnorm  leaky      | (?, 304, 304, 64)\n",
            " Load  |  Yep!  | maxp 2x2p0_2                     | (?, 152, 152, 64)\n",
            " Load  |  Yep!  | conv 3x3p1_1  +bnorm  leaky      | (?, 152, 152, 128)\n",
            " Load  |  Yep!  | conv 1x1p0_1  +bnorm  leaky      | (?, 152, 152, 64)\n",
            " Load  |  Yep!  | conv 3x3p1_1  +bnorm  leaky      | (?, 152, 152, 128)\n",
            " Load  |  Yep!  | maxp 2x2p0_2                     | (?, 76, 76, 128)\n",
            " Load  |  Yep!  | conv 3x3p1_1  +bnorm  leaky      | (?, 76, 76, 256)\n",
            " Load  |  Yep!  | conv 1x1p0_1  +bnorm  leaky      | (?, 76, 76, 128)\n",
            " Load  |  Yep!  | conv 3x3p1_1  +bnorm  leaky      | (?, 76, 76, 256)\n",
            " Load  |  Yep!  | maxp 2x2p0_2                     | (?, 38, 38, 256)\n",
            " Load  |  Yep!  | conv 3x3p1_1  +bnorm  leaky      | (?, 38, 38, 512)\n",
            " Load  |  Yep!  | conv 1x1p0_1  +bnorm  leaky      | (?, 38, 38, 256)\n",
            " Load  |  Yep!  | conv 3x3p1_1  +bnorm  leaky      | (?, 38, 38, 512)\n",
            " Load  |  Yep!  | conv 1x1p0_1  +bnorm  leaky      | (?, 38, 38, 256)\n",
            " Load  |  Yep!  | conv 3x3p1_1  +bnorm  leaky      | (?, 38, 38, 512)\n",
            " Load  |  Yep!  | maxp 2x2p0_2                     | (?, 19, 19, 512)\n",
            " Load  |  Yep!  | conv 3x3p1_1  +bnorm  leaky      | (?, 19, 19, 1024)\n",
            " Load  |  Yep!  | conv 1x1p0_1  +bnorm  leaky      | (?, 19, 19, 512)\n",
            " Load  |  Yep!  | conv 3x3p1_1  +bnorm  leaky      | (?, 19, 19, 1024)\n",
            " Load  |  Yep!  | conv 1x1p0_1  +bnorm  leaky      | (?, 19, 19, 512)\n",
            " Load  |  Yep!  | conv 3x3p1_1  +bnorm  leaky      | (?, 19, 19, 1024)\n",
            " Load  |  Yep!  | conv 3x3p1_1  +bnorm  leaky      | (?, 19, 19, 1024)\n",
            " Load  |  Yep!  | conv 3x3p1_1  +bnorm  leaky      | (?, 19, 19, 1024)\n",
            " Load  |  Yep!  | concat [16]                      | (?, 38, 38, 512)\n",
            " Load  |  Yep!  | conv 1x1p0_1  +bnorm  leaky      | (?, 38, 38, 64)\n",
            " Load  |  Yep!  | local flatten 2x2                | (?, 19, 19, 256)\n",
            " Load  |  Yep!  | concat [27, 24]                  | (?, 19, 19, 1280)\n",
            " Load  |  Yep!  | conv 3x3p1_1  +bnorm  leaky      | (?, 19, 19, 1024)\n",
            " Load  |  Yep!  | conv 1x1p0_1    linear           | (?, 19, 19, 425)\n",
            "-------+--------+----------------------------------+---------------\n",
            "GPU mode with 1.0 usage\n",
            "Finished in 5.758992433547974s\n",
            "\n"
          ],
          "name": "stdout"
        }
      ]
    },
    {
      "metadata": {
        "id": "okuwm03tEsG3",
        "colab_type": "code",
        "colab": {
          "base_uri": "https://localhost:8080/",
          "height": 34
        },
        "outputId": "3c69621f-a169-4717-82e4-f0eee4441262"
      },
      "cell_type": "code",
      "source": [
        "pwd"
      ],
      "execution_count": 47,
      "outputs": [
        {
          "output_type": "execute_result",
          "data": {
            "text/plain": [
              "'/content/darkflow'"
            ]
          },
          "metadata": {
            "tags": []
          },
          "execution_count": 47
        }
      ]
    },
    {
      "metadata": {
        "id": "XER7ig9eE1N7",
        "colab_type": "code",
        "colab": {
          "base_uri": "https://localhost:8080/",
          "height": 68
        },
        "outputId": "d42c51ad-d337-45a2-b763-11e031f7f835"
      },
      "cell_type": "code",
      "source": [
        "ls"
      ],
      "execution_count": 48,
      "outputs": [
        {
          "output_type": "stream",
          "text": [
            "\u001b[0m\u001b[01;34mbin\u001b[0m/    \u001b[01;34mckpt\u001b[0m/      \u001b[01;32mflow\u001b[0m*       preview.png  setup.py   videoplayback.mp4\n",
            "\u001b[01;34mbuild\u001b[0m/  \u001b[01;34mdarkflow\u001b[0m/  labels.txt  README.md    \u001b[01;34mtest\u001b[0m/\n",
            "\u001b[01;34mcfg\u001b[0m/    demo.gif   LICENSE     \u001b[01;34msample_img\u001b[0m/  video.avi\n"
          ],
          "name": "stdout"
        }
      ]
    },
    {
      "metadata": {
        "id": "ee8-oYLAE3TS",
        "colab_type": "code",
        "colab": {
          "base_uri": "https://localhost:8080/",
          "height": 34
        },
        "outputId": "03e5dac0-8896-4b56-d6ff-d2b909c43b4b"
      },
      "cell_type": "code",
      "source": [
        "cd bin/\n"
      ],
      "execution_count": 49,
      "outputs": [
        {
          "output_type": "stream",
          "text": [
            "/content/darkflow/bin\n"
          ],
          "name": "stdout"
        }
      ]
    },
    {
      "metadata": {
        "id": "FEkk_x9xE6Ep",
        "colab_type": "code",
        "colab": {
          "base_uri": "https://localhost:8080/",
          "height": 34
        },
        "outputId": "b7637028-1fd2-4660-c8ca-db7d221f10b5"
      },
      "cell_type": "code",
      "source": [
        "ls"
      ],
      "execution_count": 54,
      "outputs": [
        {
          "output_type": "stream",
          "text": [
            "yolov2.weights\n"
          ],
          "name": "stdout"
        }
      ]
    },
    {
      "metadata": {
        "id": "maDiMhsgE7H6",
        "colab_type": "code",
        "colab": {
          "base_uri": "https://localhost:8080/",
          "height": 34
        },
        "outputId": "5755da37-6837-4713-aeab-ef4c46150368"
      },
      "cell_type": "code",
      "source": [
        "cd .."
      ],
      "execution_count": 55,
      "outputs": [
        {
          "output_type": "stream",
          "text": [
            "/content/darkflow\n"
          ],
          "name": "stdout"
        }
      ]
    },
    {
      "metadata": {
        "id": "oMeuulmWFbQT",
        "colab_type": "code",
        "colab": {
          "base_uri": "https://localhost:8080/",
          "height": 68
        },
        "outputId": "fa3419d3-807b-475e-db71-d05f31b56f93"
      },
      "cell_type": "code",
      "source": [
        "ls"
      ],
      "execution_count": 57,
      "outputs": [
        {
          "output_type": "stream",
          "text": [
            "\u001b[0m\u001b[01;34mbin\u001b[0m/    \u001b[01;34mckpt\u001b[0m/      \u001b[01;32mflow\u001b[0m*       preview.png  setup.py   videoplayback.mp4\n",
            "\u001b[01;34mbuild\u001b[0m/  \u001b[01;34mdarkflow\u001b[0m/  labels.txt  README.md    \u001b[01;34mtest\u001b[0m/\n",
            "\u001b[01;34mcfg\u001b[0m/    demo.gif   LICENSE     \u001b[01;34msample_img\u001b[0m/  video.avi\n"
          ],
          "name": "stdout"
        }
      ]
    },
    {
      "metadata": {
        "id": "wP7hFeonFkul",
        "colab_type": "code",
        "colab": {
          "base_uri": "https://localhost:8080/",
          "height": 68
        },
        "outputId": "1c7b4dee-477b-4faf-d0cd-ddd6dc490969"
      },
      "cell_type": "code",
      "source": [
        "ls"
      ],
      "execution_count": 58,
      "outputs": [
        {
          "output_type": "stream",
          "text": [
            "\u001b[0m\u001b[01;34mbin\u001b[0m/    \u001b[01;34mckpt\u001b[0m/      \u001b[01;32mflow\u001b[0m*       preview.png  setup.py   videoplayback.mp4\n",
            "\u001b[01;34mbuild\u001b[0m/  \u001b[01;34mdarkflow\u001b[0m/  labels.txt  README.md    \u001b[01;34mtest\u001b[0m/\n",
            "\u001b[01;34mcfg\u001b[0m/    demo.gif   LICENSE     \u001b[01;34msample_img\u001b[0m/  video.avi\n"
          ],
          "name": "stdout"
        }
      ]
    },
    {
      "metadata": {
        "id": "CQpKeabrGX5v",
        "colab_type": "code",
        "colab": {
          "base_uri": "https://localhost:8080/",
          "height": 34
        },
        "outputId": "935c3f70-c427-424a-a9b1-9d28eb8c8f8b"
      },
      "cell_type": "code",
      "source": [
        "cd ..\n"
      ],
      "execution_count": 59,
      "outputs": [
        {
          "output_type": "stream",
          "text": [
            "/content\n"
          ],
          "name": "stdout"
        }
      ]
    },
    {
      "metadata": {
        "id": "D6OCElWoGnvY",
        "colab_type": "code",
        "colab": {
          "base_uri": "https://localhost:8080/",
          "height": 34
        },
        "outputId": "4ef26500-3591-48cc-9bf1-af1465be66ea"
      },
      "cell_type": "code",
      "source": [
        "ls\n"
      ],
      "execution_count": 60,
      "outputs": [
        {
          "output_type": "stream",
          "text": [
            "\u001b[0m\u001b[01;34mdarkflow\u001b[0m/  dog.jfif  \u001b[01;34msample_data\u001b[0m/  videoplayback.mp4  yolov2.weights\n"
          ],
          "name": "stdout"
        }
      ]
    },
    {
      "metadata": {
        "id": "OgBGDuzuGo1u",
        "colab_type": "code",
        "colab": {}
      },
      "cell_type": "code",
      "source": [
        "cp dog.jfif darkflow/"
      ],
      "execution_count": 0,
      "outputs": []
    },
    {
      "metadata": {
        "id": "pqVOsKn4GwJw",
        "colab_type": "code",
        "colab": {
          "base_uri": "https://localhost:8080/",
          "height": 34
        },
        "outputId": "3aa8e745-80e8-4eb8-e6b4-6ad75f52b443"
      },
      "cell_type": "code",
      "source": [
        "cd darkflow/"
      ],
      "execution_count": 62,
      "outputs": [
        {
          "output_type": "stream",
          "text": [
            "/content/darkflow\n"
          ],
          "name": "stdout"
        }
      ]
    },
    {
      "metadata": {
        "id": "VUc6OmuzGyXf",
        "colab_type": "code",
        "colab": {}
      },
      "cell_type": "code",
      "source": [
        ""
      ],
      "execution_count": 0,
      "outputs": []
    },
    {
      "metadata": {
        "id": "A4WWwWwdJ4P7",
        "colab_type": "code",
        "colab": {}
      },
      "cell_type": "code",
      "source": [
        ""
      ],
      "execution_count": 0,
      "outputs": []
    },
    {
      "metadata": {
        "id": "JmuWl620Gz83",
        "colab_type": "code",
        "colab": {
          "base_uri": "https://localhost:8080/",
          "height": 180
        },
        "outputId": "b4886871-81cf-4bc7-f0c5-7e1173625748"
      },
      "cell_type": "code",
      "source": [
        "\n"
      ],
      "execution_count": 81,
      "outputs": [
        {
          "output_type": "error",
          "ename": "TypeError",
          "evalue": "ignored",
          "traceback": [
            "\u001b[0;31m---------------------------------------------------------------------------\u001b[0m",
            "\u001b[0;31mTypeError\u001b[0m                                 Traceback (most recent call last)",
            "\u001b[0;32m<ipython-input-81-b57f0f25f60c>\u001b[0m in \u001b[0;36m<module>\u001b[0;34m()\u001b[0m\n\u001b[0;32m----> 1\u001b[0;31m \u001b[0mimage\u001b[0m \u001b[0;34m=\u001b[0m \u001b[0mcv2\u001b[0m\u001b[0;34m.\u001b[0m\u001b[0mimread\u001b[0m\u001b[0;34m(\u001b[0m\u001b[0;34m'dig.jfif'\u001b[0m\u001b[0;34m,\u001b[0m\u001b[0mmode\u001b[0m\u001b[0;34m=\u001b[0m\u001b[0;34m'RGB'\u001b[0m\u001b[0;34m)\u001b[0m\u001b[0;34m\u001b[0m\u001b[0;34m\u001b[0m\u001b[0m\n\u001b[0m\u001b[1;32m      2\u001b[0m \u001b[0mim\u001b[0m \u001b[0;34m=\u001b[0m \u001b[0mnp\u001b[0m\u001b[0;34m.\u001b[0m\u001b[0masarray\u001b[0m\u001b[0;34m(\u001b[0m\u001b[0mimage\u001b[0m\u001b[0;34m)\u001b[0m\u001b[0;34m\u001b[0m\u001b[0;34m\u001b[0m\u001b[0m\n",
            "\u001b[0;31mTypeError\u001b[0m: 'mode' is an invalid keyword argument for this function"
          ]
        }
      ]
    },
    {
      "metadata": {
        "id": "WEuSetWLJeNi",
        "colab_type": "code",
        "colab": {
          "base_uri": "https://localhost:8080/",
          "height": 163
        },
        "outputId": "32d9dbce-d782-4aaa-8583-a3d6e01575db"
      },
      "cell_type": "code",
      "source": [
        "image = cv2.imread('')\n"
      ],
      "execution_count": 80,
      "outputs": [
        {
          "output_type": "error",
          "ename": "TypeError",
          "evalue": "ignored",
          "traceback": [
            "\u001b[0;31m---------------------------------------------------------------------------\u001b[0m",
            "\u001b[0;31mTypeError\u001b[0m                                 Traceback (most recent call last)",
            "\u001b[0;32m<ipython-input-80-bab8481771e9>\u001b[0m in \u001b[0;36m<module>\u001b[0;34m()\u001b[0m\n\u001b[0;32m----> 1\u001b[0;31m \u001b[0mim\u001b[0m \u001b[0;34m=\u001b[0m \u001b[0mcv2\u001b[0m\u001b[0;34m.\u001b[0m\u001b[0mimread\u001b[0m\u001b[0;34m(\u001b[0m\u001b[0;34m\"dig.tiff\"\u001b[0m\u001b[0;34m,\u001b[0m\u001b[0mmode\u001b[0m\u001b[0;34m=\u001b[0m\u001b[0;34m'RGB'\u001b[0m\u001b[0;34m)\u001b[0m\u001b[0;34m\u001b[0m\u001b[0;34m\u001b[0m\u001b[0m\n\u001b[0m",
            "\u001b[0;31mTypeError\u001b[0m: 'mode' is an invalid keyword argument for this function"
          ]
        }
      ]
    },
    {
      "metadata": {
        "id": "zqzWd_qcG7-I",
        "colab_type": "code",
        "colab": {
          "base_uri": "https://localhost:8080/",
          "height": 282
        },
        "outputId": "bf4c1ba0-74da-4af6-cc4c-2e86a138ac1d"
      },
      "cell_type": "code",
      "source": [
        "result = tfnet.return_predict(im)\n"
      ],
      "execution_count": 77,
      "outputs": [
        {
          "output_type": "error",
          "ename": "ValueError",
          "evalue": "ignored",
          "traceback": [
            "\u001b[0;31m---------------------------------------------------------------------------\u001b[0m",
            "\u001b[0;31mValueError\u001b[0m                                Traceback (most recent call last)",
            "\u001b[0;32m<ipython-input-77-90aae9158f57>\u001b[0m in \u001b[0;36m<module>\u001b[0;34m()\u001b[0m\n\u001b[0;32m----> 1\u001b[0;31m \u001b[0mresult\u001b[0m \u001b[0;34m=\u001b[0m \u001b[0mtfnet\u001b[0m\u001b[0;34m.\u001b[0m\u001b[0mreturn_predict\u001b[0m\u001b[0;34m(\u001b[0m\u001b[0mim\u001b[0m\u001b[0;34m)\u001b[0m\u001b[0;34m\u001b[0m\u001b[0;34m\u001b[0m\u001b[0m\n\u001b[0m",
            "\u001b[0;32m/content/darkflow/darkflow/net/flow.py\u001b[0m in \u001b[0;36mreturn_predict\u001b[0;34m(self, im)\u001b[0m\n\u001b[1;32m     77\u001b[0m     \u001b[0;32massert\u001b[0m \u001b[0misinstance\u001b[0m\u001b[0;34m(\u001b[0m\u001b[0mim\u001b[0m\u001b[0;34m,\u001b[0m \u001b[0mnp\u001b[0m\u001b[0;34m.\u001b[0m\u001b[0mndarray\u001b[0m\u001b[0;34m)\u001b[0m\u001b[0;34m,\u001b[0m\u001b[0;31m \u001b[0m\u001b[0;31m\\\u001b[0m\u001b[0;34m\u001b[0m\u001b[0;34m\u001b[0m\u001b[0m\n\u001b[1;32m     78\u001b[0m                                 \u001b[0;34m'Image is not a np.ndarray'\u001b[0m\u001b[0;34m\u001b[0m\u001b[0;34m\u001b[0m\u001b[0m\n\u001b[0;32m---> 79\u001b[0;31m     \u001b[0mh\u001b[0m\u001b[0;34m,\u001b[0m \u001b[0mw\u001b[0m\u001b[0;34m,\u001b[0m \u001b[0m_\u001b[0m \u001b[0;34m=\u001b[0m \u001b[0mim\u001b[0m\u001b[0;34m.\u001b[0m\u001b[0mshape\u001b[0m\u001b[0;34m\u001b[0m\u001b[0;34m\u001b[0m\u001b[0m\n\u001b[0m\u001b[1;32m     80\u001b[0m     \u001b[0mim\u001b[0m \u001b[0;34m=\u001b[0m \u001b[0mself\u001b[0m\u001b[0;34m.\u001b[0m\u001b[0mframework\u001b[0m\u001b[0;34m.\u001b[0m\u001b[0mresize_input\u001b[0m\u001b[0;34m(\u001b[0m\u001b[0mim\u001b[0m\u001b[0;34m)\u001b[0m\u001b[0;34m\u001b[0m\u001b[0;34m\u001b[0m\u001b[0m\n\u001b[1;32m     81\u001b[0m     \u001b[0mthis_inp\u001b[0m \u001b[0;34m=\u001b[0m \u001b[0mnp\u001b[0m\u001b[0;34m.\u001b[0m\u001b[0mexpand_dims\u001b[0m\u001b[0;34m(\u001b[0m\u001b[0mim\u001b[0m\u001b[0;34m,\u001b[0m \u001b[0;36m0\u001b[0m\u001b[0;34m)\u001b[0m\u001b[0;34m\u001b[0m\u001b[0;34m\u001b[0m\u001b[0m\n",
            "\u001b[0;31mValueError\u001b[0m: not enough values to unpack (expected 3, got 0)"
          ]
        }
      ]
    },
    {
      "metadata": {
        "id": "Eow9Kt8hHLYQ",
        "colab_type": "code",
        "colab": {
          "base_uri": "https://localhost:8080/",
          "height": 1107
        },
        "outputId": "4511f2c3-0774-4cba-b9dd-bbbe1c9fcc05"
      },
      "cell_type": "code",
      "source": [
        "plt.imshow(im)"
      ],
      "execution_count": 78,
      "outputs": [
        {
          "output_type": "error",
          "ename": "TypeError",
          "evalue": "ignored",
          "traceback": [
            "\u001b[0;31m---------------------------------------------------------------------------\u001b[0m",
            "\u001b[0;31mTypeError\u001b[0m                                 Traceback (most recent call last)",
            "\u001b[0;32m<ipython-input-78-a9282a591582>\u001b[0m in \u001b[0;36m<module>\u001b[0;34m()\u001b[0m\n\u001b[0;32m----> 1\u001b[0;31m \u001b[0mplt\u001b[0m\u001b[0;34m.\u001b[0m\u001b[0mimshow\u001b[0m\u001b[0;34m(\u001b[0m\u001b[0mim\u001b[0m\u001b[0;34m)\u001b[0m\u001b[0;34m\u001b[0m\u001b[0;34m\u001b[0m\u001b[0m\n\u001b[0m",
            "\u001b[0;32m/usr/local/lib/python3.6/dist-packages/matplotlib/pyplot.py\u001b[0m in \u001b[0;36mimshow\u001b[0;34m(X, cmap, norm, aspect, interpolation, alpha, vmin, vmax, origin, extent, shape, filternorm, filterrad, imlim, resample, url, hold, data, **kwargs)\u001b[0m\n\u001b[1;32m   3099\u001b[0m                         \u001b[0mfilternorm\u001b[0m\u001b[0;34m=\u001b[0m\u001b[0mfilternorm\u001b[0m\u001b[0;34m,\u001b[0m \u001b[0mfilterrad\u001b[0m\u001b[0;34m=\u001b[0m\u001b[0mfilterrad\u001b[0m\u001b[0;34m,\u001b[0m\u001b[0;34m\u001b[0m\u001b[0;34m\u001b[0m\u001b[0m\n\u001b[1;32m   3100\u001b[0m                         \u001b[0mimlim\u001b[0m\u001b[0;34m=\u001b[0m\u001b[0mimlim\u001b[0m\u001b[0;34m,\u001b[0m \u001b[0mresample\u001b[0m\u001b[0;34m=\u001b[0m\u001b[0mresample\u001b[0m\u001b[0;34m,\u001b[0m \u001b[0murl\u001b[0m\u001b[0;34m=\u001b[0m\u001b[0murl\u001b[0m\u001b[0;34m,\u001b[0m \u001b[0mdata\u001b[0m\u001b[0;34m=\u001b[0m\u001b[0mdata\u001b[0m\u001b[0;34m,\u001b[0m\u001b[0;34m\u001b[0m\u001b[0;34m\u001b[0m\u001b[0m\n\u001b[0;32m-> 3101\u001b[0;31m                         **kwargs)\n\u001b[0m\u001b[1;32m   3102\u001b[0m     \u001b[0;32mfinally\u001b[0m\u001b[0;34m:\u001b[0m\u001b[0;34m\u001b[0m\u001b[0;34m\u001b[0m\u001b[0m\n\u001b[1;32m   3103\u001b[0m         \u001b[0max\u001b[0m\u001b[0;34m.\u001b[0m\u001b[0m_hold\u001b[0m \u001b[0;34m=\u001b[0m \u001b[0mwashold\u001b[0m\u001b[0;34m\u001b[0m\u001b[0;34m\u001b[0m\u001b[0m\n",
            "\u001b[0;32m/usr/local/lib/python3.6/dist-packages/matplotlib/__init__.py\u001b[0m in \u001b[0;36minner\u001b[0;34m(ax, *args, **kwargs)\u001b[0m\n\u001b[1;32m   1715\u001b[0m                     warnings.warn(msg % (label_namer, func.__name__),\n\u001b[1;32m   1716\u001b[0m                                   RuntimeWarning, stacklevel=2)\n\u001b[0;32m-> 1717\u001b[0;31m             \u001b[0;32mreturn\u001b[0m \u001b[0mfunc\u001b[0m\u001b[0;34m(\u001b[0m\u001b[0max\u001b[0m\u001b[0;34m,\u001b[0m \u001b[0;34m*\u001b[0m\u001b[0margs\u001b[0m\u001b[0;34m,\u001b[0m \u001b[0;34m**\u001b[0m\u001b[0mkwargs\u001b[0m\u001b[0;34m)\u001b[0m\u001b[0;34m\u001b[0m\u001b[0;34m\u001b[0m\u001b[0m\n\u001b[0m\u001b[1;32m   1718\u001b[0m         \u001b[0mpre_doc\u001b[0m \u001b[0;34m=\u001b[0m \u001b[0minner\u001b[0m\u001b[0;34m.\u001b[0m\u001b[0m__doc__\u001b[0m\u001b[0;34m\u001b[0m\u001b[0;34m\u001b[0m\u001b[0m\n\u001b[1;32m   1719\u001b[0m         \u001b[0;32mif\u001b[0m \u001b[0mpre_doc\u001b[0m \u001b[0;32mis\u001b[0m \u001b[0;32mNone\u001b[0m\u001b[0;34m:\u001b[0m\u001b[0;34m\u001b[0m\u001b[0;34m\u001b[0m\u001b[0m\n",
            "\u001b[0;32m/usr/local/lib/python3.6/dist-packages/matplotlib/axes/_axes.py\u001b[0m in \u001b[0;36mimshow\u001b[0;34m(self, X, cmap, norm, aspect, interpolation, alpha, vmin, vmax, origin, extent, shape, filternorm, filterrad, imlim, resample, url, **kwargs)\u001b[0m\n\u001b[1;32m   5129\u001b[0m                               resample=resample, **kwargs)\n\u001b[1;32m   5130\u001b[0m \u001b[0;34m\u001b[0m\u001b[0m\n\u001b[0;32m-> 5131\u001b[0;31m         \u001b[0mim\u001b[0m\u001b[0;34m.\u001b[0m\u001b[0mset_data\u001b[0m\u001b[0;34m(\u001b[0m\u001b[0mX\u001b[0m\u001b[0;34m)\u001b[0m\u001b[0;34m\u001b[0m\u001b[0;34m\u001b[0m\u001b[0m\n\u001b[0m\u001b[1;32m   5132\u001b[0m         \u001b[0mim\u001b[0m\u001b[0;34m.\u001b[0m\u001b[0mset_alpha\u001b[0m\u001b[0;34m(\u001b[0m\u001b[0malpha\u001b[0m\u001b[0;34m)\u001b[0m\u001b[0;34m\u001b[0m\u001b[0;34m\u001b[0m\u001b[0m\n\u001b[1;32m   5133\u001b[0m         \u001b[0;32mif\u001b[0m \u001b[0mim\u001b[0m\u001b[0;34m.\u001b[0m\u001b[0mget_clip_path\u001b[0m\u001b[0;34m(\u001b[0m\u001b[0;34m)\u001b[0m \u001b[0;32mis\u001b[0m \u001b[0;32mNone\u001b[0m\u001b[0;34m:\u001b[0m\u001b[0;34m\u001b[0m\u001b[0;34m\u001b[0m\u001b[0m\n",
            "\u001b[0;32m/usr/local/lib/python3.6/dist-packages/matplotlib/image.py\u001b[0m in \u001b[0;36mset_data\u001b[0;34m(self, A)\u001b[0m\n\u001b[1;32m    616\u001b[0m         if (self._A.dtype != np.uint8 and\n\u001b[1;32m    617\u001b[0m                 not np.can_cast(self._A.dtype, float, \"same_kind\")):\n\u001b[0;32m--> 618\u001b[0;31m             \u001b[0;32mraise\u001b[0m \u001b[0mTypeError\u001b[0m\u001b[0;34m(\u001b[0m\u001b[0;34m\"Image data cannot be converted to float\"\u001b[0m\u001b[0;34m)\u001b[0m\u001b[0;34m\u001b[0m\u001b[0;34m\u001b[0m\u001b[0m\n\u001b[0m\u001b[1;32m    619\u001b[0m \u001b[0;34m\u001b[0m\u001b[0m\n\u001b[1;32m    620\u001b[0m         if not (self._A.ndim == 2\n",
            "\u001b[0;31mTypeError\u001b[0m: Image data cannot be converted to float"
          ]
        },
        {
          "output_type": "display_data",
          "data": {
            "text/plain": [
              "<matplotlib.figure.Figure at 0x7f4059dd2668>"
            ],
            "image/svg+xml": "<?xml version=\"1.0\" encoding=\"utf-8\" standalone=\"no\"?>\n<!DOCTYPE svg PUBLIC \"-//W3C//DTD SVG 1.1//EN\"\n  \"http://www.w3.org/Graphics/SVG/1.1/DTD/svg11.dtd\">\n<!-- Created with matplotlib (http://matplotlib.org/) -->\n<svg height=\"333pt\" version=\"1.1\" viewBox=\"0 0 341 333\" width=\"341pt\" xmlns=\"http://www.w3.org/2000/svg\" xmlns:xlink=\"http://www.w3.org/1999/xlink\">\n <defs>\n  <style type=\"text/css\">\n*{stroke-linecap:butt;stroke-linejoin:round;}\n  </style>\n </defs>\n <g id=\"figure_1\">\n  <g id=\"patch_1\">\n   <path d=\"M 0 333.325312 \nL 341.23 333.325312 \nL 341.23 0 \nL 0 0 \nz\n\" style=\"fill:#ffffff;\"/>\n  </g>\n  <g id=\"axes_1\">\n   <g id=\"patch_2\">\n    <path d=\"M 28.1 309.803437 \nL 327.08 309.803437 \nL 327.08 10.823437 \nL 28.1 10.823437 \nz\n\" style=\"fill:#eaeaf2;\"/>\n   </g>\n   <g id=\"matplotlib.axis_1\">\n    <g id=\"xtick_1\">\n     <g id=\"line2d_1\">\n      <path clip-path=\"url(#p83a07cf495)\" d=\"M 28.1 309.803437 \nL 28.1 10.823437 \n\" style=\"fill:none;stroke:#ffffff;stroke-linecap:round;\"/>\n     </g>\n     <g id=\"line2d_2\"/>\n     <g id=\"text_1\">\n      <!-- 0.0 -->\n      <defs>\n       <path d=\"M 51.703125 34.421875 \nQ 51.703125 24.515625 49.828125 17.75 \nQ 47.953125 10.984375 44.703125 6.8125 \nQ 41.453125 2.640625 37.0625 0.828125 \nQ 32.671875 -0.984375 27.6875 -0.984375 \nQ 22.65625 -0.984375 18.3125 0.828125 \nQ 13.96875 2.640625 10.765625 6.78125 \nQ 7.5625 10.9375 5.734375 17.703125 \nQ 3.90625 24.46875 3.90625 34.421875 \nQ 3.90625 44.828125 5.734375 51.640625 \nQ 7.5625 58.453125 10.78125 62.5 \nQ 14.015625 66.546875 18.40625 68.1875 \nQ 22.796875 69.828125 27.984375 69.828125 \nQ 32.90625 69.828125 37.21875 68.1875 \nQ 41.546875 66.546875 44.765625 62.5 \nQ 48 58.453125 49.84375 51.640625 \nQ 51.703125 44.828125 51.703125 34.421875 \nz\nM 42.78125 34.421875 \nQ 42.78125 42.625 41.796875 48.0625 \nQ 40.828125 53.515625 38.921875 56.765625 \nQ 37.015625 60.015625 34.25 61.359375 \nQ 31.5 62.703125 27.984375 62.703125 \nQ 24.265625 62.703125 21.4375 61.328125 \nQ 18.609375 59.96875 16.671875 56.71875 \nQ 14.75 53.46875 13.765625 48.015625 \nQ 12.796875 42.578125 12.796875 34.421875 \nQ 12.796875 26.515625 13.796875 21.09375 \nQ 14.796875 15.671875 16.71875 12.375 \nQ 18.65625 9.078125 21.4375 7.640625 \nQ 24.21875 6.203125 27.78125 6.203125 \nQ 31.25 6.203125 34.03125 7.640625 \nQ 36.8125 9.078125 38.734375 12.375 \nQ 40.671875 15.671875 41.71875 21.09375 \nQ 42.78125 26.515625 42.78125 34.421875 \nz\n\" id=\"LiberationSans-30\"/>\n       <path d=\"M 9.125 0 \nL 9.125 10.6875 \nL 18.65625 10.6875 \nL 18.65625 0 \nz\n\" id=\"LiberationSans-2e\"/>\n      </defs>\n      <g style=\"fill:#262626;\" transform=\"translate(21.15 324.050313)scale(0.1 -0.1)\">\n       <use xlink:href=\"#LiberationSans-30\"/>\n       <use x=\"55.615234\" xlink:href=\"#LiberationSans-2e\"/>\n       <use x=\"83.398438\" xlink:href=\"#LiberationSans-30\"/>\n      </g>\n     </g>\n    </g>\n    <g id=\"xtick_2\">\n     <g id=\"line2d_3\">\n      <path clip-path=\"url(#p83a07cf495)\" d=\"M 87.896 309.803437 \nL 87.896 10.823437 \n\" style=\"fill:none;stroke:#ffffff;stroke-linecap:round;\"/>\n     </g>\n     <g id=\"line2d_4\"/>\n     <g id=\"text_2\">\n      <!-- 0.2 -->\n      <defs>\n       <path d=\"M 5.03125 0 \nL 5.03125 6.203125 \nQ 7.515625 11.921875 11.109375 16.28125 \nQ 14.703125 20.65625 18.65625 24.1875 \nQ 22.609375 27.734375 26.484375 30.765625 \nQ 30.375 33.796875 33.5 36.8125 \nQ 36.625 39.84375 38.546875 43.15625 \nQ 40.484375 46.484375 40.484375 50.6875 \nQ 40.484375 53.609375 39.59375 55.828125 \nQ 38.71875 58.0625 37.0625 59.5625 \nQ 35.40625 61.078125 33.078125 61.828125 \nQ 30.765625 62.59375 27.9375 62.59375 \nQ 25.296875 62.59375 22.96875 61.859375 \nQ 20.65625 61.140625 18.84375 59.671875 \nQ 17.046875 58.203125 15.890625 56.03125 \nQ 14.75 53.859375 14.40625 50.984375 \nL 5.421875 51.8125 \nQ 5.859375 55.515625 7.46875 58.78125 \nQ 9.078125 62.0625 11.90625 64.53125 \nQ 14.75 67 18.71875 68.40625 \nQ 22.703125 69.828125 27.9375 69.828125 \nQ 33.0625 69.828125 37.0625 68.609375 \nQ 41.0625 67.390625 43.8125 64.984375 \nQ 46.578125 62.59375 48.046875 59.078125 \nQ 49.515625 55.5625 49.515625 50.984375 \nQ 49.515625 47.515625 48.265625 44.390625 \nQ 47.015625 41.265625 44.9375 38.421875 \nQ 42.875 35.59375 40.140625 32.953125 \nQ 37.40625 30.328125 34.421875 27.8125 \nQ 31.453125 25.296875 28.421875 22.828125 \nQ 25.390625 20.359375 22.71875 17.859375 \nQ 20.0625 15.375 17.96875 12.8125 \nQ 15.875 10.25 14.703125 7.46875 \nL 50.59375 7.46875 \nL 50.59375 0 \nz\n\" id=\"LiberationSans-32\"/>\n      </defs>\n      <g style=\"fill:#262626;\" transform=\"translate(80.946 324.050313)scale(0.1 -0.1)\">\n       <use xlink:href=\"#LiberationSans-30\"/>\n       <use x=\"55.615234\" xlink:href=\"#LiberationSans-2e\"/>\n       <use x=\"83.398438\" xlink:href=\"#LiberationSans-32\"/>\n      </g>\n     </g>\n    </g>\n    <g id=\"xtick_3\">\n     <g id=\"line2d_5\">\n      <path clip-path=\"url(#p83a07cf495)\" d=\"M 147.692 309.803437 \nL 147.692 10.823437 \n\" style=\"fill:none;stroke:#ffffff;stroke-linecap:round;\"/>\n     </g>\n     <g id=\"line2d_6\"/>\n     <g id=\"text_3\">\n      <!-- 0.4 -->\n      <defs>\n       <path d=\"M 43.015625 15.578125 \nL 43.015625 0 \nL 34.71875 0 \nL 34.71875 15.578125 \nL 2.296875 15.578125 \nL 2.296875 22.40625 \nL 33.796875 68.796875 \nL 43.015625 68.796875 \nL 43.015625 22.515625 \nL 52.6875 22.515625 \nL 52.6875 15.578125 \nz\nM 34.71875 58.890625 \nQ 34.625 58.640625 34.234375 57.9375 \nQ 33.84375 57.234375 33.34375 56.34375 \nQ 32.859375 55.46875 32.34375 54.5625 \nQ 31.84375 53.65625 31.453125 53.078125 \nL 13.8125 27.09375 \nQ 13.578125 26.703125 13.109375 26.0625 \nQ 12.640625 25.4375 12.15625 24.78125 \nQ 11.671875 24.125 11.171875 23.484375 \nQ 10.6875 22.859375 10.40625 22.515625 \nL 34.71875 22.515625 \nz\n\" id=\"LiberationSans-34\"/>\n      </defs>\n      <g style=\"fill:#262626;\" transform=\"translate(140.742 324.050313)scale(0.1 -0.1)\">\n       <use xlink:href=\"#LiberationSans-30\"/>\n       <use x=\"55.615234\" xlink:href=\"#LiberationSans-2e\"/>\n       <use x=\"83.398438\" xlink:href=\"#LiberationSans-34\"/>\n      </g>\n     </g>\n    </g>\n    <g id=\"xtick_4\">\n     <g id=\"line2d_7\">\n      <path clip-path=\"url(#p83a07cf495)\" d=\"M 207.488 309.803437 \nL 207.488 10.823437 \n\" style=\"fill:none;stroke:#ffffff;stroke-linecap:round;\"/>\n     </g>\n     <g id=\"line2d_8\"/>\n     <g id=\"text_4\">\n      <!-- 0.6 -->\n      <defs>\n       <path d=\"M 51.21875 22.515625 \nQ 51.21875 17.328125 49.78125 13 \nQ 48.34375 8.6875 45.53125 5.578125 \nQ 42.71875 2.484375 38.5625 0.75 \nQ 34.421875 -0.984375 29 -0.984375 \nQ 23 -0.984375 18.5 1.3125 \nQ 14.015625 3.609375 11.03125 7.921875 \nQ 8.0625 12.25 6.5625 18.53125 \nQ 5.078125 24.8125 5.078125 32.8125 \nQ 5.078125 42 6.765625 48.921875 \nQ 8.453125 55.859375 11.625 60.5 \nQ 14.796875 65.140625 19.359375 67.484375 \nQ 23.921875 69.828125 29.6875 69.828125 \nQ 33.203125 69.828125 36.28125 69.09375 \nQ 39.359375 68.359375 41.875 66.71875 \nQ 44.390625 65.09375 46.28125 62.40625 \nQ 48.1875 59.71875 49.3125 55.8125 \nL 40.921875 54.296875 \nQ 39.546875 58.734375 36.546875 60.71875 \nQ 33.546875 62.703125 29.59375 62.703125 \nQ 25.984375 62.703125 23.046875 60.984375 \nQ 20.125 59.28125 18.0625 55.875 \nQ 16.015625 52.484375 14.90625 47.359375 \nQ 13.8125 42.234375 13.8125 35.40625 \nQ 16.21875 39.84375 20.5625 42.15625 \nQ 24.90625 44.484375 30.515625 44.484375 \nQ 35.203125 44.484375 39.015625 42.96875 \nQ 42.828125 41.453125 45.53125 38.59375 \nQ 48.25 35.75 49.734375 31.671875 \nQ 51.21875 27.59375 51.21875 22.515625 \nz\nM 42.28125 22.125 \nQ 42.28125 25.6875 41.40625 28.5625 \nQ 40.53125 31.453125 38.765625 33.46875 \nQ 37.015625 35.5 34.421875 36.59375 \nQ 31.84375 37.703125 28.421875 37.703125 \nQ 26.03125 37.703125 23.578125 36.984375 \nQ 21.140625 36.28125 19.15625 34.6875 \nQ 17.1875 33.109375 15.9375 30.515625 \nQ 14.703125 27.9375 14.703125 24.21875 \nQ 14.703125 20.40625 15.671875 17.109375 \nQ 16.65625 13.8125 18.484375 11.375 \nQ 20.3125 8.9375 22.890625 7.515625 \nQ 25.484375 6.109375 28.71875 6.109375 \nQ 31.890625 6.109375 34.40625 7.203125 \nQ 36.921875 8.296875 38.671875 10.375 \nQ 40.4375 12.453125 41.359375 15.421875 \nQ 42.28125 18.40625 42.28125 22.125 \nz\n\" id=\"LiberationSans-36\"/>\n      </defs>\n      <g style=\"fill:#262626;\" transform=\"translate(200.538 324.050313)scale(0.1 -0.1)\">\n       <use xlink:href=\"#LiberationSans-30\"/>\n       <use x=\"55.615234\" xlink:href=\"#LiberationSans-2e\"/>\n       <use x=\"83.398438\" xlink:href=\"#LiberationSans-36\"/>\n      </g>\n     </g>\n    </g>\n    <g id=\"xtick_5\">\n     <g id=\"line2d_9\">\n      <path clip-path=\"url(#p83a07cf495)\" d=\"M 267.284 309.803437 \nL 267.284 10.823437 \n\" style=\"fill:none;stroke:#ffffff;stroke-linecap:round;\"/>\n     </g>\n     <g id=\"line2d_10\"/>\n     <g id=\"text_5\">\n      <!-- 0.8 -->\n      <defs>\n       <path d=\"M 51.265625 19.1875 \nQ 51.265625 14.796875 49.875 11.109375 \nQ 48.484375 7.421875 45.625 4.734375 \nQ 42.78125 2.046875 38.328125 0.53125 \nQ 33.890625 -0.984375 27.828125 -0.984375 \nQ 21.78125 -0.984375 17.359375 0.53125 \nQ 12.9375 2.046875 10.03125 4.703125 \nQ 7.125 7.375 5.734375 11.0625 \nQ 4.34375 14.75 4.34375 19.09375 \nQ 4.34375 22.859375 5.484375 25.78125 \nQ 6.640625 28.71875 8.5625 30.828125 \nQ 10.5 32.953125 12.96875 34.25 \nQ 15.4375 35.546875 18.0625 35.984375 \nL 18.0625 36.1875 \nQ 15.1875 36.859375 12.90625 38.375 \nQ 10.640625 39.890625 9.09375 42.015625 \nQ 7.5625 44.140625 6.75 46.71875 \nQ 5.953125 49.3125 5.953125 52.203125 \nQ 5.953125 55.8125 7.34375 59 \nQ 8.734375 62.203125 11.46875 64.625 \nQ 14.203125 67.046875 18.25 68.4375 \nQ 22.3125 69.828125 27.640625 69.828125 \nQ 33.25 69.828125 37.375 68.40625 \nQ 41.5 67 44.203125 64.578125 \nQ 46.921875 62.15625 48.234375 58.9375 \nQ 49.5625 55.71875 49.5625 52.09375 \nQ 49.5625 49.265625 48.75 46.671875 \nQ 47.953125 44.09375 46.40625 41.96875 \nQ 44.875 39.84375 42.59375 38.34375 \nQ 40.328125 36.859375 37.359375 36.28125 \nL 37.359375 36.078125 \nQ 40.328125 35.59375 42.859375 34.296875 \nQ 45.40625 33.015625 47.265625 30.890625 \nQ 49.125 28.765625 50.1875 25.828125 \nQ 51.265625 22.90625 51.265625 19.1875 \nz\nM 40.4375 51.609375 \nQ 40.4375 54.203125 39.765625 56.34375 \nQ 39.109375 58.5 37.59375 60.03125 \nQ 36.078125 61.578125 33.640625 62.421875 \nQ 31.203125 63.28125 27.640625 63.28125 \nQ 24.171875 63.28125 21.78125 62.421875 \nQ 19.390625 61.578125 17.84375 60.03125 \nQ 16.3125 58.5 15.625 56.34375 \nQ 14.9375 54.203125 14.9375 51.609375 \nQ 14.9375 49.5625 15.46875 47.40625 \nQ 16.015625 45.265625 17.421875 43.5 \nQ 18.84375 41.75 21.328125 40.625 \nQ 23.828125 39.5 27.734375 39.5 \nQ 31.890625 39.5 34.40625 40.625 \nQ 36.921875 41.75 38.25 43.5 \nQ 39.59375 45.265625 40.015625 47.40625 \nQ 40.4375 49.5625 40.4375 51.609375 \nz\nM 42.140625 20.015625 \nQ 42.140625 22.515625 41.453125 24.828125 \nQ 40.765625 27.15625 39.109375 28.9375 \nQ 37.453125 30.71875 34.640625 31.8125 \nQ 31.84375 32.90625 27.640625 32.90625 \nQ 23.78125 32.90625 21.0625 31.8125 \nQ 18.359375 30.71875 16.671875 28.90625 \nQ 14.984375 27.09375 14.203125 24.71875 \nQ 13.421875 22.359375 13.421875 19.828125 \nQ 13.421875 16.65625 14.203125 14.03125 \nQ 14.984375 11.421875 16.6875 9.546875 \nQ 18.40625 7.671875 21.1875 6.640625 \nQ 23.96875 5.609375 27.9375 5.609375 \nQ 31.9375 5.609375 34.671875 6.640625 \nQ 37.40625 7.671875 39.0625 9.546875 \nQ 40.71875 11.421875 41.421875 14.078125 \nQ 42.140625 16.75 42.140625 20.015625 \nz\n\" id=\"LiberationSans-38\"/>\n      </defs>\n      <g style=\"fill:#262626;\" transform=\"translate(260.334 324.050313)scale(0.1 -0.1)\">\n       <use xlink:href=\"#LiberationSans-30\"/>\n       <use x=\"55.615234\" xlink:href=\"#LiberationSans-2e\"/>\n       <use x=\"83.398438\" xlink:href=\"#LiberationSans-38\"/>\n      </g>\n     </g>\n    </g>\n    <g id=\"xtick_6\">\n     <g id=\"line2d_11\">\n      <path clip-path=\"url(#p83a07cf495)\" d=\"M 327.08 309.803437 \nL 327.08 10.823437 \n\" style=\"fill:none;stroke:#ffffff;stroke-linecap:round;\"/>\n     </g>\n     <g id=\"line2d_12\"/>\n     <g id=\"text_6\">\n      <!-- 1.0 -->\n      <defs>\n       <path d=\"M 7.625 0 \nL 7.625 7.46875 \nL 25.140625 7.46875 \nL 25.140625 60.40625 \nL 9.625 49.3125 \nL 9.625 57.625 \nL 25.875 68.796875 \nL 33.984375 68.796875 \nL 33.984375 7.46875 \nL 50.734375 7.46875 \nL 50.734375 0 \nz\n\" id=\"LiberationSans-31\"/>\n      </defs>\n      <g style=\"fill:#262626;\" transform=\"translate(320.13 324.050313)scale(0.1 -0.1)\">\n       <use xlink:href=\"#LiberationSans-31\"/>\n       <use x=\"55.615234\" xlink:href=\"#LiberationSans-2e\"/>\n       <use x=\"83.398438\" xlink:href=\"#LiberationSans-30\"/>\n      </g>\n     </g>\n    </g>\n   </g>\n   <g id=\"matplotlib.axis_2\">\n    <g id=\"ytick_1\">\n     <g id=\"line2d_13\">\n      <path clip-path=\"url(#p83a07cf495)\" d=\"M 28.1 309.803437 \nL 327.08 309.803437 \n\" style=\"fill:none;stroke:#ffffff;stroke-linecap:round;\"/>\n     </g>\n     <g id=\"line2d_14\"/>\n     <g id=\"text_7\">\n      <!-- 0.0 -->\n      <g style=\"fill:#262626;\" transform=\"translate(7.2 313.426875)scale(0.1 -0.1)\">\n       <use xlink:href=\"#LiberationSans-30\"/>\n       <use x=\"55.615234\" xlink:href=\"#LiberationSans-2e\"/>\n       <use x=\"83.398438\" xlink:href=\"#LiberationSans-30\"/>\n      </g>\n     </g>\n    </g>\n    <g id=\"ytick_2\">\n     <g id=\"line2d_15\">\n      <path clip-path=\"url(#p83a07cf495)\" d=\"M 28.1 250.007437 \nL 327.08 250.007437 \n\" style=\"fill:none;stroke:#ffffff;stroke-linecap:round;\"/>\n     </g>\n     <g id=\"line2d_16\"/>\n     <g id=\"text_8\">\n      <!-- 0.2 -->\n      <g style=\"fill:#262626;\" transform=\"translate(7.2 253.630875)scale(0.1 -0.1)\">\n       <use xlink:href=\"#LiberationSans-30\"/>\n       <use x=\"55.615234\" xlink:href=\"#LiberationSans-2e\"/>\n       <use x=\"83.398438\" xlink:href=\"#LiberationSans-32\"/>\n      </g>\n     </g>\n    </g>\n    <g id=\"ytick_3\">\n     <g id=\"line2d_17\">\n      <path clip-path=\"url(#p83a07cf495)\" d=\"M 28.1 190.211437 \nL 327.08 190.211437 \n\" style=\"fill:none;stroke:#ffffff;stroke-linecap:round;\"/>\n     </g>\n     <g id=\"line2d_18\"/>\n     <g id=\"text_9\">\n      <!-- 0.4 -->\n      <g style=\"fill:#262626;\" transform=\"translate(7.2 193.834875)scale(0.1 -0.1)\">\n       <use xlink:href=\"#LiberationSans-30\"/>\n       <use x=\"55.615234\" xlink:href=\"#LiberationSans-2e\"/>\n       <use x=\"83.398438\" xlink:href=\"#LiberationSans-34\"/>\n      </g>\n     </g>\n    </g>\n    <g id=\"ytick_4\">\n     <g id=\"line2d_19\">\n      <path clip-path=\"url(#p83a07cf495)\" d=\"M 28.1 130.415437 \nL 327.08 130.415437 \n\" style=\"fill:none;stroke:#ffffff;stroke-linecap:round;\"/>\n     </g>\n     <g id=\"line2d_20\"/>\n     <g id=\"text_10\">\n      <!-- 0.6 -->\n      <g style=\"fill:#262626;\" transform=\"translate(7.2 134.038875)scale(0.1 -0.1)\">\n       <use xlink:href=\"#LiberationSans-30\"/>\n       <use x=\"55.615234\" xlink:href=\"#LiberationSans-2e\"/>\n       <use x=\"83.398438\" xlink:href=\"#LiberationSans-36\"/>\n      </g>\n     </g>\n    </g>\n    <g id=\"ytick_5\">\n     <g id=\"line2d_21\">\n      <path clip-path=\"url(#p83a07cf495)\" d=\"M 28.1 70.619437 \nL 327.08 70.619437 \n\" style=\"fill:none;stroke:#ffffff;stroke-linecap:round;\"/>\n     </g>\n     <g id=\"line2d_22\"/>\n     <g id=\"text_11\">\n      <!-- 0.8 -->\n      <g style=\"fill:#262626;\" transform=\"translate(7.2 74.242875)scale(0.1 -0.1)\">\n       <use xlink:href=\"#LiberationSans-30\"/>\n       <use x=\"55.615234\" xlink:href=\"#LiberationSans-2e\"/>\n       <use x=\"83.398438\" xlink:href=\"#LiberationSans-38\"/>\n      </g>\n     </g>\n    </g>\n    <g id=\"ytick_6\">\n     <g id=\"line2d_23\">\n      <path clip-path=\"url(#p83a07cf495)\" d=\"M 28.1 10.823437 \nL 327.08 10.823437 \n\" style=\"fill:none;stroke:#ffffff;stroke-linecap:round;\"/>\n     </g>\n     <g id=\"line2d_24\"/>\n     <g id=\"text_12\">\n      <!-- 1.0 -->\n      <g style=\"fill:#262626;\" transform=\"translate(7.2 14.446875)scale(0.1 -0.1)\">\n       <use xlink:href=\"#LiberationSans-31\"/>\n       <use x=\"55.615234\" xlink:href=\"#LiberationSans-2e\"/>\n       <use x=\"83.398438\" xlink:href=\"#LiberationSans-30\"/>\n      </g>\n     </g>\n    </g>\n   </g>\n   <g id=\"patch_3\">\n    <path d=\"M 28.1 309.803437 \nL 28.1 10.823437 \n\" style=\"fill:none;\"/>\n   </g>\n   <g id=\"patch_4\">\n    <path d=\"M 327.08 309.803437 \nL 327.08 10.823437 \n\" style=\"fill:none;\"/>\n   </g>\n   <g id=\"patch_5\">\n    <path d=\"M 28.1 309.803437 \nL 327.08 309.803437 \n\" style=\"fill:none;\"/>\n   </g>\n   <g id=\"patch_6\">\n    <path d=\"M 28.1 10.823437 \nL 327.08 10.823437 \n\" style=\"fill:none;\"/>\n   </g>\n  </g>\n </g>\n <defs>\n  <clipPath id=\"p83a07cf495\">\n   <rect height=\"298.98\" width=\"298.98\" x=\"28.1\" y=\"10.823437\"/>\n  </clipPath>\n </defs>\n</svg>\n"
          },
          "metadata": {
            "tags": []
          }
        }
      ]
    },
    {
      "metadata": {
        "id": "W1qdZqHFHiFo",
        "colab_type": "code",
        "colab": {
          "base_uri": "https://localhost:8080/",
          "height": 34
        },
        "outputId": "dd4ce58f-6998-40c4-8554-f52c8aa89bd4"
      },
      "cell_type": "code",
      "source": [
        "cd ..\n"
      ],
      "execution_count": 82,
      "outputs": [
        {
          "output_type": "stream",
          "text": [
            "/content\n"
          ],
          "name": "stdout"
        }
      ]
    },
    {
      "metadata": {
        "id": "mcuBjaIwKTMX",
        "colab_type": "code",
        "colab": {}
      },
      "cell_type": "code",
      "source": [
        "cp DOG.jpg darkflow/"
      ],
      "execution_count": 0,
      "outputs": []
    },
    {
      "metadata": {
        "id": "gPggMKM4KaRo",
        "colab_type": "code",
        "colab": {
          "base_uri": "https://localhost:8080/",
          "height": 34
        },
        "outputId": "cf123af7-a50f-4727-c6be-cc5d6aa6b95b"
      },
      "cell_type": "code",
      "source": [
        "!ls"
      ],
      "execution_count": 85,
      "outputs": [
        {
          "output_type": "stream",
          "text": [
            "darkflow  dog.jfif  DOG.jpg  sample_data  videoplayback.mp4  yolov2.weights\n"
          ],
          "name": "stdout"
        }
      ]
    },
    {
      "metadata": {
        "id": "QnYppK1EKiX0",
        "colab_type": "code",
        "colab": {}
      },
      "cell_type": "code",
      "source": [
        "im = cv2.imread('Dog.jpg')"
      ],
      "execution_count": 0,
      "outputs": []
    },
    {
      "metadata": {
        "id": "0k5or1eiKyXn",
        "colab_type": "code",
        "colab": {
          "base_uri": "https://localhost:8080/",
          "height": 282
        },
        "outputId": "ef23a67f-835f-4b0e-faa7-a63f552a9e23"
      },
      "cell_type": "code",
      "source": [
        "result = tfnet.return_predict(im)"
      ],
      "execution_count": 87,
      "outputs": [
        {
          "output_type": "error",
          "ename": "AssertionError",
          "evalue": "ignored",
          "traceback": [
            "\u001b[0;31m---------------------------------------------------------------------------\u001b[0m",
            "\u001b[0;31mAssertionError\u001b[0m                            Traceback (most recent call last)",
            "\u001b[0;32m<ipython-input-87-90aae9158f57>\u001b[0m in \u001b[0;36m<module>\u001b[0;34m()\u001b[0m\n\u001b[0;32m----> 1\u001b[0;31m \u001b[0mresult\u001b[0m \u001b[0;34m=\u001b[0m \u001b[0mtfnet\u001b[0m\u001b[0;34m.\u001b[0m\u001b[0mreturn_predict\u001b[0m\u001b[0;34m(\u001b[0m\u001b[0mim\u001b[0m\u001b[0;34m)\u001b[0m\u001b[0;34m\u001b[0m\u001b[0;34m\u001b[0m\u001b[0m\n\u001b[0m",
            "\u001b[0;32m/content/darkflow/darkflow/net/flow.py\u001b[0m in \u001b[0;36mreturn_predict\u001b[0;34m(self, im)\u001b[0m\n\u001b[1;32m     76\u001b[0m \u001b[0;32mdef\u001b[0m \u001b[0mreturn_predict\u001b[0m\u001b[0;34m(\u001b[0m\u001b[0mself\u001b[0m\u001b[0;34m,\u001b[0m \u001b[0mim\u001b[0m\u001b[0;34m)\u001b[0m\u001b[0;34m:\u001b[0m\u001b[0;34m\u001b[0m\u001b[0;34m\u001b[0m\u001b[0m\n\u001b[1;32m     77\u001b[0m     \u001b[0;32massert\u001b[0m \u001b[0misinstance\u001b[0m\u001b[0;34m(\u001b[0m\u001b[0mim\u001b[0m\u001b[0;34m,\u001b[0m \u001b[0mnp\u001b[0m\u001b[0;34m.\u001b[0m\u001b[0mndarray\u001b[0m\u001b[0;34m)\u001b[0m\u001b[0;34m,\u001b[0m\u001b[0;31m \u001b[0m\u001b[0;31m\\\u001b[0m\u001b[0;34m\u001b[0m\u001b[0;34m\u001b[0m\u001b[0m\n\u001b[0;32m---> 78\u001b[0;31m                                 \u001b[0;34m'Image is not a np.ndarray'\u001b[0m\u001b[0;34m\u001b[0m\u001b[0;34m\u001b[0m\u001b[0m\n\u001b[0m\u001b[1;32m     79\u001b[0m     \u001b[0mh\u001b[0m\u001b[0;34m,\u001b[0m \u001b[0mw\u001b[0m\u001b[0;34m,\u001b[0m \u001b[0m_\u001b[0m \u001b[0;34m=\u001b[0m \u001b[0mim\u001b[0m\u001b[0;34m.\u001b[0m\u001b[0mshape\u001b[0m\u001b[0;34m\u001b[0m\u001b[0;34m\u001b[0m\u001b[0m\n\u001b[1;32m     80\u001b[0m     \u001b[0mim\u001b[0m \u001b[0;34m=\u001b[0m \u001b[0mself\u001b[0m\u001b[0;34m.\u001b[0m\u001b[0mframework\u001b[0m\u001b[0;34m.\u001b[0m\u001b[0mresize_input\u001b[0m\u001b[0;34m(\u001b[0m\u001b[0mim\u001b[0m\u001b[0;34m)\u001b[0m\u001b[0;34m\u001b[0m\u001b[0;34m\u001b[0m\u001b[0m\n",
            "\u001b[0;31mAssertionError\u001b[0m: Image is not a np.ndarray"
          ]
        }
      ]
    },
    {
      "metadata": {
        "id": "xh7KoGrnK202",
        "colab_type": "code",
        "colab": {
          "base_uri": "https://localhost:8080/",
          "height": 1107
        },
        "outputId": "df3daf91-054a-44f4-92af-4b4096ba713c"
      },
      "cell_type": "code",
      "source": [
        "plt.imshow(image)"
      ],
      "execution_count": 93,
      "outputs": [
        {
          "output_type": "error",
          "ename": "TypeError",
          "evalue": "ignored",
          "traceback": [
            "\u001b[0;31m---------------------------------------------------------------------------\u001b[0m",
            "\u001b[0;31mTypeError\u001b[0m                                 Traceback (most recent call last)",
            "\u001b[0;32m<ipython-input-93-12ba6d47bd7e>\u001b[0m in \u001b[0;36m<module>\u001b[0;34m()\u001b[0m\n\u001b[0;32m----> 1\u001b[0;31m \u001b[0mplt\u001b[0m\u001b[0;34m.\u001b[0m\u001b[0mimshow\u001b[0m\u001b[0;34m(\u001b[0m\u001b[0mimage\u001b[0m\u001b[0;34m)\u001b[0m\u001b[0;34m\u001b[0m\u001b[0;34m\u001b[0m\u001b[0m\n\u001b[0m",
            "\u001b[0;32m/usr/local/lib/python3.6/dist-packages/matplotlib/pyplot.py\u001b[0m in \u001b[0;36mimshow\u001b[0;34m(X, cmap, norm, aspect, interpolation, alpha, vmin, vmax, origin, extent, shape, filternorm, filterrad, imlim, resample, url, hold, data, **kwargs)\u001b[0m\n\u001b[1;32m   3099\u001b[0m                         \u001b[0mfilternorm\u001b[0m\u001b[0;34m=\u001b[0m\u001b[0mfilternorm\u001b[0m\u001b[0;34m,\u001b[0m \u001b[0mfilterrad\u001b[0m\u001b[0;34m=\u001b[0m\u001b[0mfilterrad\u001b[0m\u001b[0;34m,\u001b[0m\u001b[0;34m\u001b[0m\u001b[0;34m\u001b[0m\u001b[0m\n\u001b[1;32m   3100\u001b[0m                         \u001b[0mimlim\u001b[0m\u001b[0;34m=\u001b[0m\u001b[0mimlim\u001b[0m\u001b[0;34m,\u001b[0m \u001b[0mresample\u001b[0m\u001b[0;34m=\u001b[0m\u001b[0mresample\u001b[0m\u001b[0;34m,\u001b[0m \u001b[0murl\u001b[0m\u001b[0;34m=\u001b[0m\u001b[0murl\u001b[0m\u001b[0;34m,\u001b[0m \u001b[0mdata\u001b[0m\u001b[0;34m=\u001b[0m\u001b[0mdata\u001b[0m\u001b[0;34m,\u001b[0m\u001b[0;34m\u001b[0m\u001b[0;34m\u001b[0m\u001b[0m\n\u001b[0;32m-> 3101\u001b[0;31m                         **kwargs)\n\u001b[0m\u001b[1;32m   3102\u001b[0m     \u001b[0;32mfinally\u001b[0m\u001b[0;34m:\u001b[0m\u001b[0;34m\u001b[0m\u001b[0;34m\u001b[0m\u001b[0m\n\u001b[1;32m   3103\u001b[0m         \u001b[0max\u001b[0m\u001b[0;34m.\u001b[0m\u001b[0m_hold\u001b[0m \u001b[0;34m=\u001b[0m \u001b[0mwashold\u001b[0m\u001b[0;34m\u001b[0m\u001b[0;34m\u001b[0m\u001b[0m\n",
            "\u001b[0;32m/usr/local/lib/python3.6/dist-packages/matplotlib/__init__.py\u001b[0m in \u001b[0;36minner\u001b[0;34m(ax, *args, **kwargs)\u001b[0m\n\u001b[1;32m   1715\u001b[0m                     warnings.warn(msg % (label_namer, func.__name__),\n\u001b[1;32m   1716\u001b[0m                                   RuntimeWarning, stacklevel=2)\n\u001b[0;32m-> 1717\u001b[0;31m             \u001b[0;32mreturn\u001b[0m \u001b[0mfunc\u001b[0m\u001b[0;34m(\u001b[0m\u001b[0max\u001b[0m\u001b[0;34m,\u001b[0m \u001b[0;34m*\u001b[0m\u001b[0margs\u001b[0m\u001b[0;34m,\u001b[0m \u001b[0;34m**\u001b[0m\u001b[0mkwargs\u001b[0m\u001b[0;34m)\u001b[0m\u001b[0;34m\u001b[0m\u001b[0;34m\u001b[0m\u001b[0m\n\u001b[0m\u001b[1;32m   1718\u001b[0m         \u001b[0mpre_doc\u001b[0m \u001b[0;34m=\u001b[0m \u001b[0minner\u001b[0m\u001b[0;34m.\u001b[0m\u001b[0m__doc__\u001b[0m\u001b[0;34m\u001b[0m\u001b[0;34m\u001b[0m\u001b[0m\n\u001b[1;32m   1719\u001b[0m         \u001b[0;32mif\u001b[0m \u001b[0mpre_doc\u001b[0m \u001b[0;32mis\u001b[0m \u001b[0;32mNone\u001b[0m\u001b[0;34m:\u001b[0m\u001b[0;34m\u001b[0m\u001b[0;34m\u001b[0m\u001b[0m\n",
            "\u001b[0;32m/usr/local/lib/python3.6/dist-packages/matplotlib/axes/_axes.py\u001b[0m in \u001b[0;36mimshow\u001b[0;34m(self, X, cmap, norm, aspect, interpolation, alpha, vmin, vmax, origin, extent, shape, filternorm, filterrad, imlim, resample, url, **kwargs)\u001b[0m\n\u001b[1;32m   5129\u001b[0m                               resample=resample, **kwargs)\n\u001b[1;32m   5130\u001b[0m \u001b[0;34m\u001b[0m\u001b[0m\n\u001b[0;32m-> 5131\u001b[0;31m         \u001b[0mim\u001b[0m\u001b[0;34m.\u001b[0m\u001b[0mset_data\u001b[0m\u001b[0;34m(\u001b[0m\u001b[0mX\u001b[0m\u001b[0;34m)\u001b[0m\u001b[0;34m\u001b[0m\u001b[0;34m\u001b[0m\u001b[0m\n\u001b[0m\u001b[1;32m   5132\u001b[0m         \u001b[0mim\u001b[0m\u001b[0;34m.\u001b[0m\u001b[0mset_alpha\u001b[0m\u001b[0;34m(\u001b[0m\u001b[0malpha\u001b[0m\u001b[0;34m)\u001b[0m\u001b[0;34m\u001b[0m\u001b[0;34m\u001b[0m\u001b[0m\n\u001b[1;32m   5133\u001b[0m         \u001b[0;32mif\u001b[0m \u001b[0mim\u001b[0m\u001b[0;34m.\u001b[0m\u001b[0mget_clip_path\u001b[0m\u001b[0;34m(\u001b[0m\u001b[0;34m)\u001b[0m \u001b[0;32mis\u001b[0m \u001b[0;32mNone\u001b[0m\u001b[0;34m:\u001b[0m\u001b[0;34m\u001b[0m\u001b[0;34m\u001b[0m\u001b[0m\n",
            "\u001b[0;32m/usr/local/lib/python3.6/dist-packages/matplotlib/image.py\u001b[0m in \u001b[0;36mset_data\u001b[0;34m(self, A)\u001b[0m\n\u001b[1;32m    620\u001b[0m         if not (self._A.ndim == 2\n\u001b[1;32m    621\u001b[0m                 or self._A.ndim == 3 and self._A.shape[-1] in [3, 4]):\n\u001b[0;32m--> 622\u001b[0;31m             \u001b[0;32mraise\u001b[0m \u001b[0mTypeError\u001b[0m\u001b[0;34m(\u001b[0m\u001b[0;34m\"Invalid dimensions for image data\"\u001b[0m\u001b[0;34m)\u001b[0m\u001b[0;34m\u001b[0m\u001b[0;34m\u001b[0m\u001b[0m\n\u001b[0m\u001b[1;32m    623\u001b[0m \u001b[0;34m\u001b[0m\u001b[0m\n\u001b[1;32m    624\u001b[0m         \u001b[0mself\u001b[0m\u001b[0;34m.\u001b[0m\u001b[0m_imcache\u001b[0m \u001b[0;34m=\u001b[0m \u001b[0;32mNone\u001b[0m\u001b[0;34m\u001b[0m\u001b[0;34m\u001b[0m\u001b[0m\n",
            "\u001b[0;31mTypeError\u001b[0m: Invalid dimensions for image data"
          ]
        },
        {
          "output_type": "display_data",
          "data": {
            "text/plain": [
              "<matplotlib.figure.Figure at 0x7f40599e4cf8>"
            ],
            "image/svg+xml": "<?xml version=\"1.0\" encoding=\"utf-8\" standalone=\"no\"?>\n<!DOCTYPE svg PUBLIC \"-//W3C//DTD SVG 1.1//EN\"\n  \"http://www.w3.org/Graphics/SVG/1.1/DTD/svg11.dtd\">\n<!-- Created with matplotlib (http://matplotlib.org/) -->\n<svg height=\"333pt\" version=\"1.1\" viewBox=\"0 0 341 333\" width=\"341pt\" xmlns=\"http://www.w3.org/2000/svg\" xmlns:xlink=\"http://www.w3.org/1999/xlink\">\n <defs>\n  <style type=\"text/css\">\n*{stroke-linecap:butt;stroke-linejoin:round;}\n  </style>\n </defs>\n <g id=\"figure_1\">\n  <g id=\"patch_1\">\n   <path d=\"M 0 333.325312 \nL 341.23 333.325312 \nL 341.23 0 \nL 0 0 \nz\n\" style=\"fill:#ffffff;\"/>\n  </g>\n  <g id=\"axes_1\">\n   <g id=\"patch_2\">\n    <path d=\"M 28.1 309.803437 \nL 327.08 309.803437 \nL 327.08 10.823437 \nL 28.1 10.823437 \nz\n\" style=\"fill:#eaeaf2;\"/>\n   </g>\n   <g id=\"matplotlib.axis_1\">\n    <g id=\"xtick_1\">\n     <g id=\"line2d_1\">\n      <path clip-path=\"url(#p4d38a2fd9c)\" d=\"M 28.1 309.803437 \nL 28.1 10.823437 \n\" style=\"fill:none;stroke:#ffffff;stroke-linecap:round;\"/>\n     </g>\n     <g id=\"line2d_2\"/>\n     <g id=\"text_1\">\n      <!-- 0.0 -->\n      <defs>\n       <path d=\"M 51.703125 34.421875 \nQ 51.703125 24.515625 49.828125 17.75 \nQ 47.953125 10.984375 44.703125 6.8125 \nQ 41.453125 2.640625 37.0625 0.828125 \nQ 32.671875 -0.984375 27.6875 -0.984375 \nQ 22.65625 -0.984375 18.3125 0.828125 \nQ 13.96875 2.640625 10.765625 6.78125 \nQ 7.5625 10.9375 5.734375 17.703125 \nQ 3.90625 24.46875 3.90625 34.421875 \nQ 3.90625 44.828125 5.734375 51.640625 \nQ 7.5625 58.453125 10.78125 62.5 \nQ 14.015625 66.546875 18.40625 68.1875 \nQ 22.796875 69.828125 27.984375 69.828125 \nQ 32.90625 69.828125 37.21875 68.1875 \nQ 41.546875 66.546875 44.765625 62.5 \nQ 48 58.453125 49.84375 51.640625 \nQ 51.703125 44.828125 51.703125 34.421875 \nz\nM 42.78125 34.421875 \nQ 42.78125 42.625 41.796875 48.0625 \nQ 40.828125 53.515625 38.921875 56.765625 \nQ 37.015625 60.015625 34.25 61.359375 \nQ 31.5 62.703125 27.984375 62.703125 \nQ 24.265625 62.703125 21.4375 61.328125 \nQ 18.609375 59.96875 16.671875 56.71875 \nQ 14.75 53.46875 13.765625 48.015625 \nQ 12.796875 42.578125 12.796875 34.421875 \nQ 12.796875 26.515625 13.796875 21.09375 \nQ 14.796875 15.671875 16.71875 12.375 \nQ 18.65625 9.078125 21.4375 7.640625 \nQ 24.21875 6.203125 27.78125 6.203125 \nQ 31.25 6.203125 34.03125 7.640625 \nQ 36.8125 9.078125 38.734375 12.375 \nQ 40.671875 15.671875 41.71875 21.09375 \nQ 42.78125 26.515625 42.78125 34.421875 \nz\n\" id=\"LiberationSans-30\"/>\n       <path d=\"M 9.125 0 \nL 9.125 10.6875 \nL 18.65625 10.6875 \nL 18.65625 0 \nz\n\" id=\"LiberationSans-2e\"/>\n      </defs>\n      <g style=\"fill:#262626;\" transform=\"translate(21.15 324.050313)scale(0.1 -0.1)\">\n       <use xlink:href=\"#LiberationSans-30\"/>\n       <use x=\"55.615234\" xlink:href=\"#LiberationSans-2e\"/>\n       <use x=\"83.398438\" xlink:href=\"#LiberationSans-30\"/>\n      </g>\n     </g>\n    </g>\n    <g id=\"xtick_2\">\n     <g id=\"line2d_3\">\n      <path clip-path=\"url(#p4d38a2fd9c)\" d=\"M 87.896 309.803437 \nL 87.896 10.823437 \n\" style=\"fill:none;stroke:#ffffff;stroke-linecap:round;\"/>\n     </g>\n     <g id=\"line2d_4\"/>\n     <g id=\"text_2\">\n      <!-- 0.2 -->\n      <defs>\n       <path d=\"M 5.03125 0 \nL 5.03125 6.203125 \nQ 7.515625 11.921875 11.109375 16.28125 \nQ 14.703125 20.65625 18.65625 24.1875 \nQ 22.609375 27.734375 26.484375 30.765625 \nQ 30.375 33.796875 33.5 36.8125 \nQ 36.625 39.84375 38.546875 43.15625 \nQ 40.484375 46.484375 40.484375 50.6875 \nQ 40.484375 53.609375 39.59375 55.828125 \nQ 38.71875 58.0625 37.0625 59.5625 \nQ 35.40625 61.078125 33.078125 61.828125 \nQ 30.765625 62.59375 27.9375 62.59375 \nQ 25.296875 62.59375 22.96875 61.859375 \nQ 20.65625 61.140625 18.84375 59.671875 \nQ 17.046875 58.203125 15.890625 56.03125 \nQ 14.75 53.859375 14.40625 50.984375 \nL 5.421875 51.8125 \nQ 5.859375 55.515625 7.46875 58.78125 \nQ 9.078125 62.0625 11.90625 64.53125 \nQ 14.75 67 18.71875 68.40625 \nQ 22.703125 69.828125 27.9375 69.828125 \nQ 33.0625 69.828125 37.0625 68.609375 \nQ 41.0625 67.390625 43.8125 64.984375 \nQ 46.578125 62.59375 48.046875 59.078125 \nQ 49.515625 55.5625 49.515625 50.984375 \nQ 49.515625 47.515625 48.265625 44.390625 \nQ 47.015625 41.265625 44.9375 38.421875 \nQ 42.875 35.59375 40.140625 32.953125 \nQ 37.40625 30.328125 34.421875 27.8125 \nQ 31.453125 25.296875 28.421875 22.828125 \nQ 25.390625 20.359375 22.71875 17.859375 \nQ 20.0625 15.375 17.96875 12.8125 \nQ 15.875 10.25 14.703125 7.46875 \nL 50.59375 7.46875 \nL 50.59375 0 \nz\n\" id=\"LiberationSans-32\"/>\n      </defs>\n      <g style=\"fill:#262626;\" transform=\"translate(80.946 324.050313)scale(0.1 -0.1)\">\n       <use xlink:href=\"#LiberationSans-30\"/>\n       <use x=\"55.615234\" xlink:href=\"#LiberationSans-2e\"/>\n       <use x=\"83.398438\" xlink:href=\"#LiberationSans-32\"/>\n      </g>\n     </g>\n    </g>\n    <g id=\"xtick_3\">\n     <g id=\"line2d_5\">\n      <path clip-path=\"url(#p4d38a2fd9c)\" d=\"M 147.692 309.803437 \nL 147.692 10.823437 \n\" style=\"fill:none;stroke:#ffffff;stroke-linecap:round;\"/>\n     </g>\n     <g id=\"line2d_6\"/>\n     <g id=\"text_3\">\n      <!-- 0.4 -->\n      <defs>\n       <path d=\"M 43.015625 15.578125 \nL 43.015625 0 \nL 34.71875 0 \nL 34.71875 15.578125 \nL 2.296875 15.578125 \nL 2.296875 22.40625 \nL 33.796875 68.796875 \nL 43.015625 68.796875 \nL 43.015625 22.515625 \nL 52.6875 22.515625 \nL 52.6875 15.578125 \nz\nM 34.71875 58.890625 \nQ 34.625 58.640625 34.234375 57.9375 \nQ 33.84375 57.234375 33.34375 56.34375 \nQ 32.859375 55.46875 32.34375 54.5625 \nQ 31.84375 53.65625 31.453125 53.078125 \nL 13.8125 27.09375 \nQ 13.578125 26.703125 13.109375 26.0625 \nQ 12.640625 25.4375 12.15625 24.78125 \nQ 11.671875 24.125 11.171875 23.484375 \nQ 10.6875 22.859375 10.40625 22.515625 \nL 34.71875 22.515625 \nz\n\" id=\"LiberationSans-34\"/>\n      </defs>\n      <g style=\"fill:#262626;\" transform=\"translate(140.742 324.050313)scale(0.1 -0.1)\">\n       <use xlink:href=\"#LiberationSans-30\"/>\n       <use x=\"55.615234\" xlink:href=\"#LiberationSans-2e\"/>\n       <use x=\"83.398438\" xlink:href=\"#LiberationSans-34\"/>\n      </g>\n     </g>\n    </g>\n    <g id=\"xtick_4\">\n     <g id=\"line2d_7\">\n      <path clip-path=\"url(#p4d38a2fd9c)\" d=\"M 207.488 309.803437 \nL 207.488 10.823437 \n\" style=\"fill:none;stroke:#ffffff;stroke-linecap:round;\"/>\n     </g>\n     <g id=\"line2d_8\"/>\n     <g id=\"text_4\">\n      <!-- 0.6 -->\n      <defs>\n       <path d=\"M 51.21875 22.515625 \nQ 51.21875 17.328125 49.78125 13 \nQ 48.34375 8.6875 45.53125 5.578125 \nQ 42.71875 2.484375 38.5625 0.75 \nQ 34.421875 -0.984375 29 -0.984375 \nQ 23 -0.984375 18.5 1.3125 \nQ 14.015625 3.609375 11.03125 7.921875 \nQ 8.0625 12.25 6.5625 18.53125 \nQ 5.078125 24.8125 5.078125 32.8125 \nQ 5.078125 42 6.765625 48.921875 \nQ 8.453125 55.859375 11.625 60.5 \nQ 14.796875 65.140625 19.359375 67.484375 \nQ 23.921875 69.828125 29.6875 69.828125 \nQ 33.203125 69.828125 36.28125 69.09375 \nQ 39.359375 68.359375 41.875 66.71875 \nQ 44.390625 65.09375 46.28125 62.40625 \nQ 48.1875 59.71875 49.3125 55.8125 \nL 40.921875 54.296875 \nQ 39.546875 58.734375 36.546875 60.71875 \nQ 33.546875 62.703125 29.59375 62.703125 \nQ 25.984375 62.703125 23.046875 60.984375 \nQ 20.125 59.28125 18.0625 55.875 \nQ 16.015625 52.484375 14.90625 47.359375 \nQ 13.8125 42.234375 13.8125 35.40625 \nQ 16.21875 39.84375 20.5625 42.15625 \nQ 24.90625 44.484375 30.515625 44.484375 \nQ 35.203125 44.484375 39.015625 42.96875 \nQ 42.828125 41.453125 45.53125 38.59375 \nQ 48.25 35.75 49.734375 31.671875 \nQ 51.21875 27.59375 51.21875 22.515625 \nz\nM 42.28125 22.125 \nQ 42.28125 25.6875 41.40625 28.5625 \nQ 40.53125 31.453125 38.765625 33.46875 \nQ 37.015625 35.5 34.421875 36.59375 \nQ 31.84375 37.703125 28.421875 37.703125 \nQ 26.03125 37.703125 23.578125 36.984375 \nQ 21.140625 36.28125 19.15625 34.6875 \nQ 17.1875 33.109375 15.9375 30.515625 \nQ 14.703125 27.9375 14.703125 24.21875 \nQ 14.703125 20.40625 15.671875 17.109375 \nQ 16.65625 13.8125 18.484375 11.375 \nQ 20.3125 8.9375 22.890625 7.515625 \nQ 25.484375 6.109375 28.71875 6.109375 \nQ 31.890625 6.109375 34.40625 7.203125 \nQ 36.921875 8.296875 38.671875 10.375 \nQ 40.4375 12.453125 41.359375 15.421875 \nQ 42.28125 18.40625 42.28125 22.125 \nz\n\" id=\"LiberationSans-36\"/>\n      </defs>\n      <g style=\"fill:#262626;\" transform=\"translate(200.538 324.050313)scale(0.1 -0.1)\">\n       <use xlink:href=\"#LiberationSans-30\"/>\n       <use x=\"55.615234\" xlink:href=\"#LiberationSans-2e\"/>\n       <use x=\"83.398438\" xlink:href=\"#LiberationSans-36\"/>\n      </g>\n     </g>\n    </g>\n    <g id=\"xtick_5\">\n     <g id=\"line2d_9\">\n      <path clip-path=\"url(#p4d38a2fd9c)\" d=\"M 267.284 309.803437 \nL 267.284 10.823437 \n\" style=\"fill:none;stroke:#ffffff;stroke-linecap:round;\"/>\n     </g>\n     <g id=\"line2d_10\"/>\n     <g id=\"text_5\">\n      <!-- 0.8 -->\n      <defs>\n       <path d=\"M 51.265625 19.1875 \nQ 51.265625 14.796875 49.875 11.109375 \nQ 48.484375 7.421875 45.625 4.734375 \nQ 42.78125 2.046875 38.328125 0.53125 \nQ 33.890625 -0.984375 27.828125 -0.984375 \nQ 21.78125 -0.984375 17.359375 0.53125 \nQ 12.9375 2.046875 10.03125 4.703125 \nQ 7.125 7.375 5.734375 11.0625 \nQ 4.34375 14.75 4.34375 19.09375 \nQ 4.34375 22.859375 5.484375 25.78125 \nQ 6.640625 28.71875 8.5625 30.828125 \nQ 10.5 32.953125 12.96875 34.25 \nQ 15.4375 35.546875 18.0625 35.984375 \nL 18.0625 36.1875 \nQ 15.1875 36.859375 12.90625 38.375 \nQ 10.640625 39.890625 9.09375 42.015625 \nQ 7.5625 44.140625 6.75 46.71875 \nQ 5.953125 49.3125 5.953125 52.203125 \nQ 5.953125 55.8125 7.34375 59 \nQ 8.734375 62.203125 11.46875 64.625 \nQ 14.203125 67.046875 18.25 68.4375 \nQ 22.3125 69.828125 27.640625 69.828125 \nQ 33.25 69.828125 37.375 68.40625 \nQ 41.5 67 44.203125 64.578125 \nQ 46.921875 62.15625 48.234375 58.9375 \nQ 49.5625 55.71875 49.5625 52.09375 \nQ 49.5625 49.265625 48.75 46.671875 \nQ 47.953125 44.09375 46.40625 41.96875 \nQ 44.875 39.84375 42.59375 38.34375 \nQ 40.328125 36.859375 37.359375 36.28125 \nL 37.359375 36.078125 \nQ 40.328125 35.59375 42.859375 34.296875 \nQ 45.40625 33.015625 47.265625 30.890625 \nQ 49.125 28.765625 50.1875 25.828125 \nQ 51.265625 22.90625 51.265625 19.1875 \nz\nM 40.4375 51.609375 \nQ 40.4375 54.203125 39.765625 56.34375 \nQ 39.109375 58.5 37.59375 60.03125 \nQ 36.078125 61.578125 33.640625 62.421875 \nQ 31.203125 63.28125 27.640625 63.28125 \nQ 24.171875 63.28125 21.78125 62.421875 \nQ 19.390625 61.578125 17.84375 60.03125 \nQ 16.3125 58.5 15.625 56.34375 \nQ 14.9375 54.203125 14.9375 51.609375 \nQ 14.9375 49.5625 15.46875 47.40625 \nQ 16.015625 45.265625 17.421875 43.5 \nQ 18.84375 41.75 21.328125 40.625 \nQ 23.828125 39.5 27.734375 39.5 \nQ 31.890625 39.5 34.40625 40.625 \nQ 36.921875 41.75 38.25 43.5 \nQ 39.59375 45.265625 40.015625 47.40625 \nQ 40.4375 49.5625 40.4375 51.609375 \nz\nM 42.140625 20.015625 \nQ 42.140625 22.515625 41.453125 24.828125 \nQ 40.765625 27.15625 39.109375 28.9375 \nQ 37.453125 30.71875 34.640625 31.8125 \nQ 31.84375 32.90625 27.640625 32.90625 \nQ 23.78125 32.90625 21.0625 31.8125 \nQ 18.359375 30.71875 16.671875 28.90625 \nQ 14.984375 27.09375 14.203125 24.71875 \nQ 13.421875 22.359375 13.421875 19.828125 \nQ 13.421875 16.65625 14.203125 14.03125 \nQ 14.984375 11.421875 16.6875 9.546875 \nQ 18.40625 7.671875 21.1875 6.640625 \nQ 23.96875 5.609375 27.9375 5.609375 \nQ 31.9375 5.609375 34.671875 6.640625 \nQ 37.40625 7.671875 39.0625 9.546875 \nQ 40.71875 11.421875 41.421875 14.078125 \nQ 42.140625 16.75 42.140625 20.015625 \nz\n\" id=\"LiberationSans-38\"/>\n      </defs>\n      <g style=\"fill:#262626;\" transform=\"translate(260.334 324.050313)scale(0.1 -0.1)\">\n       <use xlink:href=\"#LiberationSans-30\"/>\n       <use x=\"55.615234\" xlink:href=\"#LiberationSans-2e\"/>\n       <use x=\"83.398438\" xlink:href=\"#LiberationSans-38\"/>\n      </g>\n     </g>\n    </g>\n    <g id=\"xtick_6\">\n     <g id=\"line2d_11\">\n      <path clip-path=\"url(#p4d38a2fd9c)\" d=\"M 327.08 309.803437 \nL 327.08 10.823437 \n\" style=\"fill:none;stroke:#ffffff;stroke-linecap:round;\"/>\n     </g>\n     <g id=\"line2d_12\"/>\n     <g id=\"text_6\">\n      <!-- 1.0 -->\n      <defs>\n       <path d=\"M 7.625 0 \nL 7.625 7.46875 \nL 25.140625 7.46875 \nL 25.140625 60.40625 \nL 9.625 49.3125 \nL 9.625 57.625 \nL 25.875 68.796875 \nL 33.984375 68.796875 \nL 33.984375 7.46875 \nL 50.734375 7.46875 \nL 50.734375 0 \nz\n\" id=\"LiberationSans-31\"/>\n      </defs>\n      <g style=\"fill:#262626;\" transform=\"translate(320.13 324.050313)scale(0.1 -0.1)\">\n       <use xlink:href=\"#LiberationSans-31\"/>\n       <use x=\"55.615234\" xlink:href=\"#LiberationSans-2e\"/>\n       <use x=\"83.398438\" xlink:href=\"#LiberationSans-30\"/>\n      </g>\n     </g>\n    </g>\n   </g>\n   <g id=\"matplotlib.axis_2\">\n    <g id=\"ytick_1\">\n     <g id=\"line2d_13\">\n      <path clip-path=\"url(#p4d38a2fd9c)\" d=\"M 28.1 309.803437 \nL 327.08 309.803437 \n\" style=\"fill:none;stroke:#ffffff;stroke-linecap:round;\"/>\n     </g>\n     <g id=\"line2d_14\"/>\n     <g id=\"text_7\">\n      <!-- 0.0 -->\n      <g style=\"fill:#262626;\" transform=\"translate(7.2 313.426875)scale(0.1 -0.1)\">\n       <use xlink:href=\"#LiberationSans-30\"/>\n       <use x=\"55.615234\" xlink:href=\"#LiberationSans-2e\"/>\n       <use x=\"83.398438\" xlink:href=\"#LiberationSans-30\"/>\n      </g>\n     </g>\n    </g>\n    <g id=\"ytick_2\">\n     <g id=\"line2d_15\">\n      <path clip-path=\"url(#p4d38a2fd9c)\" d=\"M 28.1 250.007437 \nL 327.08 250.007437 \n\" style=\"fill:none;stroke:#ffffff;stroke-linecap:round;\"/>\n     </g>\n     <g id=\"line2d_16\"/>\n     <g id=\"text_8\">\n      <!-- 0.2 -->\n      <g style=\"fill:#262626;\" transform=\"translate(7.2 253.630875)scale(0.1 -0.1)\">\n       <use xlink:href=\"#LiberationSans-30\"/>\n       <use x=\"55.615234\" xlink:href=\"#LiberationSans-2e\"/>\n       <use x=\"83.398438\" xlink:href=\"#LiberationSans-32\"/>\n      </g>\n     </g>\n    </g>\n    <g id=\"ytick_3\">\n     <g id=\"line2d_17\">\n      <path clip-path=\"url(#p4d38a2fd9c)\" d=\"M 28.1 190.211437 \nL 327.08 190.211437 \n\" style=\"fill:none;stroke:#ffffff;stroke-linecap:round;\"/>\n     </g>\n     <g id=\"line2d_18\"/>\n     <g id=\"text_9\">\n      <!-- 0.4 -->\n      <g style=\"fill:#262626;\" transform=\"translate(7.2 193.834875)scale(0.1 -0.1)\">\n       <use xlink:href=\"#LiberationSans-30\"/>\n       <use x=\"55.615234\" xlink:href=\"#LiberationSans-2e\"/>\n       <use x=\"83.398438\" xlink:href=\"#LiberationSans-34\"/>\n      </g>\n     </g>\n    </g>\n    <g id=\"ytick_4\">\n     <g id=\"line2d_19\">\n      <path clip-path=\"url(#p4d38a2fd9c)\" d=\"M 28.1 130.415437 \nL 327.08 130.415437 \n\" style=\"fill:none;stroke:#ffffff;stroke-linecap:round;\"/>\n     </g>\n     <g id=\"line2d_20\"/>\n     <g id=\"text_10\">\n      <!-- 0.6 -->\n      <g style=\"fill:#262626;\" transform=\"translate(7.2 134.038875)scale(0.1 -0.1)\">\n       <use xlink:href=\"#LiberationSans-30\"/>\n       <use x=\"55.615234\" xlink:href=\"#LiberationSans-2e\"/>\n       <use x=\"83.398438\" xlink:href=\"#LiberationSans-36\"/>\n      </g>\n     </g>\n    </g>\n    <g id=\"ytick_5\">\n     <g id=\"line2d_21\">\n      <path clip-path=\"url(#p4d38a2fd9c)\" d=\"M 28.1 70.619437 \nL 327.08 70.619437 \n\" style=\"fill:none;stroke:#ffffff;stroke-linecap:round;\"/>\n     </g>\n     <g id=\"line2d_22\"/>\n     <g id=\"text_11\">\n      <!-- 0.8 -->\n      <g style=\"fill:#262626;\" transform=\"translate(7.2 74.242875)scale(0.1 -0.1)\">\n       <use xlink:href=\"#LiberationSans-30\"/>\n       <use x=\"55.615234\" xlink:href=\"#LiberationSans-2e\"/>\n       <use x=\"83.398438\" xlink:href=\"#LiberationSans-38\"/>\n      </g>\n     </g>\n    </g>\n    <g id=\"ytick_6\">\n     <g id=\"line2d_23\">\n      <path clip-path=\"url(#p4d38a2fd9c)\" d=\"M 28.1 10.823437 \nL 327.08 10.823437 \n\" style=\"fill:none;stroke:#ffffff;stroke-linecap:round;\"/>\n     </g>\n     <g id=\"line2d_24\"/>\n     <g id=\"text_12\">\n      <!-- 1.0 -->\n      <g style=\"fill:#262626;\" transform=\"translate(7.2 14.446875)scale(0.1 -0.1)\">\n       <use xlink:href=\"#LiberationSans-31\"/>\n       <use x=\"55.615234\" xlink:href=\"#LiberationSans-2e\"/>\n       <use x=\"83.398438\" xlink:href=\"#LiberationSans-30\"/>\n      </g>\n     </g>\n    </g>\n   </g>\n   <g id=\"patch_3\">\n    <path d=\"M 28.1 309.803437 \nL 28.1 10.823437 \n\" style=\"fill:none;\"/>\n   </g>\n   <g id=\"patch_4\">\n    <path d=\"M 327.08 309.803437 \nL 327.08 10.823437 \n\" style=\"fill:none;\"/>\n   </g>\n   <g id=\"patch_5\">\n    <path d=\"M 28.1 309.803437 \nL 327.08 309.803437 \n\" style=\"fill:none;\"/>\n   </g>\n   <g id=\"patch_6\">\n    <path d=\"M 28.1 10.823437 \nL 327.08 10.823437 \n\" style=\"fill:none;\"/>\n   </g>\n  </g>\n </g>\n <defs>\n  <clipPath id=\"p4d38a2fd9c\">\n   <rect height=\"298.98\" width=\"298.98\" x=\"28.1\" y=\"10.823437\"/>\n  </clipPath>\n </defs>\n</svg>\n"
          },
          "metadata": {
            "tags": []
          }
        }
      ]
    },
    {
      "metadata": {
        "id": "W2OcOYd1K_lA",
        "colab_type": "code",
        "colab": {}
      },
      "cell_type": "code",
      "source": [
        "img = cv2.imread('DOG.jpg', cv2.IMREAD_COLOR)\n",
        "img = cv2.cvtColor(img, cv2.COLOR_BGR2RGB)\n",
        "\n",
        "# use YOLO to predict the image\n",
        "result = tfnet.return_predict(img)"
      ],
      "execution_count": 0,
      "outputs": []
    },
    {
      "metadata": {
        "id": "WV0i3wNdLLPa",
        "colab_type": "code",
        "colab": {
          "base_uri": "https://localhost:8080/",
          "height": 153
        },
        "outputId": "7123c00f-111a-44f6-d75a-5f47e5200c43"
      },
      "cell_type": "code",
      "source": [
        "result"
      ],
      "execution_count": 95,
      "outputs": [
        {
          "output_type": "execute_result",
          "data": {
            "text/plain": [
              "[{'bottomright': {'x': 276, 'y': 394},\n",
              "  'confidence': 0.36967477,\n",
              "  'label': 'cat',\n",
              "  'topleft': {'x': 0, 'y': 35}},\n",
              " {'bottomright': {'x': 303, 'y': 378},\n",
              "  'confidence': 0.71019334,\n",
              "  'label': 'dog',\n",
              "  'topleft': {'x': 68, 'y': 16}}]"
            ]
          },
          "metadata": {
            "tags": []
          },
          "execution_count": 95
        }
      ]
    },
    {
      "metadata": {
        "id": "-KDOgkqIL0YQ",
        "colab_type": "code",
        "colab": {
          "base_uri": "https://localhost:8080/",
          "height": 481
        },
        "outputId": "2e4cb4e5-062b-48e9-ee87-d36c43eb3867"
      },
      "cell_type": "code",
      "source": [
        "plt.imshow(img)"
      ],
      "execution_count": 96,
      "outputs": [
        {
          "output_type": "execute_result",
          "data": {
            "text/plain": [
              "<matplotlib.image.AxesImage at 0x7f405998df98>"
            ]
          },
          "metadata": {
            "tags": []
          },
          "execution_count": 96
        },
        {
          "output_type": "display_data",
          "data": {
            "text/plain": [
              "<matplotlib.figure.Figure at 0x7f40599a2710>"
            ],
            "image/svg+xml": "<?xml version=\"1.0\" encoding=\"utf-8\" standalone=\"no\"?>\n<!DOCTYPE svg PUBLIC \"-//W3C//DTD SVG 1.1//EN\"\n  \"http://www.w3.org/Graphics/SVG/1.1/DTD/svg11.dtd\">\n<!-- Created with matplotlib (http://matplotlib.org/) -->\n<svg height=\"332pt\" version=\"1.1\" viewBox=\"0 0 273 332\" width=\"273pt\" xmlns=\"http://www.w3.org/2000/svg\" xmlns:xlink=\"http://www.w3.org/1999/xlink\">\n <defs>\n  <style type=\"text/css\">\n*{stroke-linecap:butt;stroke-linejoin:round;}\n  </style>\n </defs>\n <g id=\"figure_1\">\n  <g id=\"patch_1\">\n   <path d=\"M 0 332.946857 \nL 273.876092 332.946857 \nL 273.876092 0 \nL 0 0 \nz\n\" style=\"fill:#ffffff;\"/>\n  </g>\n  <g id=\"axes_1\">\n   <g id=\"patch_2\">\n    <path d=\"M 30.882813 309.424982 \nL 265.525344 309.424982 \nL 265.525344 10.444982 \nL 30.882813 10.444982 \nz\n\" style=\"fill:#eaeaf2;\"/>\n   </g>\n   <g clip-path=\"url(#pb7e84c7c6c)\">\n    <image height=\"299\" id=\"imageeaae5363eb\" transform=\"scale(1 -1)translate(0 -299)\" width=\"235\" x=\"30.882813\" xlink:href=\"data:image/png;base64,\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\" y=\"-10.424982\"/>\n   </g>\n   <g id=\"matplotlib.axis_1\">\n    <g id=\"xtick_1\">\n     <g id=\"line2d_1\">\n      <path clip-path=\"url(#pb7e84c7c6c)\" d=\"M 31.261268 309.424982 \nL 31.261268 10.444982 \n\" style=\"fill:none;stroke:#ffffff;stroke-linecap:round;\"/>\n     </g>\n     <g id=\"line2d_2\"/>\n     <g id=\"text_1\">\n      <!-- 0 -->\n      <defs>\n       <path d=\"M 51.703125 34.421875 \nQ 51.703125 24.515625 49.828125 17.75 \nQ 47.953125 10.984375 44.703125 6.8125 \nQ 41.453125 2.640625 37.0625 0.828125 \nQ 32.671875 -0.984375 27.6875 -0.984375 \nQ 22.65625 -0.984375 18.3125 0.828125 \nQ 13.96875 2.640625 10.765625 6.78125 \nQ 7.5625 10.9375 5.734375 17.703125 \nQ 3.90625 24.46875 3.90625 34.421875 \nQ 3.90625 44.828125 5.734375 51.640625 \nQ 7.5625 58.453125 10.78125 62.5 \nQ 14.015625 66.546875 18.40625 68.1875 \nQ 22.796875 69.828125 27.984375 69.828125 \nQ 32.90625 69.828125 37.21875 68.1875 \nQ 41.546875 66.546875 44.765625 62.5 \nQ 48 58.453125 49.84375 51.640625 \nQ 51.703125 44.828125 51.703125 34.421875 \nz\nM 42.78125 34.421875 \nQ 42.78125 42.625 41.796875 48.0625 \nQ 40.828125 53.515625 38.921875 56.765625 \nQ 37.015625 60.015625 34.25 61.359375 \nQ 31.5 62.703125 27.984375 62.703125 \nQ 24.265625 62.703125 21.4375 61.328125 \nQ 18.609375 59.96875 16.671875 56.71875 \nQ 14.75 53.46875 13.765625 48.015625 \nQ 12.796875 42.578125 12.796875 34.421875 \nQ 12.796875 26.515625 13.796875 21.09375 \nQ 14.796875 15.671875 16.71875 12.375 \nQ 18.65625 9.078125 21.4375 7.640625 \nQ 24.21875 6.203125 27.78125 6.203125 \nQ 31.25 6.203125 34.03125 7.640625 \nQ 36.8125 9.078125 38.734375 12.375 \nQ 40.671875 15.671875 41.71875 21.09375 \nQ 42.78125 26.515625 42.78125 34.421875 \nz\n\" id=\"LiberationSans-30\"/>\n      </defs>\n      <g style=\"fill:#262626;\" transform=\"translate(28.480799 323.671857)scale(0.1 -0.1)\">\n       <use xlink:href=\"#LiberationSans-30\"/>\n      </g>\n     </g>\n    </g>\n    <g id=\"xtick_2\">\n     <g id=\"line2d_3\">\n      <path clip-path=\"url(#pb7e84c7c6c)\" d=\"M 69.106838 309.424982 \nL 69.106838 10.444982 \n\" style=\"fill:none;stroke:#ffffff;stroke-linecap:round;\"/>\n     </g>\n     <g id=\"line2d_4\"/>\n     <g id=\"text_2\">\n      <!-- 50 -->\n      <defs>\n       <path d=\"M 51.421875 22.40625 \nQ 51.421875 17.234375 49.859375 12.9375 \nQ 48.296875 8.640625 45.21875 5.53125 \nQ 42.140625 2.4375 37.578125 0.71875 \nQ 33.015625 -0.984375 27 -0.984375 \nQ 21.578125 -0.984375 17.546875 0.28125 \nQ 13.53125 1.5625 10.734375 3.78125 \nQ 7.953125 6 6.3125 8.984375 \nQ 4.6875 11.96875 4 15.375 \nL 12.890625 16.40625 \nQ 13.421875 14.453125 14.390625 12.625 \nQ 15.375 10.796875 17.0625 9.34375 \nQ 18.75 7.90625 21.21875 7.046875 \nQ 23.6875 6.203125 27.203125 6.203125 \nQ 30.609375 6.203125 33.390625 7.25 \nQ 36.1875 8.296875 38.15625 10.34375 \nQ 40.140625 12.40625 41.203125 15.375 \nQ 42.28125 18.359375 42.28125 22.21875 \nQ 42.28125 25.390625 41.25 28.046875 \nQ 40.234375 30.71875 38.328125 32.640625 \nQ 36.421875 34.578125 33.65625 35.640625 \nQ 30.90625 36.71875 27.390625 36.71875 \nQ 25.203125 36.71875 23.34375 36.328125 \nQ 21.484375 35.9375 19.890625 35.25 \nQ 18.3125 34.578125 17.015625 33.671875 \nQ 15.71875 32.765625 14.59375 31.78125 \nL 6 31.78125 \nL 8.296875 68.796875 \nL 47.40625 68.796875 \nL 47.40625 61.328125 \nL 16.3125 61.328125 \nL 14.984375 39.5 \nQ 17.328125 41.3125 20.84375 42.59375 \nQ 24.359375 43.890625 29.203125 43.890625 \nQ 34.328125 43.890625 38.421875 42.328125 \nQ 42.53125 40.765625 45.40625 37.90625 \nQ 48.296875 35.0625 49.859375 31.109375 \nQ 51.421875 27.15625 51.421875 22.40625 \nz\n\" id=\"LiberationSans-35\"/>\n      </defs>\n      <g style=\"fill:#262626;\" transform=\"translate(63.5459 323.671857)scale(0.1 -0.1)\">\n       <use xlink:href=\"#LiberationSans-35\"/>\n       <use x=\"55.615234\" xlink:href=\"#LiberationSans-30\"/>\n      </g>\n     </g>\n    </g>\n    <g id=\"xtick_3\">\n     <g id=\"line2d_5\">\n      <path clip-path=\"url(#pb7e84c7c6c)\" d=\"M 106.952407 309.424982 \nL 106.952407 10.444982 \n\" style=\"fill:none;stroke:#ffffff;stroke-linecap:round;\"/>\n     </g>\n     <g id=\"line2d_6\"/>\n     <g id=\"text_3\">\n      <!-- 100 -->\n      <defs>\n       <path d=\"M 7.625 0 \nL 7.625 7.46875 \nL 25.140625 7.46875 \nL 25.140625 60.40625 \nL 9.625 49.3125 \nL 9.625 57.625 \nL 25.875 68.796875 \nL 33.984375 68.796875 \nL 33.984375 7.46875 \nL 50.734375 7.46875 \nL 50.734375 0 \nz\n\" id=\"LiberationSans-31\"/>\n      </defs>\n      <g style=\"fill:#262626;\" transform=\"translate(98.611001 323.671857)scale(0.1 -0.1)\">\n       <use xlink:href=\"#LiberationSans-31\"/>\n       <use x=\"55.615234\" xlink:href=\"#LiberationSans-30\"/>\n       <use x=\"111.230469\" xlink:href=\"#LiberationSans-30\"/>\n      </g>\n     </g>\n    </g>\n    <g id=\"xtick_4\">\n     <g id=\"line2d_7\">\n      <path clip-path=\"url(#pb7e84c7c6c)\" d=\"M 144.797977 309.424982 \nL 144.797977 10.444982 \n\" style=\"fill:none;stroke:#ffffff;stroke-linecap:round;\"/>\n     </g>\n     <g id=\"line2d_8\"/>\n     <g id=\"text_4\">\n      <!-- 150 -->\n      <g style=\"fill:#262626;\" transform=\"translate(136.456571 323.671857)scale(0.1 -0.1)\">\n       <use xlink:href=\"#LiberationSans-31\"/>\n       <use x=\"55.615234\" xlink:href=\"#LiberationSans-35\"/>\n       <use x=\"111.230469\" xlink:href=\"#LiberationSans-30\"/>\n      </g>\n     </g>\n    </g>\n    <g id=\"xtick_5\">\n     <g id=\"line2d_9\">\n      <path clip-path=\"url(#pb7e84c7c6c)\" d=\"M 182.643547 309.424982 \nL 182.643547 10.444982 \n\" style=\"fill:none;stroke:#ffffff;stroke-linecap:round;\"/>\n     </g>\n     <g id=\"line2d_10\"/>\n     <g id=\"text_5\">\n      <!-- 200 -->\n      <defs>\n       <path d=\"M 5.03125 0 \nL 5.03125 6.203125 \nQ 7.515625 11.921875 11.109375 16.28125 \nQ 14.703125 20.65625 18.65625 24.1875 \nQ 22.609375 27.734375 26.484375 30.765625 \nQ 30.375 33.796875 33.5 36.8125 \nQ 36.625 39.84375 38.546875 43.15625 \nQ 40.484375 46.484375 40.484375 50.6875 \nQ 40.484375 53.609375 39.59375 55.828125 \nQ 38.71875 58.0625 37.0625 59.5625 \nQ 35.40625 61.078125 33.078125 61.828125 \nQ 30.765625 62.59375 27.9375 62.59375 \nQ 25.296875 62.59375 22.96875 61.859375 \nQ 20.65625 61.140625 18.84375 59.671875 \nQ 17.046875 58.203125 15.890625 56.03125 \nQ 14.75 53.859375 14.40625 50.984375 \nL 5.421875 51.8125 \nQ 5.859375 55.515625 7.46875 58.78125 \nQ 9.078125 62.0625 11.90625 64.53125 \nQ 14.75 67 18.71875 68.40625 \nQ 22.703125 69.828125 27.9375 69.828125 \nQ 33.0625 69.828125 37.0625 68.609375 \nQ 41.0625 67.390625 43.8125 64.984375 \nQ 46.578125 62.59375 48.046875 59.078125 \nQ 49.515625 55.5625 49.515625 50.984375 \nQ 49.515625 47.515625 48.265625 44.390625 \nQ 47.015625 41.265625 44.9375 38.421875 \nQ 42.875 35.59375 40.140625 32.953125 \nQ 37.40625 30.328125 34.421875 27.8125 \nQ 31.453125 25.296875 28.421875 22.828125 \nQ 25.390625 20.359375 22.71875 17.859375 \nQ 20.0625 15.375 17.96875 12.8125 \nQ 15.875 10.25 14.703125 7.46875 \nL 50.59375 7.46875 \nL 50.59375 0 \nz\n\" id=\"LiberationSans-32\"/>\n      </defs>\n      <g style=\"fill:#262626;\" transform=\"translate(174.30214 323.671857)scale(0.1 -0.1)\">\n       <use xlink:href=\"#LiberationSans-32\"/>\n       <use x=\"55.615234\" xlink:href=\"#LiberationSans-30\"/>\n       <use x=\"111.230469\" xlink:href=\"#LiberationSans-30\"/>\n      </g>\n     </g>\n    </g>\n    <g id=\"xtick_6\">\n     <g id=\"line2d_11\">\n      <path clip-path=\"url(#pb7e84c7c6c)\" d=\"M 220.489116 309.424982 \nL 220.489116 10.444982 \n\" style=\"fill:none;stroke:#ffffff;stroke-linecap:round;\"/>\n     </g>\n     <g id=\"line2d_12\"/>\n     <g id=\"text_6\">\n      <!-- 250 -->\n      <g style=\"fill:#262626;\" transform=\"translate(212.14771 323.671857)scale(0.1 -0.1)\">\n       <use xlink:href=\"#LiberationSans-32\"/>\n       <use x=\"55.615234\" xlink:href=\"#LiberationSans-35\"/>\n       <use x=\"111.230469\" xlink:href=\"#LiberationSans-30\"/>\n      </g>\n     </g>\n    </g>\n    <g id=\"xtick_7\">\n     <g id=\"line2d_13\">\n      <path clip-path=\"url(#pb7e84c7c6c)\" d=\"M 258.334686 309.424982 \nL 258.334686 10.444982 \n\" style=\"fill:none;stroke:#ffffff;stroke-linecap:round;\"/>\n     </g>\n     <g id=\"line2d_14\"/>\n     <g id=\"text_7\">\n      <!-- 300 -->\n      <defs>\n       <path d=\"M 51.21875 19 \nQ 51.21875 14.265625 49.671875 10.546875 \nQ 48.140625 6.84375 45.1875 4.265625 \nQ 42.234375 1.703125 37.859375 0.359375 \nQ 33.5 -0.984375 27.875 -0.984375 \nQ 21.484375 -0.984375 17.109375 0.609375 \nQ 12.75 2.203125 9.90625 4.8125 \nQ 7.078125 7.421875 5.65625 10.765625 \nQ 4.25 14.109375 3.8125 17.671875 \nL 12.890625 18.5 \nQ 13.28125 15.765625 14.328125 13.515625 \nQ 15.375 11.28125 17.1875 9.671875 \nQ 19 8.0625 21.625 7.171875 \nQ 24.265625 6.296875 27.875 6.296875 \nQ 34.515625 6.296875 38.296875 9.5625 \nQ 42.09375 12.84375 42.09375 19.28125 \nQ 42.09375 23.09375 40.40625 25.40625 \nQ 38.71875 27.734375 36.203125 29.03125 \nQ 33.6875 30.328125 30.734375 30.765625 \nQ 27.78125 31.203125 25.296875 31.203125 \nL 20.3125 31.203125 \nL 20.3125 38.8125 \nL 25.09375 38.8125 \nQ 27.59375 38.8125 30.265625 39.328125 \nQ 32.953125 39.84375 35.171875 41.1875 \nQ 37.40625 42.53125 38.84375 44.828125 \nQ 40.28125 47.125 40.28125 50.6875 \nQ 40.28125 56.203125 37.03125 59.390625 \nQ 33.796875 62.59375 27.390625 62.59375 \nQ 21.578125 62.59375 17.984375 59.609375 \nQ 14.40625 56.640625 13.8125 51.21875 \nL 4.984375 51.90625 \nQ 5.515625 56.453125 7.46875 59.8125 \nQ 9.421875 63.1875 12.421875 65.40625 \nQ 15.4375 67.625 19.28125 68.71875 \nQ 23.140625 69.828125 27.484375 69.828125 \nQ 33.25 69.828125 37.390625 68.375 \nQ 41.546875 66.9375 44.1875 64.46875 \nQ 46.828125 62.015625 48.0625 58.6875 \nQ 49.3125 55.375 49.3125 51.609375 \nQ 49.3125 48.578125 48.484375 45.9375 \nQ 47.65625 43.3125 45.890625 41.203125 \nQ 44.140625 39.109375 41.421875 37.59375 \nQ 38.71875 36.078125 34.90625 35.296875 \nL 34.90625 35.109375 \nQ 39.0625 34.671875 42.140625 33.21875 \nQ 45.21875 31.78125 47.21875 29.625 \nQ 49.21875 27.484375 50.21875 24.75 \nQ 51.21875 22.015625 51.21875 19 \nz\n\" id=\"LiberationSans-33\"/>\n      </defs>\n      <g style=\"fill:#262626;\" transform=\"translate(249.99328 323.671857)scale(0.1 -0.1)\">\n       <use xlink:href=\"#LiberationSans-33\"/>\n       <use x=\"55.615234\" xlink:href=\"#LiberationSans-30\"/>\n       <use x=\"111.230469\" xlink:href=\"#LiberationSans-30\"/>\n      </g>\n     </g>\n    </g>\n   </g>\n   <g id=\"matplotlib.axis_2\">\n    <g id=\"ytick_1\">\n     <g id=\"line2d_15\">\n      <path clip-path=\"url(#pb7e84c7c6c)\" d=\"M 30.882813 10.823437 \nL 265.525344 10.823437 \n\" style=\"fill:none;stroke:#ffffff;stroke-linecap:round;\"/>\n     </g>\n     <g id=\"line2d_16\"/>\n     <g id=\"text_8\">\n      <!-- 0 -->\n      <g style=\"fill:#262626;\" transform=\"translate(18.321875 14.446875)scale(0.1 -0.1)\">\n       <use xlink:href=\"#LiberationSans-30\"/>\n      </g>\n     </g>\n    </g>\n    <g id=\"ytick_2\">\n     <g id=\"line2d_17\">\n      <path clip-path=\"url(#pb7e84c7c6c)\" d=\"M 30.882813 48.669007 \nL 265.525344 48.669007 \n\" style=\"fill:none;stroke:#ffffff;stroke-linecap:round;\"/>\n     </g>\n     <g id=\"line2d_18\"/>\n     <g id=\"text_9\">\n      <!-- 50 -->\n      <g style=\"fill:#262626;\" transform=\"translate(12.760938 52.292445)scale(0.1 -0.1)\">\n       <use xlink:href=\"#LiberationSans-35\"/>\n       <use x=\"55.615234\" xlink:href=\"#LiberationSans-30\"/>\n      </g>\n     </g>\n    </g>\n    <g id=\"ytick_3\">\n     <g id=\"line2d_19\">\n      <path clip-path=\"url(#pb7e84c7c6c)\" d=\"M 30.882813 86.514577 \nL 265.525344 86.514577 \n\" style=\"fill:none;stroke:#ffffff;stroke-linecap:round;\"/>\n     </g>\n     <g id=\"line2d_20\"/>\n     <g id=\"text_10\">\n      <!-- 100 -->\n      <g style=\"fill:#262626;\" transform=\"translate(7.2 90.138014)scale(0.1 -0.1)\">\n       <use xlink:href=\"#LiberationSans-31\"/>\n       <use x=\"55.615234\" xlink:href=\"#LiberationSans-30\"/>\n       <use x=\"111.230469\" xlink:href=\"#LiberationSans-30\"/>\n      </g>\n     </g>\n    </g>\n    <g id=\"ytick_4\">\n     <g id=\"line2d_21\">\n      <path clip-path=\"url(#pb7e84c7c6c)\" d=\"M 30.882813 124.360146 \nL 265.525344 124.360146 \n\" style=\"fill:none;stroke:#ffffff;stroke-linecap:round;\"/>\n     </g>\n     <g id=\"line2d_22\"/>\n     <g id=\"text_11\">\n      <!-- 150 -->\n      <g style=\"fill:#262626;\" transform=\"translate(7.2 127.983584)scale(0.1 -0.1)\">\n       <use xlink:href=\"#LiberationSans-31\"/>\n       <use x=\"55.615234\" xlink:href=\"#LiberationSans-35\"/>\n       <use x=\"111.230469\" xlink:href=\"#LiberationSans-30\"/>\n      </g>\n     </g>\n    </g>\n    <g id=\"ytick_5\">\n     <g id=\"line2d_23\">\n      <path clip-path=\"url(#pb7e84c7c6c)\" d=\"M 30.882813 162.205716 \nL 265.525344 162.205716 \n\" style=\"fill:none;stroke:#ffffff;stroke-linecap:round;\"/>\n     </g>\n     <g id=\"line2d_24\"/>\n     <g id=\"text_12\">\n      <!-- 200 -->\n      <g style=\"fill:#262626;\" transform=\"translate(7.2 165.829153)scale(0.1 -0.1)\">\n       <use xlink:href=\"#LiberationSans-32\"/>\n       <use x=\"55.615234\" xlink:href=\"#LiberationSans-30\"/>\n       <use x=\"111.230469\" xlink:href=\"#LiberationSans-30\"/>\n      </g>\n     </g>\n    </g>\n    <g id=\"ytick_6\">\n     <g id=\"line2d_25\">\n      <path clip-path=\"url(#pb7e84c7c6c)\" d=\"M 30.882813 200.051286 \nL 265.525344 200.051286 \n\" style=\"fill:none;stroke:#ffffff;stroke-linecap:round;\"/>\n     </g>\n     <g id=\"line2d_26\"/>\n     <g id=\"text_13\">\n      <!-- 250 -->\n      <g style=\"fill:#262626;\" transform=\"translate(7.2 203.674723)scale(0.1 -0.1)\">\n       <use xlink:href=\"#LiberationSans-32\"/>\n       <use x=\"55.615234\" xlink:href=\"#LiberationSans-35\"/>\n       <use x=\"111.230469\" xlink:href=\"#LiberationSans-30\"/>\n      </g>\n     </g>\n    </g>\n    <g id=\"ytick_7\">\n     <g id=\"line2d_27\">\n      <path clip-path=\"url(#pb7e84c7c6c)\" d=\"M 30.882813 237.896855 \nL 265.525344 237.896855 \n\" style=\"fill:none;stroke:#ffffff;stroke-linecap:round;\"/>\n     </g>\n     <g id=\"line2d_28\"/>\n     <g id=\"text_14\">\n      <!-- 300 -->\n      <g style=\"fill:#262626;\" transform=\"translate(7.2 241.520293)scale(0.1 -0.1)\">\n       <use xlink:href=\"#LiberationSans-33\"/>\n       <use x=\"55.615234\" xlink:href=\"#LiberationSans-30\"/>\n       <use x=\"111.230469\" xlink:href=\"#LiberationSans-30\"/>\n      </g>\n     </g>\n    </g>\n    <g id=\"ytick_8\">\n     <g id=\"line2d_29\">\n      <path clip-path=\"url(#pb7e84c7c6c)\" d=\"M 30.882813 275.742425 \nL 265.525344 275.742425 \n\" style=\"fill:none;stroke:#ffffff;stroke-linecap:round;\"/>\n     </g>\n     <g id=\"line2d_30\"/>\n     <g id=\"text_15\">\n      <!-- 350 -->\n      <g style=\"fill:#262626;\" transform=\"translate(7.2 279.365862)scale(0.1 -0.1)\">\n       <use xlink:href=\"#LiberationSans-33\"/>\n       <use x=\"55.615234\" xlink:href=\"#LiberationSans-35\"/>\n       <use x=\"111.230469\" xlink:href=\"#LiberationSans-30\"/>\n      </g>\n     </g>\n    </g>\n   </g>\n   <g id=\"patch_3\">\n    <path d=\"M 30.882813 309.424982 \nL 30.882813 10.444982 \n\" style=\"fill:none;\"/>\n   </g>\n   <g id=\"patch_4\">\n    <path d=\"M 265.525344 309.424982 \nL 265.525344 10.444982 \n\" style=\"fill:none;\"/>\n   </g>\n   <g id=\"patch_5\">\n    <path d=\"M 30.882813 309.424982 \nL 265.525344 309.424982 \n\" style=\"fill:none;\"/>\n   </g>\n   <g id=\"patch_6\">\n    <path d=\"M 30.882813 10.444982 \nL 265.525344 10.444982 \n\" style=\"fill:none;\"/>\n   </g>\n  </g>\n </g>\n <defs>\n  <clipPath id=\"pb7e84c7c6c\">\n   <rect height=\"298.98\" width=\"234.642532\" x=\"30.882813\" y=\"10.444982\"/>\n  </clipPath>\n </defs>\n</svg>\n"
          },
          "metadata": {
            "tags": []
          }
        }
      ]
    },
    {
      "metadata": {
        "id": "G3Tp-GoOMGy4",
        "colab_type": "code",
        "colab": {
          "base_uri": "https://localhost:8080/",
          "height": 34
        },
        "outputId": "d2c909c0-59f9-4a61-d5e7-8e8d9f251895"
      },
      "cell_type": "code",
      "source": [
        "img.shape"
      ],
      "execution_count": 97,
      "outputs": [
        {
          "output_type": "execute_result",
          "data": {
            "text/plain": [
              "(395, 310, 3)"
            ]
          },
          "metadata": {
            "tags": []
          },
          "execution_count": 97
        }
      ]
    },
    {
      "metadata": {
        "id": "gfxksm_EMXS5",
        "colab_type": "code",
        "colab": {
          "base_uri": "https://localhost:8080/",
          "height": 464
        },
        "outputId": "9a89d3e2-b447-4248-be01-59531a99e16b"
      },
      "cell_type": "code",
      "source": [
        "# pull out some info from the results\n",
        "\n",
        "tl = (result[1]['topleft']['x'], result[1]['topleft']['y'])\n",
        "br = (result[1]['bottomright']['x'], result[1]['bottomright']['y'])\n",
        "label = result[1]['label']\n",
        "\n",
        "\n",
        "# add the box and label and display it\n",
        "img = cv2.rectangle(img, tl, br, (0, 255, 0), 7)\n",
        "img = cv2.putText(img, label, tl, cv2.FONT_HERSHEY_COMPLEX, 1, (0, 0, 0), 2)\n",
        "plt.imshow(img)\n",
        "plt.show()"
      ],
      "execution_count": 103,
      "outputs": [
        {
          "output_type": "display_data",
          "data": {
            "text/plain": [
              "<matplotlib.figure.Figure at 0x7f4059849c88>"
            ],
            "image/svg+xml": "<?xml version=\"1.0\" encoding=\"utf-8\" standalone=\"no\"?>\n<!DOCTYPE svg PUBLIC \"-//W3C//DTD SVG 1.1//EN\"\n  \"http://www.w3.org/Graphics/SVG/1.1/DTD/svg11.dtd\">\n<!-- Created with matplotlib (http://matplotlib.org/) -->\n<svg height=\"332pt\" version=\"1.1\" viewBox=\"0 0 273 332\" width=\"273pt\" xmlns=\"http://www.w3.org/2000/svg\" xmlns:xlink=\"http://www.w3.org/1999/xlink\">\n <defs>\n  <style type=\"text/css\">\n*{stroke-linecap:butt;stroke-linejoin:round;}\n  </style>\n </defs>\n <g id=\"figure_1\">\n  <g id=\"patch_1\">\n   <path d=\"M 0 332.946857 \nL 273.876092 332.946857 \nL 273.876092 0 \nL 0 0 \nz\n\" style=\"fill:#ffffff;\"/>\n  </g>\n  <g id=\"axes_1\">\n   <g id=\"patch_2\">\n    <path d=\"M 30.882813 309.424982 \nL 265.525344 309.424982 \nL 265.525344 10.444982 \nL 30.882813 10.444982 \nz\n\" style=\"fill:#eaeaf2;\"/>\n   </g>\n   <g clip-path=\"url(#p4c4a5f0d33)\">\n    <image height=\"299\" id=\"imagef9712a9acf\" transform=\"scale(1 -1)translate(0 -299)\" width=\"235\" x=\"30.882813\" xlink:href=\"data:image/png;base64,\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\" y=\"-10.424982\"/>\n   </g>\n   <g id=\"matplotlib.axis_1\">\n    <g id=\"xtick_1\">\n     <g id=\"line2d_1\">\n      <path clip-path=\"url(#p4c4a5f0d33)\" d=\"M 31.261268 309.424982 \nL 31.261268 10.444982 \n\" style=\"fill:none;stroke:#ffffff;stroke-linecap:round;\"/>\n     </g>\n     <g id=\"line2d_2\"/>\n     <g id=\"text_1\">\n      <!-- 0 -->\n      <defs>\n       <path d=\"M 51.703125 34.421875 \nQ 51.703125 24.515625 49.828125 17.75 \nQ 47.953125 10.984375 44.703125 6.8125 \nQ 41.453125 2.640625 37.0625 0.828125 \nQ 32.671875 -0.984375 27.6875 -0.984375 \nQ 22.65625 -0.984375 18.3125 0.828125 \nQ 13.96875 2.640625 10.765625 6.78125 \nQ 7.5625 10.9375 5.734375 17.703125 \nQ 3.90625 24.46875 3.90625 34.421875 \nQ 3.90625 44.828125 5.734375 51.640625 \nQ 7.5625 58.453125 10.78125 62.5 \nQ 14.015625 66.546875 18.40625 68.1875 \nQ 22.796875 69.828125 27.984375 69.828125 \nQ 32.90625 69.828125 37.21875 68.1875 \nQ 41.546875 66.546875 44.765625 62.5 \nQ 48 58.453125 49.84375 51.640625 \nQ 51.703125 44.828125 51.703125 34.421875 \nz\nM 42.78125 34.421875 \nQ 42.78125 42.625 41.796875 48.0625 \nQ 40.828125 53.515625 38.921875 56.765625 \nQ 37.015625 60.015625 34.25 61.359375 \nQ 31.5 62.703125 27.984375 62.703125 \nQ 24.265625 62.703125 21.4375 61.328125 \nQ 18.609375 59.96875 16.671875 56.71875 \nQ 14.75 53.46875 13.765625 48.015625 \nQ 12.796875 42.578125 12.796875 34.421875 \nQ 12.796875 26.515625 13.796875 21.09375 \nQ 14.796875 15.671875 16.71875 12.375 \nQ 18.65625 9.078125 21.4375 7.640625 \nQ 24.21875 6.203125 27.78125 6.203125 \nQ 31.25 6.203125 34.03125 7.640625 \nQ 36.8125 9.078125 38.734375 12.375 \nQ 40.671875 15.671875 41.71875 21.09375 \nQ 42.78125 26.515625 42.78125 34.421875 \nz\n\" id=\"LiberationSans-30\"/>\n      </defs>\n      <g style=\"fill:#262626;\" transform=\"translate(28.480799 323.671857)scale(0.1 -0.1)\">\n       <use xlink:href=\"#LiberationSans-30\"/>\n      </g>\n     </g>\n    </g>\n    <g id=\"xtick_2\">\n     <g id=\"line2d_3\">\n      <path clip-path=\"url(#p4c4a5f0d33)\" d=\"M 69.106838 309.424982 \nL 69.106838 10.444982 \n\" style=\"fill:none;stroke:#ffffff;stroke-linecap:round;\"/>\n     </g>\n     <g id=\"line2d_4\"/>\n     <g id=\"text_2\">\n      <!-- 50 -->\n      <defs>\n       <path d=\"M 51.421875 22.40625 \nQ 51.421875 17.234375 49.859375 12.9375 \nQ 48.296875 8.640625 45.21875 5.53125 \nQ 42.140625 2.4375 37.578125 0.71875 \nQ 33.015625 -0.984375 27 -0.984375 \nQ 21.578125 -0.984375 17.546875 0.28125 \nQ 13.53125 1.5625 10.734375 3.78125 \nQ 7.953125 6 6.3125 8.984375 \nQ 4.6875 11.96875 4 15.375 \nL 12.890625 16.40625 \nQ 13.421875 14.453125 14.390625 12.625 \nQ 15.375 10.796875 17.0625 9.34375 \nQ 18.75 7.90625 21.21875 7.046875 \nQ 23.6875 6.203125 27.203125 6.203125 \nQ 30.609375 6.203125 33.390625 7.25 \nQ 36.1875 8.296875 38.15625 10.34375 \nQ 40.140625 12.40625 41.203125 15.375 \nQ 42.28125 18.359375 42.28125 22.21875 \nQ 42.28125 25.390625 41.25 28.046875 \nQ 40.234375 30.71875 38.328125 32.640625 \nQ 36.421875 34.578125 33.65625 35.640625 \nQ 30.90625 36.71875 27.390625 36.71875 \nQ 25.203125 36.71875 23.34375 36.328125 \nQ 21.484375 35.9375 19.890625 35.25 \nQ 18.3125 34.578125 17.015625 33.671875 \nQ 15.71875 32.765625 14.59375 31.78125 \nL 6 31.78125 \nL 8.296875 68.796875 \nL 47.40625 68.796875 \nL 47.40625 61.328125 \nL 16.3125 61.328125 \nL 14.984375 39.5 \nQ 17.328125 41.3125 20.84375 42.59375 \nQ 24.359375 43.890625 29.203125 43.890625 \nQ 34.328125 43.890625 38.421875 42.328125 \nQ 42.53125 40.765625 45.40625 37.90625 \nQ 48.296875 35.0625 49.859375 31.109375 \nQ 51.421875 27.15625 51.421875 22.40625 \nz\n\" id=\"LiberationSans-35\"/>\n      </defs>\n      <g style=\"fill:#262626;\" transform=\"translate(63.5459 323.671857)scale(0.1 -0.1)\">\n       <use xlink:href=\"#LiberationSans-35\"/>\n       <use x=\"55.615234\" xlink:href=\"#LiberationSans-30\"/>\n      </g>\n     </g>\n    </g>\n    <g id=\"xtick_3\">\n     <g id=\"line2d_5\">\n      <path clip-path=\"url(#p4c4a5f0d33)\" d=\"M 106.952407 309.424982 \nL 106.952407 10.444982 \n\" style=\"fill:none;stroke:#ffffff;stroke-linecap:round;\"/>\n     </g>\n     <g id=\"line2d_6\"/>\n     <g id=\"text_3\">\n      <!-- 100 -->\n      <defs>\n       <path d=\"M 7.625 0 \nL 7.625 7.46875 \nL 25.140625 7.46875 \nL 25.140625 60.40625 \nL 9.625 49.3125 \nL 9.625 57.625 \nL 25.875 68.796875 \nL 33.984375 68.796875 \nL 33.984375 7.46875 \nL 50.734375 7.46875 \nL 50.734375 0 \nz\n\" id=\"LiberationSans-31\"/>\n      </defs>\n      <g style=\"fill:#262626;\" transform=\"translate(98.611001 323.671857)scale(0.1 -0.1)\">\n       <use xlink:href=\"#LiberationSans-31\"/>\n       <use x=\"55.615234\" xlink:href=\"#LiberationSans-30\"/>\n       <use x=\"111.230469\" xlink:href=\"#LiberationSans-30\"/>\n      </g>\n     </g>\n    </g>\n    <g id=\"xtick_4\">\n     <g id=\"line2d_7\">\n      <path clip-path=\"url(#p4c4a5f0d33)\" d=\"M 144.797977 309.424982 \nL 144.797977 10.444982 \n\" style=\"fill:none;stroke:#ffffff;stroke-linecap:round;\"/>\n     </g>\n     <g id=\"line2d_8\"/>\n     <g id=\"text_4\">\n      <!-- 150 -->\n      <g style=\"fill:#262626;\" transform=\"translate(136.456571 323.671857)scale(0.1 -0.1)\">\n       <use xlink:href=\"#LiberationSans-31\"/>\n       <use x=\"55.615234\" xlink:href=\"#LiberationSans-35\"/>\n       <use x=\"111.230469\" xlink:href=\"#LiberationSans-30\"/>\n      </g>\n     </g>\n    </g>\n    <g id=\"xtick_5\">\n     <g id=\"line2d_9\">\n      <path clip-path=\"url(#p4c4a5f0d33)\" d=\"M 182.643547 309.424982 \nL 182.643547 10.444982 \n\" style=\"fill:none;stroke:#ffffff;stroke-linecap:round;\"/>\n     </g>\n     <g id=\"line2d_10\"/>\n     <g id=\"text_5\">\n      <!-- 200 -->\n      <defs>\n       <path d=\"M 5.03125 0 \nL 5.03125 6.203125 \nQ 7.515625 11.921875 11.109375 16.28125 \nQ 14.703125 20.65625 18.65625 24.1875 \nQ 22.609375 27.734375 26.484375 30.765625 \nQ 30.375 33.796875 33.5 36.8125 \nQ 36.625 39.84375 38.546875 43.15625 \nQ 40.484375 46.484375 40.484375 50.6875 \nQ 40.484375 53.609375 39.59375 55.828125 \nQ 38.71875 58.0625 37.0625 59.5625 \nQ 35.40625 61.078125 33.078125 61.828125 \nQ 30.765625 62.59375 27.9375 62.59375 \nQ 25.296875 62.59375 22.96875 61.859375 \nQ 20.65625 61.140625 18.84375 59.671875 \nQ 17.046875 58.203125 15.890625 56.03125 \nQ 14.75 53.859375 14.40625 50.984375 \nL 5.421875 51.8125 \nQ 5.859375 55.515625 7.46875 58.78125 \nQ 9.078125 62.0625 11.90625 64.53125 \nQ 14.75 67 18.71875 68.40625 \nQ 22.703125 69.828125 27.9375 69.828125 \nQ 33.0625 69.828125 37.0625 68.609375 \nQ 41.0625 67.390625 43.8125 64.984375 \nQ 46.578125 62.59375 48.046875 59.078125 \nQ 49.515625 55.5625 49.515625 50.984375 \nQ 49.515625 47.515625 48.265625 44.390625 \nQ 47.015625 41.265625 44.9375 38.421875 \nQ 42.875 35.59375 40.140625 32.953125 \nQ 37.40625 30.328125 34.421875 27.8125 \nQ 31.453125 25.296875 28.421875 22.828125 \nQ 25.390625 20.359375 22.71875 17.859375 \nQ 20.0625 15.375 17.96875 12.8125 \nQ 15.875 10.25 14.703125 7.46875 \nL 50.59375 7.46875 \nL 50.59375 0 \nz\n\" id=\"LiberationSans-32\"/>\n      </defs>\n      <g style=\"fill:#262626;\" transform=\"translate(174.30214 323.671857)scale(0.1 -0.1)\">\n       <use xlink:href=\"#LiberationSans-32\"/>\n       <use x=\"55.615234\" xlink:href=\"#LiberationSans-30\"/>\n       <use x=\"111.230469\" xlink:href=\"#LiberationSans-30\"/>\n      </g>\n     </g>\n    </g>\n    <g id=\"xtick_6\">\n     <g id=\"line2d_11\">\n      <path clip-path=\"url(#p4c4a5f0d33)\" d=\"M 220.489116 309.424982 \nL 220.489116 10.444982 \n\" style=\"fill:none;stroke:#ffffff;stroke-linecap:round;\"/>\n     </g>\n     <g id=\"line2d_12\"/>\n     <g id=\"text_6\">\n      <!-- 250 -->\n      <g style=\"fill:#262626;\" transform=\"translate(212.14771 323.671857)scale(0.1 -0.1)\">\n       <use xlink:href=\"#LiberationSans-32\"/>\n       <use x=\"55.615234\" xlink:href=\"#LiberationSans-35\"/>\n       <use x=\"111.230469\" xlink:href=\"#LiberationSans-30\"/>\n      </g>\n     </g>\n    </g>\n    <g id=\"xtick_7\">\n     <g id=\"line2d_13\">\n      <path clip-path=\"url(#p4c4a5f0d33)\" d=\"M 258.334686 309.424982 \nL 258.334686 10.444982 \n\" style=\"fill:none;stroke:#ffffff;stroke-linecap:round;\"/>\n     </g>\n     <g id=\"line2d_14\"/>\n     <g id=\"text_7\">\n      <!-- 300 -->\n      <defs>\n       <path d=\"M 51.21875 19 \nQ 51.21875 14.265625 49.671875 10.546875 \nQ 48.140625 6.84375 45.1875 4.265625 \nQ 42.234375 1.703125 37.859375 0.359375 \nQ 33.5 -0.984375 27.875 -0.984375 \nQ 21.484375 -0.984375 17.109375 0.609375 \nQ 12.75 2.203125 9.90625 4.8125 \nQ 7.078125 7.421875 5.65625 10.765625 \nQ 4.25 14.109375 3.8125 17.671875 \nL 12.890625 18.5 \nQ 13.28125 15.765625 14.328125 13.515625 \nQ 15.375 11.28125 17.1875 9.671875 \nQ 19 8.0625 21.625 7.171875 \nQ 24.265625 6.296875 27.875 6.296875 \nQ 34.515625 6.296875 38.296875 9.5625 \nQ 42.09375 12.84375 42.09375 19.28125 \nQ 42.09375 23.09375 40.40625 25.40625 \nQ 38.71875 27.734375 36.203125 29.03125 \nQ 33.6875 30.328125 30.734375 30.765625 \nQ 27.78125 31.203125 25.296875 31.203125 \nL 20.3125 31.203125 \nL 20.3125 38.8125 \nL 25.09375 38.8125 \nQ 27.59375 38.8125 30.265625 39.328125 \nQ 32.953125 39.84375 35.171875 41.1875 \nQ 37.40625 42.53125 38.84375 44.828125 \nQ 40.28125 47.125 40.28125 50.6875 \nQ 40.28125 56.203125 37.03125 59.390625 \nQ 33.796875 62.59375 27.390625 62.59375 \nQ 21.578125 62.59375 17.984375 59.609375 \nQ 14.40625 56.640625 13.8125 51.21875 \nL 4.984375 51.90625 \nQ 5.515625 56.453125 7.46875 59.8125 \nQ 9.421875 63.1875 12.421875 65.40625 \nQ 15.4375 67.625 19.28125 68.71875 \nQ 23.140625 69.828125 27.484375 69.828125 \nQ 33.25 69.828125 37.390625 68.375 \nQ 41.546875 66.9375 44.1875 64.46875 \nQ 46.828125 62.015625 48.0625 58.6875 \nQ 49.3125 55.375 49.3125 51.609375 \nQ 49.3125 48.578125 48.484375 45.9375 \nQ 47.65625 43.3125 45.890625 41.203125 \nQ 44.140625 39.109375 41.421875 37.59375 \nQ 38.71875 36.078125 34.90625 35.296875 \nL 34.90625 35.109375 \nQ 39.0625 34.671875 42.140625 33.21875 \nQ 45.21875 31.78125 47.21875 29.625 \nQ 49.21875 27.484375 50.21875 24.75 \nQ 51.21875 22.015625 51.21875 19 \nz\n\" id=\"LiberationSans-33\"/>\n      </defs>\n      <g style=\"fill:#262626;\" transform=\"translate(249.99328 323.671857)scale(0.1 -0.1)\">\n       <use xlink:href=\"#LiberationSans-33\"/>\n       <use x=\"55.615234\" xlink:href=\"#LiberationSans-30\"/>\n       <use x=\"111.230469\" xlink:href=\"#LiberationSans-30\"/>\n      </g>\n     </g>\n    </g>\n   </g>\n   <g id=\"matplotlib.axis_2\">\n    <g id=\"ytick_1\">\n     <g id=\"line2d_15\">\n      <path clip-path=\"url(#p4c4a5f0d33)\" d=\"M 30.882813 10.823437 \nL 265.525344 10.823437 \n\" style=\"fill:none;stroke:#ffffff;stroke-linecap:round;\"/>\n     </g>\n     <g id=\"line2d_16\"/>\n     <g id=\"text_8\">\n      <!-- 0 -->\n      <g style=\"fill:#262626;\" transform=\"translate(18.321875 14.446875)scale(0.1 -0.1)\">\n       <use xlink:href=\"#LiberationSans-30\"/>\n      </g>\n     </g>\n    </g>\n    <g id=\"ytick_2\">\n     <g id=\"line2d_17\">\n      <path clip-path=\"url(#p4c4a5f0d33)\" d=\"M 30.882813 48.669007 \nL 265.525344 48.669007 \n\" style=\"fill:none;stroke:#ffffff;stroke-linecap:round;\"/>\n     </g>\n     <g id=\"line2d_18\"/>\n     <g id=\"text_9\">\n      <!-- 50 -->\n      <g style=\"fill:#262626;\" transform=\"translate(12.760938 52.292445)scale(0.1 -0.1)\">\n       <use xlink:href=\"#LiberationSans-35\"/>\n       <use x=\"55.615234\" xlink:href=\"#LiberationSans-30\"/>\n      </g>\n     </g>\n    </g>\n    <g id=\"ytick_3\">\n     <g id=\"line2d_19\">\n      <path clip-path=\"url(#p4c4a5f0d33)\" d=\"M 30.882813 86.514577 \nL 265.525344 86.514577 \n\" style=\"fill:none;stroke:#ffffff;stroke-linecap:round;\"/>\n     </g>\n     <g id=\"line2d_20\"/>\n     <g id=\"text_10\">\n      <!-- 100 -->\n      <g style=\"fill:#262626;\" transform=\"translate(7.2 90.138014)scale(0.1 -0.1)\">\n       <use xlink:href=\"#LiberationSans-31\"/>\n       <use x=\"55.615234\" xlink:href=\"#LiberationSans-30\"/>\n       <use x=\"111.230469\" xlink:href=\"#LiberationSans-30\"/>\n      </g>\n     </g>\n    </g>\n    <g id=\"ytick_4\">\n     <g id=\"line2d_21\">\n      <path clip-path=\"url(#p4c4a5f0d33)\" d=\"M 30.882813 124.360146 \nL 265.525344 124.360146 \n\" style=\"fill:none;stroke:#ffffff;stroke-linecap:round;\"/>\n     </g>\n     <g id=\"line2d_22\"/>\n     <g id=\"text_11\">\n      <!-- 150 -->\n      <g style=\"fill:#262626;\" transform=\"translate(7.2 127.983584)scale(0.1 -0.1)\">\n       <use xlink:href=\"#LiberationSans-31\"/>\n       <use x=\"55.615234\" xlink:href=\"#LiberationSans-35\"/>\n       <use x=\"111.230469\" xlink:href=\"#LiberationSans-30\"/>\n      </g>\n     </g>\n    </g>\n    <g id=\"ytick_5\">\n     <g id=\"line2d_23\">\n      <path clip-path=\"url(#p4c4a5f0d33)\" d=\"M 30.882813 162.205716 \nL 265.525344 162.205716 \n\" style=\"fill:none;stroke:#ffffff;stroke-linecap:round;\"/>\n     </g>\n     <g id=\"line2d_24\"/>\n     <g id=\"text_12\">\n      <!-- 200 -->\n      <g style=\"fill:#262626;\" transform=\"translate(7.2 165.829153)scale(0.1 -0.1)\">\n       <use xlink:href=\"#LiberationSans-32\"/>\n       <use x=\"55.615234\" xlink:href=\"#LiberationSans-30\"/>\n       <use x=\"111.230469\" xlink:href=\"#LiberationSans-30\"/>\n      </g>\n     </g>\n    </g>\n    <g id=\"ytick_6\">\n     <g id=\"line2d_25\">\n      <path clip-path=\"url(#p4c4a5f0d33)\" d=\"M 30.882813 200.051286 \nL 265.525344 200.051286 \n\" style=\"fill:none;stroke:#ffffff;stroke-linecap:round;\"/>\n     </g>\n     <g id=\"line2d_26\"/>\n     <g id=\"text_13\">\n      <!-- 250 -->\n      <g style=\"fill:#262626;\" transform=\"translate(7.2 203.674723)scale(0.1 -0.1)\">\n       <use xlink:href=\"#LiberationSans-32\"/>\n       <use x=\"55.615234\" xlink:href=\"#LiberationSans-35\"/>\n       <use x=\"111.230469\" xlink:href=\"#LiberationSans-30\"/>\n      </g>\n     </g>\n    </g>\n    <g id=\"ytick_7\">\n     <g id=\"line2d_27\">\n      <path clip-path=\"url(#p4c4a5f0d33)\" d=\"M 30.882813 237.896855 \nL 265.525344 237.896855 \n\" style=\"fill:none;stroke:#ffffff;stroke-linecap:round;\"/>\n     </g>\n     <g id=\"line2d_28\"/>\n     <g id=\"text_14\">\n      <!-- 300 -->\n      <g style=\"fill:#262626;\" transform=\"translate(7.2 241.520293)scale(0.1 -0.1)\">\n       <use xlink:href=\"#LiberationSans-33\"/>\n       <use x=\"55.615234\" xlink:href=\"#LiberationSans-30\"/>\n       <use x=\"111.230469\" xlink:href=\"#LiberationSans-30\"/>\n      </g>\n     </g>\n    </g>\n    <g id=\"ytick_8\">\n     <g id=\"line2d_29\">\n      <path clip-path=\"url(#p4c4a5f0d33)\" d=\"M 30.882813 275.742425 \nL 265.525344 275.742425 \n\" style=\"fill:none;stroke:#ffffff;stroke-linecap:round;\"/>\n     </g>\n     <g id=\"line2d_30\"/>\n     <g id=\"text_15\">\n      <!-- 350 -->\n      <g style=\"fill:#262626;\" transform=\"translate(7.2 279.365862)scale(0.1 -0.1)\">\n       <use xlink:href=\"#LiberationSans-33\"/>\n       <use x=\"55.615234\" xlink:href=\"#LiberationSans-35\"/>\n       <use x=\"111.230469\" xlink:href=\"#LiberationSans-30\"/>\n      </g>\n     </g>\n    </g>\n   </g>\n   <g id=\"patch_3\">\n    <path d=\"M 30.882813 309.424982 \nL 30.882813 10.444982 \n\" style=\"fill:none;\"/>\n   </g>\n   <g id=\"patch_4\">\n    <path d=\"M 265.525344 309.424982 \nL 265.525344 10.444982 \n\" style=\"fill:none;\"/>\n   </g>\n   <g id=\"patch_5\">\n    <path d=\"M 30.882813 309.424982 \nL 265.525344 309.424982 \n\" style=\"fill:none;\"/>\n   </g>\n   <g id=\"patch_6\">\n    <path d=\"M 30.882813 10.444982 \nL 265.525344 10.444982 \n\" style=\"fill:none;\"/>\n   </g>\n  </g>\n </g>\n <defs>\n  <clipPath id=\"p4c4a5f0d33\">\n   <rect height=\"298.98\" width=\"234.642532\" x=\"30.882813\" y=\"10.444982\"/>\n  </clipPath>\n </defs>\n</svg>\n"
          },
          "metadata": {
            "tags": []
          }
        }
      ]
    },
    {
      "metadata": {
        "id": "Fjh_axXKMb25",
        "colab_type": "code",
        "colab": {
          "base_uri": "https://localhost:8080/",
          "height": 34
        },
        "outputId": "6be06bb8-d657-4e36-a7a3-b79914927789"
      },
      "cell_type": "code",
      "source": [
        "tl "
      ],
      "execution_count": 100,
      "outputs": [
        {
          "output_type": "execute_result",
          "data": {
            "text/plain": [
              "(68, 16)"
            ]
          },
          "metadata": {
            "tags": []
          },
          "execution_count": 100
        }
      ]
    },
    {
      "metadata": {
        "id": "8HJv0e9INMxp",
        "colab_type": "code",
        "colab": {
          "base_uri": "https://localhost:8080/",
          "height": 34
        },
        "outputId": "1be4acea-8923-49a6-f9ea-daf65eec47d0"
      },
      "cell_type": "code",
      "source": [
        "br"
      ],
      "execution_count": 101,
      "outputs": [
        {
          "output_type": "execute_result",
          "data": {
            "text/plain": [
              "(303, 378)"
            ]
          },
          "metadata": {
            "tags": []
          },
          "execution_count": 101
        }
      ]
    },
    {
      "metadata": {
        "id": "2v7V7h1RNR3r",
        "colab_type": "code",
        "colab": {}
      },
      "cell_type": "code",
      "source": [
        ""
      ],
      "execution_count": 0,
      "outputs": []
    },
    {
      "metadata": {
        "id": "A8VxOMspPONo",
        "colab_type": "text"
      },
      "cell_type": "markdown",
      "source": [
        "# Video YOLO"
      ]
    },
    {
      "metadata": {
        "id": "d_-rGWzCSVut",
        "colab_type": "text"
      },
      "cell_type": "markdown",
      "source": [
        "# New Section"
      ]
    },
    {
      "metadata": {
        "id": "JFbvOYjYPVO4",
        "colab_type": "code",
        "colab": {}
      },
      "cell_type": "code",
      "source": [
        "import cv2\n",
        "from darkflow.net.build import TFNet\n",
        "import numpy as np\n",
        "import time\n",
        "\n",
        "option = {\n",
        "    'model': 'cfg/yolo.cfg',\n",
        "    'load': 'bin/yolov2.weights',\n",
        "    'threshold': 0.15,\n",
        "    'gpu': 1.0\n",
        "}"
      ],
      "execution_count": 0,
      "outputs": []
    },
    {
      "metadata": {
        "id": "e3QpGztjPtR7",
        "colab_type": "code",
        "colab": {
          "base_uri": "https://localhost:8080/",
          "height": 816
        },
        "outputId": "52f323ce-15fc-43ce-a5ed-beb8c272e8ab"
      },
      "cell_type": "code",
      "source": [
        "tfnet = TFNet(option)"
      ],
      "execution_count": 110,
      "outputs": [
        {
          "output_type": "stream",
          "text": [
            "/content/darkflow/darkflow/dark/darknet.py:54: UserWarning: ./cfg/yolov2.cfg not found, use cfg/yolo.cfg instead\n",
            "  cfg_path, FLAGS.model))\n"
          ],
          "name": "stderr"
        },
        {
          "output_type": "stream",
          "text": [
            "Parsing cfg/yolo.cfg\n",
            "Loading bin/yolov2.weights ...\n",
            "Successfully identified 203934260 bytes\n",
            "Finished in 0.014882564544677734s\n",
            "Model has a coco model name, loading coco labels.\n",
            "\n",
            "Building net ...\n",
            "Source | Train? | Layer description                | Output size\n",
            "-------+--------+----------------------------------+---------------\n",
            "       |        | input                            | (?, 608, 608, 3)\n",
            " Load  |  Yep!  | conv 3x3p1_1  +bnorm  leaky      | (?, 608, 608, 32)\n",
            " Load  |  Yep!  | maxp 2x2p0_2                     | (?, 304, 304, 32)\n",
            " Load  |  Yep!  | conv 3x3p1_1  +bnorm  leaky      | (?, 304, 304, 64)\n",
            " Load  |  Yep!  | maxp 2x2p0_2                     | (?, 152, 152, 64)\n",
            " Load  |  Yep!  | conv 3x3p1_1  +bnorm  leaky      | (?, 152, 152, 128)\n",
            " Load  |  Yep!  | conv 1x1p0_1  +bnorm  leaky      | (?, 152, 152, 64)\n",
            " Load  |  Yep!  | conv 3x3p1_1  +bnorm  leaky      | (?, 152, 152, 128)\n",
            " Load  |  Yep!  | maxp 2x2p0_2                     | (?, 76, 76, 128)\n",
            " Load  |  Yep!  | conv 3x3p1_1  +bnorm  leaky      | (?, 76, 76, 256)\n",
            " Load  |  Yep!  | conv 1x1p0_1  +bnorm  leaky      | (?, 76, 76, 128)\n",
            " Load  |  Yep!  | conv 3x3p1_1  +bnorm  leaky      | (?, 76, 76, 256)\n",
            " Load  |  Yep!  | maxp 2x2p0_2                     | (?, 38, 38, 256)\n",
            " Load  |  Yep!  | conv 3x3p1_1  +bnorm  leaky      | (?, 38, 38, 512)\n",
            " Load  |  Yep!  | conv 1x1p0_1  +bnorm  leaky      | (?, 38, 38, 256)\n",
            " Load  |  Yep!  | conv 3x3p1_1  +bnorm  leaky      | (?, 38, 38, 512)\n",
            " Load  |  Yep!  | conv 1x1p0_1  +bnorm  leaky      | (?, 38, 38, 256)\n",
            " Load  |  Yep!  | conv 3x3p1_1  +bnorm  leaky      | (?, 38, 38, 512)\n",
            " Load  |  Yep!  | maxp 2x2p0_2                     | (?, 19, 19, 512)\n",
            " Load  |  Yep!  | conv 3x3p1_1  +bnorm  leaky      | (?, 19, 19, 1024)\n",
            " Load  |  Yep!  | conv 1x1p0_1  +bnorm  leaky      | (?, 19, 19, 512)\n",
            " Load  |  Yep!  | conv 3x3p1_1  +bnorm  leaky      | (?, 19, 19, 1024)\n",
            " Load  |  Yep!  | conv 1x1p0_1  +bnorm  leaky      | (?, 19, 19, 512)\n",
            " Load  |  Yep!  | conv 3x3p1_1  +bnorm  leaky      | (?, 19, 19, 1024)\n",
            " Load  |  Yep!  | conv 3x3p1_1  +bnorm  leaky      | (?, 19, 19, 1024)\n",
            " Load  |  Yep!  | conv 3x3p1_1  +bnorm  leaky      | (?, 19, 19, 1024)\n",
            " Load  |  Yep!  | concat [16]                      | (?, 38, 38, 512)\n",
            " Load  |  Yep!  | conv 1x1p0_1  +bnorm  leaky      | (?, 38, 38, 64)\n",
            " Load  |  Yep!  | local flatten 2x2                | (?, 19, 19, 256)\n",
            " Load  |  Yep!  | concat [27, 24]                  | (?, 19, 19, 1280)\n",
            " Load  |  Yep!  | conv 3x3p1_1  +bnorm  leaky      | (?, 19, 19, 1024)\n",
            " Load  |  Yep!  | conv 1x1p0_1    linear           | (?, 19, 19, 425)\n",
            "-------+--------+----------------------------------+---------------\n",
            "GPU mode with 1.0 usage\n",
            "Finished in 5.751670837402344s\n",
            "\n"
          ],
          "name": "stdout"
        }
      ]
    },
    {
      "metadata": {
        "id": "ps6_piWaPxPT",
        "colab_type": "code",
        "colab": {
          "base_uri": "https://localhost:8080/",
          "height": 34
        },
        "outputId": "1937a912-52ca-4960-89d5-6c7f0315fce4"
      },
      "cell_type": "code",
      "source": [
        "pwd"
      ],
      "execution_count": 106,
      "outputs": [
        {
          "output_type": "execute_result",
          "data": {
            "text/plain": [
              "'/content'"
            ]
          },
          "metadata": {
            "tags": []
          },
          "execution_count": 106
        }
      ]
    },
    {
      "metadata": {
        "id": "OWZ2vAM0P3fb",
        "colab_type": "code",
        "colab": {
          "base_uri": "https://localhost:8080/",
          "height": 34
        },
        "outputId": "eaf46b29-2815-4f11-8d78-fe8687fe8f10"
      },
      "cell_type": "code",
      "source": [
        "ls"
      ],
      "execution_count": 107,
      "outputs": [
        {
          "output_type": "stream",
          "text": [
            "\u001b[0m\u001b[01;34mdarkflow\u001b[0m/  dog.jfif  DOG.jpg  \u001b[01;34msample_data\u001b[0m/  videoplayback.mp4  yolov2.weights\n"
          ],
          "name": "stdout"
        }
      ]
    },
    {
      "metadata": {
        "id": "xFIkZTqlP49A",
        "colab_type": "code",
        "colab": {
          "base_uri": "https://localhost:8080/",
          "height": 34
        },
        "outputId": "1d7c2423-de51-4a08-c3e6-a2ace0bc15c0"
      },
      "cell_type": "code",
      "source": [
        "cd darkflow/"
      ],
      "execution_count": 108,
      "outputs": [
        {
          "output_type": "stream",
          "text": [
            "/content/darkflow\n"
          ],
          "name": "stdout"
        }
      ]
    },
    {
      "metadata": {
        "id": "lkEw7DmUP7iq",
        "colab_type": "code",
        "colab": {
          "base_uri": "https://localhost:8080/",
          "height": 68
        },
        "outputId": "1cbce051-bf5a-44dc-920b-690bba7efd9e"
      },
      "cell_type": "code",
      "source": [
        "!ls"
      ],
      "execution_count": 111,
      "outputs": [
        {
          "output_type": "stream",
          "text": [
            "bin    ckpt\t dog.jfif  labels.txt\tREADME.md   test\n",
            "build  darkflow  DOG.jpg   LICENSE\tsample_img  video.avi\n",
            "cfg    demo.gif  flow\t   preview.png\tsetup.py    videoplayback.mp4\n"
          ],
          "name": "stdout"
        }
      ]
    },
    {
      "metadata": {
        "id": "XHceKGYOQaSp",
        "colab_type": "code",
        "colab": {}
      },
      "cell_type": "code",
      "source": [
        "capture = cv2.VideoCapture('videoplayback.mp4')\n",
        "colors = [tuple(255 * np.random.rand(3)) for i in range(5)]"
      ],
      "execution_count": 0,
      "outputs": []
    },
    {
      "metadata": {
        "id": "CxVZtancQhQh",
        "colab_type": "code",
        "colab": {}
      },
      "cell_type": "code",
      "source": [
        "while (capture.isOpened()):\n",
        "    stime = time.time()\n",
        "    ret, frame = capture.read()\n",
        "    if ret:\n",
        "        results = tfnet.return_predict(frame)\n",
        "        for color, result in zip(colors, results):\n",
        "            tl = (result['topleft']['x'], result['topleft']['y'])\n",
        "            br = (result['bottomright']['x'], result['bottomright']['y'])\n",
        "            label = result['label']\n",
        "            frame = cv2.rectangle(frame, tl, br, color, 7)\n",
        "            frame = cv2.putText(frame, label, tl, cv2.FONT_HERSHEY_COMPLEX, 1, (0, 0, 0), 2)\n",
        "        cv2.imshow('frame', frame)\n",
        "        print('FPS {:.1f}'.format(1 / (time.time() - stime)))\n",
        "        if cv2.waitKey(1) & 0xFF == ord('q'):\n",
        "            break\n",
        "    else:\n",
        "        capture.release()\n",
        "        cv2.destroyAllWindows()\n",
        "        break"
      ],
      "execution_count": 0,
      "outputs": []
    },
    {
      "metadata": {
        "id": "RM3nKdsiQpvB",
        "colab_type": "code",
        "colab": {}
      },
      "cell_type": "code",
      "source": [
        ""
      ],
      "execution_count": 0,
      "outputs": []
    },
    {
      "metadata": {
        "id": "a_r2ouu6TA9U",
        "colab_type": "text"
      },
      "cell_type": "markdown",
      "source": [
        "# WEB CAM YOLO"
      ]
    },
    {
      "metadata": {
        "id": "E3CpP7QVTJFC",
        "colab_type": "code",
        "colab": {}
      },
      "cell_type": "code",
      "source": [
        ""
      ],
      "execution_count": 0,
      "outputs": []
    }
  ]
}